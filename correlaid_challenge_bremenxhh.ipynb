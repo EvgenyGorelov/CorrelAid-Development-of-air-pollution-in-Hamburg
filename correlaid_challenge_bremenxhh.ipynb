{
  "nbformat": 4,
  "nbformat_minor": 0,
  "metadata": {
    "kernelspec": {
      "display_name": "Python 3",
      "language": "python",
      "name": "python3"
    },
    "language_info": {
      "codemirror_mode": {
        "name": "ipython",
        "version": 3
      },
      "file_extension": ".py",
      "mimetype": "text/x-python",
      "name": "python",
      "nbconvert_exporter": "python",
      "pygments_lexer": "ipython3",
      "version": "3.7.4"
    },
    "colab": {
      "name": "correlaid_challenge_bremenxhh.ipynb",
      "provenance": []
    },
    "accelerator": "GPU",
    "widgets": {
      "application/vnd.jupyter.widget-state+json": {
        "cd2b78ae3902464db0b78424068d639e": {
          "model_module": "@jupyter-widgets/controls",
          "model_name": "HBoxModel",
          "model_module_version": "1.5.0",
          "state": {
            "_view_name": "HBoxView",
            "_dom_classes": [],
            "_model_name": "HBoxModel",
            "_view_module": "@jupyter-widgets/controls",
            "_model_module_version": "1.5.0",
            "_view_count": null,
            "_view_module_version": "1.5.0",
            "box_style": "",
            "layout": "IPY_MODEL_2ae2220b0e9c49d0af873a879f8c3ac6",
            "_model_module": "@jupyter-widgets/controls",
            "children": [
              "IPY_MODEL_c2e348be2526451f9e81ebddbf0aa6c2",
              "IPY_MODEL_b4b8c1c3b7354462bb792e7d358c59f2",
              "IPY_MODEL_9c197ca1627c448792a89dc5c744a796"
            ]
          }
        },
        "2ae2220b0e9c49d0af873a879f8c3ac6": {
          "model_module": "@jupyter-widgets/base",
          "model_name": "LayoutModel",
          "model_module_version": "1.2.0",
          "state": {
            "_view_name": "LayoutView",
            "grid_template_rows": null,
            "right": null,
            "justify_content": null,
            "_view_module": "@jupyter-widgets/base",
            "overflow": null,
            "_model_module_version": "1.2.0",
            "_view_count": null,
            "flex_flow": null,
            "width": null,
            "min_width": null,
            "border": null,
            "align_items": null,
            "bottom": null,
            "_model_module": "@jupyter-widgets/base",
            "top": null,
            "grid_column": null,
            "overflow_y": null,
            "overflow_x": null,
            "grid_auto_flow": null,
            "grid_area": null,
            "grid_template_columns": null,
            "flex": null,
            "_model_name": "LayoutModel",
            "justify_items": null,
            "grid_row": null,
            "max_height": null,
            "align_content": null,
            "visibility": null,
            "align_self": null,
            "height": null,
            "min_height": null,
            "padding": null,
            "grid_auto_rows": null,
            "grid_gap": null,
            "max_width": null,
            "order": null,
            "_view_module_version": "1.2.0",
            "grid_template_areas": null,
            "object_position": null,
            "object_fit": null,
            "grid_auto_columns": null,
            "margin": null,
            "display": null,
            "left": null
          }
        },
        "c2e348be2526451f9e81ebddbf0aa6c2": {
          "model_module": "@jupyter-widgets/controls",
          "model_name": "HTMLModel",
          "model_module_version": "1.5.0",
          "state": {
            "_view_name": "HTMLView",
            "style": "IPY_MODEL_24dc75c20ad04f2dbe6d9fb09e57f246",
            "_dom_classes": [],
            "description": "",
            "_model_name": "HTMLModel",
            "placeholder": "​",
            "_view_module": "@jupyter-widgets/controls",
            "_model_module_version": "1.5.0",
            "value": "Downloading: 100%",
            "_view_count": null,
            "_view_module_version": "1.5.0",
            "description_tooltip": null,
            "_model_module": "@jupyter-widgets/controls",
            "layout": "IPY_MODEL_a28c12821e99482f9a418a0cb9bcd3f9"
          }
        },
        "b4b8c1c3b7354462bb792e7d358c59f2": {
          "model_module": "@jupyter-widgets/controls",
          "model_name": "FloatProgressModel",
          "model_module_version": "1.5.0",
          "state": {
            "_view_name": "ProgressView",
            "style": "IPY_MODEL_f011d087b0214a7482825c1314e455df",
            "_dom_classes": [],
            "description": "",
            "_model_name": "FloatProgressModel",
            "bar_style": "success",
            "max": 491,
            "_view_module": "@jupyter-widgets/controls",
            "_model_module_version": "1.5.0",
            "value": 491,
            "_view_count": null,
            "_view_module_version": "1.5.0",
            "orientation": "horizontal",
            "min": 0,
            "description_tooltip": null,
            "_model_module": "@jupyter-widgets/controls",
            "layout": "IPY_MODEL_00235414dd654d6a8a6f959baa98ba75"
          }
        },
        "9c197ca1627c448792a89dc5c744a796": {
          "model_module": "@jupyter-widgets/controls",
          "model_name": "HTMLModel",
          "model_module_version": "1.5.0",
          "state": {
            "_view_name": "HTMLView",
            "style": "IPY_MODEL_1c09250c9219401883b3134a3af85d02",
            "_dom_classes": [],
            "description": "",
            "_model_name": "HTMLModel",
            "placeholder": "​",
            "_view_module": "@jupyter-widgets/controls",
            "_model_module_version": "1.5.0",
            "value": " 491/491 [00:00&lt;00:00, 11.2kB/s]",
            "_view_count": null,
            "_view_module_version": "1.5.0",
            "description_tooltip": null,
            "_model_module": "@jupyter-widgets/controls",
            "layout": "IPY_MODEL_0e45e9eea2b44189a51cfd349b6280fc"
          }
        },
        "24dc75c20ad04f2dbe6d9fb09e57f246": {
          "model_module": "@jupyter-widgets/controls",
          "model_name": "DescriptionStyleModel",
          "model_module_version": "1.5.0",
          "state": {
            "_view_name": "StyleView",
            "_model_name": "DescriptionStyleModel",
            "description_width": "",
            "_view_module": "@jupyter-widgets/base",
            "_model_module_version": "1.5.0",
            "_view_count": null,
            "_view_module_version": "1.2.0",
            "_model_module": "@jupyter-widgets/controls"
          }
        },
        "a28c12821e99482f9a418a0cb9bcd3f9": {
          "model_module": "@jupyter-widgets/base",
          "model_name": "LayoutModel",
          "model_module_version": "1.2.0",
          "state": {
            "_view_name": "LayoutView",
            "grid_template_rows": null,
            "right": null,
            "justify_content": null,
            "_view_module": "@jupyter-widgets/base",
            "overflow": null,
            "_model_module_version": "1.2.0",
            "_view_count": null,
            "flex_flow": null,
            "width": null,
            "min_width": null,
            "border": null,
            "align_items": null,
            "bottom": null,
            "_model_module": "@jupyter-widgets/base",
            "top": null,
            "grid_column": null,
            "overflow_y": null,
            "overflow_x": null,
            "grid_auto_flow": null,
            "grid_area": null,
            "grid_template_columns": null,
            "flex": null,
            "_model_name": "LayoutModel",
            "justify_items": null,
            "grid_row": null,
            "max_height": null,
            "align_content": null,
            "visibility": null,
            "align_self": null,
            "height": null,
            "min_height": null,
            "padding": null,
            "grid_auto_rows": null,
            "grid_gap": null,
            "max_width": null,
            "order": null,
            "_view_module_version": "1.2.0",
            "grid_template_areas": null,
            "object_position": null,
            "object_fit": null,
            "grid_auto_columns": null,
            "margin": null,
            "display": null,
            "left": null
          }
        },
        "f011d087b0214a7482825c1314e455df": {
          "model_module": "@jupyter-widgets/controls",
          "model_name": "ProgressStyleModel",
          "model_module_version": "1.5.0",
          "state": {
            "_view_name": "StyleView",
            "_model_name": "ProgressStyleModel",
            "description_width": "",
            "_view_module": "@jupyter-widgets/base",
            "_model_module_version": "1.5.0",
            "_view_count": null,
            "_view_module_version": "1.2.0",
            "bar_color": null,
            "_model_module": "@jupyter-widgets/controls"
          }
        },
        "00235414dd654d6a8a6f959baa98ba75": {
          "model_module": "@jupyter-widgets/base",
          "model_name": "LayoutModel",
          "model_module_version": "1.2.0",
          "state": {
            "_view_name": "LayoutView",
            "grid_template_rows": null,
            "right": null,
            "justify_content": null,
            "_view_module": "@jupyter-widgets/base",
            "overflow": null,
            "_model_module_version": "1.2.0",
            "_view_count": null,
            "flex_flow": null,
            "width": null,
            "min_width": null,
            "border": null,
            "align_items": null,
            "bottom": null,
            "_model_module": "@jupyter-widgets/base",
            "top": null,
            "grid_column": null,
            "overflow_y": null,
            "overflow_x": null,
            "grid_auto_flow": null,
            "grid_area": null,
            "grid_template_columns": null,
            "flex": null,
            "_model_name": "LayoutModel",
            "justify_items": null,
            "grid_row": null,
            "max_height": null,
            "align_content": null,
            "visibility": null,
            "align_self": null,
            "height": null,
            "min_height": null,
            "padding": null,
            "grid_auto_rows": null,
            "grid_gap": null,
            "max_width": null,
            "order": null,
            "_view_module_version": "1.2.0",
            "grid_template_areas": null,
            "object_position": null,
            "object_fit": null,
            "grid_auto_columns": null,
            "margin": null,
            "display": null,
            "left": null
          }
        },
        "1c09250c9219401883b3134a3af85d02": {
          "model_module": "@jupyter-widgets/controls",
          "model_name": "DescriptionStyleModel",
          "model_module_version": "1.5.0",
          "state": {
            "_view_name": "StyleView",
            "_model_name": "DescriptionStyleModel",
            "description_width": "",
            "_view_module": "@jupyter-widgets/base",
            "_model_module_version": "1.5.0",
            "_view_count": null,
            "_view_module_version": "1.2.0",
            "_model_module": "@jupyter-widgets/controls"
          }
        },
        "0e45e9eea2b44189a51cfd349b6280fc": {
          "model_module": "@jupyter-widgets/base",
          "model_name": "LayoutModel",
          "model_module_version": "1.2.0",
          "state": {
            "_view_name": "LayoutView",
            "grid_template_rows": null,
            "right": null,
            "justify_content": null,
            "_view_module": "@jupyter-widgets/base",
            "overflow": null,
            "_model_module_version": "1.2.0",
            "_view_count": null,
            "flex_flow": null,
            "width": null,
            "min_width": null,
            "border": null,
            "align_items": null,
            "bottom": null,
            "_model_module": "@jupyter-widgets/base",
            "top": null,
            "grid_column": null,
            "overflow_y": null,
            "overflow_x": null,
            "grid_auto_flow": null,
            "grid_area": null,
            "grid_template_columns": null,
            "flex": null,
            "_model_name": "LayoutModel",
            "justify_items": null,
            "grid_row": null,
            "max_height": null,
            "align_content": null,
            "visibility": null,
            "align_self": null,
            "height": null,
            "min_height": null,
            "padding": null,
            "grid_auto_rows": null,
            "grid_gap": null,
            "max_width": null,
            "order": null,
            "_view_module_version": "1.2.0",
            "grid_template_areas": null,
            "object_position": null,
            "object_fit": null,
            "grid_auto_columns": null,
            "margin": null,
            "display": null,
            "left": null
          }
        },
        "10d40d35b60b4cd78ae2f6ec4cdf93db": {
          "model_module": "@jupyter-widgets/controls",
          "model_name": "HBoxModel",
          "model_module_version": "1.5.0",
          "state": {
            "_view_name": "HBoxView",
            "_dom_classes": [],
            "_model_name": "HBoxModel",
            "_view_module": "@jupyter-widgets/controls",
            "_model_module_version": "1.5.0",
            "_view_count": null,
            "_view_module_version": "1.5.0",
            "box_style": "",
            "layout": "IPY_MODEL_327fcc0bce99425cbd855971a9026417",
            "_model_module": "@jupyter-widgets/controls",
            "children": [
              "IPY_MODEL_eda9b00d16ba43a4a02047d2419e2f3f",
              "IPY_MODEL_b81f8725e8fb4551a02cd31bafad9582",
              "IPY_MODEL_12f6157a7c9f4c98a4abce5147b93ebd"
            ]
          }
        },
        "327fcc0bce99425cbd855971a9026417": {
          "model_module": "@jupyter-widgets/base",
          "model_name": "LayoutModel",
          "model_module_version": "1.2.0",
          "state": {
            "_view_name": "LayoutView",
            "grid_template_rows": null,
            "right": null,
            "justify_content": null,
            "_view_module": "@jupyter-widgets/base",
            "overflow": null,
            "_model_module_version": "1.2.0",
            "_view_count": null,
            "flex_flow": null,
            "width": null,
            "min_width": null,
            "border": null,
            "align_items": null,
            "bottom": null,
            "_model_module": "@jupyter-widgets/base",
            "top": null,
            "grid_column": null,
            "overflow_y": null,
            "overflow_x": null,
            "grid_auto_flow": null,
            "grid_area": null,
            "grid_template_columns": null,
            "flex": null,
            "_model_name": "LayoutModel",
            "justify_items": null,
            "grid_row": null,
            "max_height": null,
            "align_content": null,
            "visibility": null,
            "align_self": null,
            "height": null,
            "min_height": null,
            "padding": null,
            "grid_auto_rows": null,
            "grid_gap": null,
            "max_width": null,
            "order": null,
            "_view_module_version": "1.2.0",
            "grid_template_areas": null,
            "object_position": null,
            "object_fit": null,
            "grid_auto_columns": null,
            "margin": null,
            "display": null,
            "left": null
          }
        },
        "eda9b00d16ba43a4a02047d2419e2f3f": {
          "model_module": "@jupyter-widgets/controls",
          "model_name": "HTMLModel",
          "model_module_version": "1.5.0",
          "state": {
            "_view_name": "HTMLView",
            "style": "IPY_MODEL_8dddb07b3cf841fd9af8d6f6c9b6e53c",
            "_dom_classes": [],
            "description": "",
            "_model_name": "HTMLModel",
            "placeholder": "​",
            "_view_module": "@jupyter-widgets/controls",
            "_model_module_version": "1.5.0",
            "value": "Downloading: 100%",
            "_view_count": null,
            "_view_module_version": "1.5.0",
            "description_tooltip": null,
            "_model_module": "@jupyter-widgets/controls",
            "layout": "IPY_MODEL_f7a67a3455934187a929c1609c234c46"
          }
        },
        "b81f8725e8fb4551a02cd31bafad9582": {
          "model_module": "@jupyter-widgets/controls",
          "model_name": "FloatProgressModel",
          "model_module_version": "1.5.0",
          "state": {
            "_view_name": "ProgressView",
            "style": "IPY_MODEL_d9bcea86c7f44813a66de3b817a7c852",
            "_dom_classes": [],
            "description": "",
            "_model_name": "FloatProgressModel",
            "bar_style": "success",
            "max": 545136632,
            "_view_module": "@jupyter-widgets/controls",
            "_model_module_version": "1.5.0",
            "value": 545136632,
            "_view_count": null,
            "_view_module_version": "1.5.0",
            "orientation": "horizontal",
            "min": 0,
            "description_tooltip": null,
            "_model_module": "@jupyter-widgets/controls",
            "layout": "IPY_MODEL_f183e1e934634be995b38da5fd37f8f7"
          }
        },
        "12f6157a7c9f4c98a4abce5147b93ebd": {
          "model_module": "@jupyter-widgets/controls",
          "model_name": "HTMLModel",
          "model_module_version": "1.5.0",
          "state": {
            "_view_name": "HTMLView",
            "style": "IPY_MODEL_3166a2abf5b3492ead02774ffee2cbde",
            "_dom_classes": [],
            "description": "",
            "_model_name": "HTMLModel",
            "placeholder": "​",
            "_view_module": "@jupyter-widgets/controls",
            "_model_module_version": "1.5.0",
            "value": " 520M/520M [00:17&lt;00:00, 30.3MB/s]",
            "_view_count": null,
            "_view_module_version": "1.5.0",
            "description_tooltip": null,
            "_model_module": "@jupyter-widgets/controls",
            "layout": "IPY_MODEL_e063771c2110437fb24a2fbf5d559447"
          }
        },
        "8dddb07b3cf841fd9af8d6f6c9b6e53c": {
          "model_module": "@jupyter-widgets/controls",
          "model_name": "DescriptionStyleModel",
          "model_module_version": "1.5.0",
          "state": {
            "_view_name": "StyleView",
            "_model_name": "DescriptionStyleModel",
            "description_width": "",
            "_view_module": "@jupyter-widgets/base",
            "_model_module_version": "1.5.0",
            "_view_count": null,
            "_view_module_version": "1.2.0",
            "_model_module": "@jupyter-widgets/controls"
          }
        },
        "f7a67a3455934187a929c1609c234c46": {
          "model_module": "@jupyter-widgets/base",
          "model_name": "LayoutModel",
          "model_module_version": "1.2.0",
          "state": {
            "_view_name": "LayoutView",
            "grid_template_rows": null,
            "right": null,
            "justify_content": null,
            "_view_module": "@jupyter-widgets/base",
            "overflow": null,
            "_model_module_version": "1.2.0",
            "_view_count": null,
            "flex_flow": null,
            "width": null,
            "min_width": null,
            "border": null,
            "align_items": null,
            "bottom": null,
            "_model_module": "@jupyter-widgets/base",
            "top": null,
            "grid_column": null,
            "overflow_y": null,
            "overflow_x": null,
            "grid_auto_flow": null,
            "grid_area": null,
            "grid_template_columns": null,
            "flex": null,
            "_model_name": "LayoutModel",
            "justify_items": null,
            "grid_row": null,
            "max_height": null,
            "align_content": null,
            "visibility": null,
            "align_self": null,
            "height": null,
            "min_height": null,
            "padding": null,
            "grid_auto_rows": null,
            "grid_gap": null,
            "max_width": null,
            "order": null,
            "_view_module_version": "1.2.0",
            "grid_template_areas": null,
            "object_position": null,
            "object_fit": null,
            "grid_auto_columns": null,
            "margin": null,
            "display": null,
            "left": null
          }
        },
        "d9bcea86c7f44813a66de3b817a7c852": {
          "model_module": "@jupyter-widgets/controls",
          "model_name": "ProgressStyleModel",
          "model_module_version": "1.5.0",
          "state": {
            "_view_name": "StyleView",
            "_model_name": "ProgressStyleModel",
            "description_width": "",
            "_view_module": "@jupyter-widgets/base",
            "_model_module_version": "1.5.0",
            "_view_count": null,
            "_view_module_version": "1.2.0",
            "bar_color": null,
            "_model_module": "@jupyter-widgets/controls"
          }
        },
        "f183e1e934634be995b38da5fd37f8f7": {
          "model_module": "@jupyter-widgets/base",
          "model_name": "LayoutModel",
          "model_module_version": "1.2.0",
          "state": {
            "_view_name": "LayoutView",
            "grid_template_rows": null,
            "right": null,
            "justify_content": null,
            "_view_module": "@jupyter-widgets/base",
            "overflow": null,
            "_model_module_version": "1.2.0",
            "_view_count": null,
            "flex_flow": null,
            "width": null,
            "min_width": null,
            "border": null,
            "align_items": null,
            "bottom": null,
            "_model_module": "@jupyter-widgets/base",
            "top": null,
            "grid_column": null,
            "overflow_y": null,
            "overflow_x": null,
            "grid_auto_flow": null,
            "grid_area": null,
            "grid_template_columns": null,
            "flex": null,
            "_model_name": "LayoutModel",
            "justify_items": null,
            "grid_row": null,
            "max_height": null,
            "align_content": null,
            "visibility": null,
            "align_self": null,
            "height": null,
            "min_height": null,
            "padding": null,
            "grid_auto_rows": null,
            "grid_gap": null,
            "max_width": null,
            "order": null,
            "_view_module_version": "1.2.0",
            "grid_template_areas": null,
            "object_position": null,
            "object_fit": null,
            "grid_auto_columns": null,
            "margin": null,
            "display": null,
            "left": null
          }
        },
        "3166a2abf5b3492ead02774ffee2cbde": {
          "model_module": "@jupyter-widgets/controls",
          "model_name": "DescriptionStyleModel",
          "model_module_version": "1.5.0",
          "state": {
            "_view_name": "StyleView",
            "_model_name": "DescriptionStyleModel",
            "description_width": "",
            "_view_module": "@jupyter-widgets/base",
            "_model_module_version": "1.5.0",
            "_view_count": null,
            "_view_module_version": "1.2.0",
            "_model_module": "@jupyter-widgets/controls"
          }
        },
        "e063771c2110437fb24a2fbf5d559447": {
          "model_module": "@jupyter-widgets/base",
          "model_name": "LayoutModel",
          "model_module_version": "1.2.0",
          "state": {
            "_view_name": "LayoutView",
            "grid_template_rows": null,
            "right": null,
            "justify_content": null,
            "_view_module": "@jupyter-widgets/base",
            "overflow": null,
            "_model_module_version": "1.2.0",
            "_view_count": null,
            "flex_flow": null,
            "width": null,
            "min_width": null,
            "border": null,
            "align_items": null,
            "bottom": null,
            "_model_module": "@jupyter-widgets/base",
            "top": null,
            "grid_column": null,
            "overflow_y": null,
            "overflow_x": null,
            "grid_auto_flow": null,
            "grid_area": null,
            "grid_template_columns": null,
            "flex": null,
            "_model_name": "LayoutModel",
            "justify_items": null,
            "grid_row": null,
            "max_height": null,
            "align_content": null,
            "visibility": null,
            "align_self": null,
            "height": null,
            "min_height": null,
            "padding": null,
            "grid_auto_rows": null,
            "grid_gap": null,
            "max_width": null,
            "order": null,
            "_view_module_version": "1.2.0",
            "grid_template_areas": null,
            "object_position": null,
            "object_fit": null,
            "grid_auto_columns": null,
            "margin": null,
            "display": null,
            "left": null
          }
        },
        "bcfd4f887d8148d1af64dd42d72ae196": {
          "model_module": "@jupyter-widgets/controls",
          "model_name": "HBoxModel",
          "model_module_version": "1.5.0",
          "state": {
            "_view_name": "HBoxView",
            "_dom_classes": [],
            "_model_name": "HBoxModel",
            "_view_module": "@jupyter-widgets/controls",
            "_model_module_version": "1.5.0",
            "_view_count": null,
            "_view_module_version": "1.5.0",
            "box_style": "",
            "layout": "IPY_MODEL_da49237e6fc0425d93e1aabc78bc1c34",
            "_model_module": "@jupyter-widgets/controls",
            "children": [
              "IPY_MODEL_82bd294b8da940f4a254f0e5b5f6baa2",
              "IPY_MODEL_9b205e5716d048a69fb7e4b8b85bea3a",
              "IPY_MODEL_328d715135124021aca080570bb89c07"
            ]
          }
        },
        "da49237e6fc0425d93e1aabc78bc1c34": {
          "model_module": "@jupyter-widgets/base",
          "model_name": "LayoutModel",
          "model_module_version": "1.2.0",
          "state": {
            "_view_name": "LayoutView",
            "grid_template_rows": null,
            "right": null,
            "justify_content": null,
            "_view_module": "@jupyter-widgets/base",
            "overflow": null,
            "_model_module_version": "1.2.0",
            "_view_count": null,
            "flex_flow": null,
            "width": null,
            "min_width": null,
            "border": null,
            "align_items": null,
            "bottom": null,
            "_model_module": "@jupyter-widgets/base",
            "top": null,
            "grid_column": null,
            "overflow_y": null,
            "overflow_x": null,
            "grid_auto_flow": null,
            "grid_area": null,
            "grid_template_columns": null,
            "flex": null,
            "_model_name": "LayoutModel",
            "justify_items": null,
            "grid_row": null,
            "max_height": null,
            "align_content": null,
            "visibility": null,
            "align_self": null,
            "height": null,
            "min_height": null,
            "padding": null,
            "grid_auto_rows": null,
            "grid_gap": null,
            "max_width": null,
            "order": null,
            "_view_module_version": "1.2.0",
            "grid_template_areas": null,
            "object_position": null,
            "object_fit": null,
            "grid_auto_columns": null,
            "margin": null,
            "display": null,
            "left": null
          }
        },
        "82bd294b8da940f4a254f0e5b5f6baa2": {
          "model_module": "@jupyter-widgets/controls",
          "model_name": "HTMLModel",
          "model_module_version": "1.5.0",
          "state": {
            "_view_name": "HTMLView",
            "style": "IPY_MODEL_390dbfa1fa864359a9f78c18b97ab87a",
            "_dom_classes": [],
            "description": "",
            "_model_name": "HTMLModel",
            "placeholder": "​",
            "_view_module": "@jupyter-widgets/controls",
            "_model_module_version": "1.5.0",
            "value": "Downloading: 100%",
            "_view_count": null,
            "_view_module_version": "1.5.0",
            "description_tooltip": null,
            "_model_module": "@jupyter-widgets/controls",
            "layout": "IPY_MODEL_5e718f1ba4114675b69c58f80dd53b30"
          }
        },
        "9b205e5716d048a69fb7e4b8b85bea3a": {
          "model_module": "@jupyter-widgets/controls",
          "model_name": "FloatProgressModel",
          "model_module_version": "1.5.0",
          "state": {
            "_view_name": "ProgressView",
            "style": "IPY_MODEL_f51d05860da5425198d56d2d52680b44",
            "_dom_classes": [],
            "description": "",
            "_model_name": "FloatProgressModel",
            "bar_style": "success",
            "max": 333770,
            "_view_module": "@jupyter-widgets/controls",
            "_model_module_version": "1.5.0",
            "value": 333770,
            "_view_count": null,
            "_view_module_version": "1.5.0",
            "orientation": "horizontal",
            "min": 0,
            "description_tooltip": null,
            "_model_module": "@jupyter-widgets/controls",
            "layout": "IPY_MODEL_73240a13769e41f7a4be34df836579cb"
          }
        },
        "328d715135124021aca080570bb89c07": {
          "model_module": "@jupyter-widgets/controls",
          "model_name": "HTMLModel",
          "model_module_version": "1.5.0",
          "state": {
            "_view_name": "HTMLView",
            "style": "IPY_MODEL_922b0888a86f44629b0af110bd5b4d26",
            "_dom_classes": [],
            "description": "",
            "_model_name": "HTMLModel",
            "placeholder": "​",
            "_view_module": "@jupyter-widgets/controls",
            "_model_module_version": "1.5.0",
            "value": " 326k/326k [00:00&lt;00:00, 1.07MB/s]",
            "_view_count": null,
            "_view_module_version": "1.5.0",
            "description_tooltip": null,
            "_model_module": "@jupyter-widgets/controls",
            "layout": "IPY_MODEL_73af4c572d9448ee85574f44a7741898"
          }
        },
        "390dbfa1fa864359a9f78c18b97ab87a": {
          "model_module": "@jupyter-widgets/controls",
          "model_name": "DescriptionStyleModel",
          "model_module_version": "1.5.0",
          "state": {
            "_view_name": "StyleView",
            "_model_name": "DescriptionStyleModel",
            "description_width": "",
            "_view_module": "@jupyter-widgets/base",
            "_model_module_version": "1.5.0",
            "_view_count": null,
            "_view_module_version": "1.2.0",
            "_model_module": "@jupyter-widgets/controls"
          }
        },
        "5e718f1ba4114675b69c58f80dd53b30": {
          "model_module": "@jupyter-widgets/base",
          "model_name": "LayoutModel",
          "model_module_version": "1.2.0",
          "state": {
            "_view_name": "LayoutView",
            "grid_template_rows": null,
            "right": null,
            "justify_content": null,
            "_view_module": "@jupyter-widgets/base",
            "overflow": null,
            "_model_module_version": "1.2.0",
            "_view_count": null,
            "flex_flow": null,
            "width": null,
            "min_width": null,
            "border": null,
            "align_items": null,
            "bottom": null,
            "_model_module": "@jupyter-widgets/base",
            "top": null,
            "grid_column": null,
            "overflow_y": null,
            "overflow_x": null,
            "grid_auto_flow": null,
            "grid_area": null,
            "grid_template_columns": null,
            "flex": null,
            "_model_name": "LayoutModel",
            "justify_items": null,
            "grid_row": null,
            "max_height": null,
            "align_content": null,
            "visibility": null,
            "align_self": null,
            "height": null,
            "min_height": null,
            "padding": null,
            "grid_auto_rows": null,
            "grid_gap": null,
            "max_width": null,
            "order": null,
            "_view_module_version": "1.2.0",
            "grid_template_areas": null,
            "object_position": null,
            "object_fit": null,
            "grid_auto_columns": null,
            "margin": null,
            "display": null,
            "left": null
          }
        },
        "f51d05860da5425198d56d2d52680b44": {
          "model_module": "@jupyter-widgets/controls",
          "model_name": "ProgressStyleModel",
          "model_module_version": "1.5.0",
          "state": {
            "_view_name": "StyleView",
            "_model_name": "ProgressStyleModel",
            "description_width": "",
            "_view_module": "@jupyter-widgets/base",
            "_model_module_version": "1.5.0",
            "_view_count": null,
            "_view_module_version": "1.2.0",
            "bar_color": null,
            "_model_module": "@jupyter-widgets/controls"
          }
        },
        "73240a13769e41f7a4be34df836579cb": {
          "model_module": "@jupyter-widgets/base",
          "model_name": "LayoutModel",
          "model_module_version": "1.2.0",
          "state": {
            "_view_name": "LayoutView",
            "grid_template_rows": null,
            "right": null,
            "justify_content": null,
            "_view_module": "@jupyter-widgets/base",
            "overflow": null,
            "_model_module_version": "1.2.0",
            "_view_count": null,
            "flex_flow": null,
            "width": null,
            "min_width": null,
            "border": null,
            "align_items": null,
            "bottom": null,
            "_model_module": "@jupyter-widgets/base",
            "top": null,
            "grid_column": null,
            "overflow_y": null,
            "overflow_x": null,
            "grid_auto_flow": null,
            "grid_area": null,
            "grid_template_columns": null,
            "flex": null,
            "_model_name": "LayoutModel",
            "justify_items": null,
            "grid_row": null,
            "max_height": null,
            "align_content": null,
            "visibility": null,
            "align_self": null,
            "height": null,
            "min_height": null,
            "padding": null,
            "grid_auto_rows": null,
            "grid_gap": null,
            "max_width": null,
            "order": null,
            "_view_module_version": "1.2.0",
            "grid_template_areas": null,
            "object_position": null,
            "object_fit": null,
            "grid_auto_columns": null,
            "margin": null,
            "display": null,
            "left": null
          }
        },
        "922b0888a86f44629b0af110bd5b4d26": {
          "model_module": "@jupyter-widgets/controls",
          "model_name": "DescriptionStyleModel",
          "model_module_version": "1.5.0",
          "state": {
            "_view_name": "StyleView",
            "_model_name": "DescriptionStyleModel",
            "description_width": "",
            "_view_module": "@jupyter-widgets/base",
            "_model_module_version": "1.5.0",
            "_view_count": null,
            "_view_module_version": "1.2.0",
            "_model_module": "@jupyter-widgets/controls"
          }
        },
        "73af4c572d9448ee85574f44a7741898": {
          "model_module": "@jupyter-widgets/base",
          "model_name": "LayoutModel",
          "model_module_version": "1.2.0",
          "state": {
            "_view_name": "LayoutView",
            "grid_template_rows": null,
            "right": null,
            "justify_content": null,
            "_view_module": "@jupyter-widgets/base",
            "overflow": null,
            "_model_module_version": "1.2.0",
            "_view_count": null,
            "flex_flow": null,
            "width": null,
            "min_width": null,
            "border": null,
            "align_items": null,
            "bottom": null,
            "_model_module": "@jupyter-widgets/base",
            "top": null,
            "grid_column": null,
            "overflow_y": null,
            "overflow_x": null,
            "grid_auto_flow": null,
            "grid_area": null,
            "grid_template_columns": null,
            "flex": null,
            "_model_name": "LayoutModel",
            "justify_items": null,
            "grid_row": null,
            "max_height": null,
            "align_content": null,
            "visibility": null,
            "align_self": null,
            "height": null,
            "min_height": null,
            "padding": null,
            "grid_auto_rows": null,
            "grid_gap": null,
            "max_width": null,
            "order": null,
            "_view_module_version": "1.2.0",
            "grid_template_areas": null,
            "object_position": null,
            "object_fit": null,
            "grid_auto_columns": null,
            "margin": null,
            "display": null,
            "left": null
          }
        },
        "42c098ff2a7c46d4a52d624980384cd2": {
          "model_module": "@jupyter-widgets/controls",
          "model_name": "HBoxModel",
          "model_module_version": "1.5.0",
          "state": {
            "_view_name": "HBoxView",
            "_dom_classes": [],
            "_model_name": "HBoxModel",
            "_view_module": "@jupyter-widgets/controls",
            "_model_module_version": "1.5.0",
            "_view_count": null,
            "_view_module_version": "1.5.0",
            "box_style": "",
            "layout": "IPY_MODEL_74ae30532aa242178eb5c01262a740db",
            "_model_module": "@jupyter-widgets/controls",
            "children": [
              "IPY_MODEL_31d7859d9b8d484bb6778a89cb4283f2",
              "IPY_MODEL_08be14bcbcff43ecb102e95bf7557744",
              "IPY_MODEL_2e4db8d4b8b74205a68d39422b7b0919"
            ]
          }
        },
        "74ae30532aa242178eb5c01262a740db": {
          "model_module": "@jupyter-widgets/base",
          "model_name": "LayoutModel",
          "model_module_version": "1.2.0",
          "state": {
            "_view_name": "LayoutView",
            "grid_template_rows": null,
            "right": null,
            "justify_content": null,
            "_view_module": "@jupyter-widgets/base",
            "overflow": null,
            "_model_module_version": "1.2.0",
            "_view_count": null,
            "flex_flow": null,
            "width": null,
            "min_width": null,
            "border": null,
            "align_items": null,
            "bottom": null,
            "_model_module": "@jupyter-widgets/base",
            "top": null,
            "grid_column": null,
            "overflow_y": null,
            "overflow_x": null,
            "grid_auto_flow": null,
            "grid_area": null,
            "grid_template_columns": null,
            "flex": null,
            "_model_name": "LayoutModel",
            "justify_items": null,
            "grid_row": null,
            "max_height": null,
            "align_content": null,
            "visibility": null,
            "align_self": null,
            "height": null,
            "min_height": null,
            "padding": null,
            "grid_auto_rows": null,
            "grid_gap": null,
            "max_width": null,
            "order": null,
            "_view_module_version": "1.2.0",
            "grid_template_areas": null,
            "object_position": null,
            "object_fit": null,
            "grid_auto_columns": null,
            "margin": null,
            "display": null,
            "left": null
          }
        },
        "31d7859d9b8d484bb6778a89cb4283f2": {
          "model_module": "@jupyter-widgets/controls",
          "model_name": "HTMLModel",
          "model_module_version": "1.5.0",
          "state": {
            "_view_name": "HTMLView",
            "style": "IPY_MODEL_7c51a7dca3854f9187fd60bcb4eff3cc",
            "_dom_classes": [],
            "description": "",
            "_model_name": "HTMLModel",
            "placeholder": "​",
            "_view_module": "@jupyter-widgets/controls",
            "_model_module_version": "1.5.0",
            "value": "Downloading: 100%",
            "_view_count": null,
            "_view_module_version": "1.5.0",
            "description_tooltip": null,
            "_model_module": "@jupyter-widgets/controls",
            "layout": "IPY_MODEL_09a5905429614f209de670e6cf07f0f7"
          }
        },
        "08be14bcbcff43ecb102e95bf7557744": {
          "model_module": "@jupyter-widgets/controls",
          "model_name": "FloatProgressModel",
          "model_module_version": "1.5.0",
          "state": {
            "_view_name": "ProgressView",
            "style": "IPY_MODEL_8c51ce1b8e0944c89387bcd7b6e04e8a",
            "_dom_classes": [],
            "description": "",
            "_model_name": "FloatProgressModel",
            "bar_style": "success",
            "max": 112,
            "_view_module": "@jupyter-widgets/controls",
            "_model_module_version": "1.5.0",
            "value": 112,
            "_view_count": null,
            "_view_module_version": "1.5.0",
            "orientation": "horizontal",
            "min": 0,
            "description_tooltip": null,
            "_model_module": "@jupyter-widgets/controls",
            "layout": "IPY_MODEL_18fcde2205e14ab4aff836ed41733af3"
          }
        },
        "2e4db8d4b8b74205a68d39422b7b0919": {
          "model_module": "@jupyter-widgets/controls",
          "model_name": "HTMLModel",
          "model_module_version": "1.5.0",
          "state": {
            "_view_name": "HTMLView",
            "style": "IPY_MODEL_cd339b2b1976423f960357c40ff7810b",
            "_dom_classes": [],
            "description": "",
            "_model_name": "HTMLModel",
            "placeholder": "​",
            "_view_module": "@jupyter-widgets/controls",
            "_model_module_version": "1.5.0",
            "value": " 112/112 [00:00&lt;00:00, 2.70kB/s]",
            "_view_count": null,
            "_view_module_version": "1.5.0",
            "description_tooltip": null,
            "_model_module": "@jupyter-widgets/controls",
            "layout": "IPY_MODEL_b99b12e85f7e4a86aba6fe2cfe7cde5c"
          }
        },
        "7c51a7dca3854f9187fd60bcb4eff3cc": {
          "model_module": "@jupyter-widgets/controls",
          "model_name": "DescriptionStyleModel",
          "model_module_version": "1.5.0",
          "state": {
            "_view_name": "StyleView",
            "_model_name": "DescriptionStyleModel",
            "description_width": "",
            "_view_module": "@jupyter-widgets/base",
            "_model_module_version": "1.5.0",
            "_view_count": null,
            "_view_module_version": "1.2.0",
            "_model_module": "@jupyter-widgets/controls"
          }
        },
        "09a5905429614f209de670e6cf07f0f7": {
          "model_module": "@jupyter-widgets/base",
          "model_name": "LayoutModel",
          "model_module_version": "1.2.0",
          "state": {
            "_view_name": "LayoutView",
            "grid_template_rows": null,
            "right": null,
            "justify_content": null,
            "_view_module": "@jupyter-widgets/base",
            "overflow": null,
            "_model_module_version": "1.2.0",
            "_view_count": null,
            "flex_flow": null,
            "width": null,
            "min_width": null,
            "border": null,
            "align_items": null,
            "bottom": null,
            "_model_module": "@jupyter-widgets/base",
            "top": null,
            "grid_column": null,
            "overflow_y": null,
            "overflow_x": null,
            "grid_auto_flow": null,
            "grid_area": null,
            "grid_template_columns": null,
            "flex": null,
            "_model_name": "LayoutModel",
            "justify_items": null,
            "grid_row": null,
            "max_height": null,
            "align_content": null,
            "visibility": null,
            "align_self": null,
            "height": null,
            "min_height": null,
            "padding": null,
            "grid_auto_rows": null,
            "grid_gap": null,
            "max_width": null,
            "order": null,
            "_view_module_version": "1.2.0",
            "grid_template_areas": null,
            "object_position": null,
            "object_fit": null,
            "grid_auto_columns": null,
            "margin": null,
            "display": null,
            "left": null
          }
        },
        "8c51ce1b8e0944c89387bcd7b6e04e8a": {
          "model_module": "@jupyter-widgets/controls",
          "model_name": "ProgressStyleModel",
          "model_module_version": "1.5.0",
          "state": {
            "_view_name": "StyleView",
            "_model_name": "ProgressStyleModel",
            "description_width": "",
            "_view_module": "@jupyter-widgets/base",
            "_model_module_version": "1.5.0",
            "_view_count": null,
            "_view_module_version": "1.2.0",
            "bar_color": null,
            "_model_module": "@jupyter-widgets/controls"
          }
        },
        "18fcde2205e14ab4aff836ed41733af3": {
          "model_module": "@jupyter-widgets/base",
          "model_name": "LayoutModel",
          "model_module_version": "1.2.0",
          "state": {
            "_view_name": "LayoutView",
            "grid_template_rows": null,
            "right": null,
            "justify_content": null,
            "_view_module": "@jupyter-widgets/base",
            "overflow": null,
            "_model_module_version": "1.2.0",
            "_view_count": null,
            "flex_flow": null,
            "width": null,
            "min_width": null,
            "border": null,
            "align_items": null,
            "bottom": null,
            "_model_module": "@jupyter-widgets/base",
            "top": null,
            "grid_column": null,
            "overflow_y": null,
            "overflow_x": null,
            "grid_auto_flow": null,
            "grid_area": null,
            "grid_template_columns": null,
            "flex": null,
            "_model_name": "LayoutModel",
            "justify_items": null,
            "grid_row": null,
            "max_height": null,
            "align_content": null,
            "visibility": null,
            "align_self": null,
            "height": null,
            "min_height": null,
            "padding": null,
            "grid_auto_rows": null,
            "grid_gap": null,
            "max_width": null,
            "order": null,
            "_view_module_version": "1.2.0",
            "grid_template_areas": null,
            "object_position": null,
            "object_fit": null,
            "grid_auto_columns": null,
            "margin": null,
            "display": null,
            "left": null
          }
        },
        "cd339b2b1976423f960357c40ff7810b": {
          "model_module": "@jupyter-widgets/controls",
          "model_name": "DescriptionStyleModel",
          "model_module_version": "1.5.0",
          "state": {
            "_view_name": "StyleView",
            "_model_name": "DescriptionStyleModel",
            "description_width": "",
            "_view_module": "@jupyter-widgets/base",
            "_model_module_version": "1.5.0",
            "_view_count": null,
            "_view_module_version": "1.2.0",
            "_model_module": "@jupyter-widgets/controls"
          }
        },
        "b99b12e85f7e4a86aba6fe2cfe7cde5c": {
          "model_module": "@jupyter-widgets/base",
          "model_name": "LayoutModel",
          "model_module_version": "1.2.0",
          "state": {
            "_view_name": "LayoutView",
            "grid_template_rows": null,
            "right": null,
            "justify_content": null,
            "_view_module": "@jupyter-widgets/base",
            "overflow": null,
            "_model_module_version": "1.2.0",
            "_view_count": null,
            "flex_flow": null,
            "width": null,
            "min_width": null,
            "border": null,
            "align_items": null,
            "bottom": null,
            "_model_module": "@jupyter-widgets/base",
            "top": null,
            "grid_column": null,
            "overflow_y": null,
            "overflow_x": null,
            "grid_auto_flow": null,
            "grid_area": null,
            "grid_template_columns": null,
            "flex": null,
            "_model_name": "LayoutModel",
            "justify_items": null,
            "grid_row": null,
            "max_height": null,
            "align_content": null,
            "visibility": null,
            "align_self": null,
            "height": null,
            "min_height": null,
            "padding": null,
            "grid_auto_rows": null,
            "grid_gap": null,
            "max_width": null,
            "order": null,
            "_view_module_version": "1.2.0",
            "grid_template_areas": null,
            "object_position": null,
            "object_fit": null,
            "grid_auto_columns": null,
            "margin": null,
            "display": null,
            "left": null
          }
        },
        "0a9d6238beaa4c7ca534120c03f77ded": {
          "model_module": "@jupyter-widgets/controls",
          "model_name": "HBoxModel",
          "model_module_version": "1.5.0",
          "state": {
            "_view_name": "HBoxView",
            "_dom_classes": [],
            "_model_name": "HBoxModel",
            "_view_module": "@jupyter-widgets/controls",
            "_model_module_version": "1.5.0",
            "_view_count": null,
            "_view_module_version": "1.5.0",
            "box_style": "",
            "layout": "IPY_MODEL_9f85a62fe7484e2a8b827d6f568a20cd",
            "_model_module": "@jupyter-widgets/controls",
            "children": [
              "IPY_MODEL_5d6c995e8dec4d49ad62637c421b0a07",
              "IPY_MODEL_2ae092f707a24646843a25918495ce33",
              "IPY_MODEL_ab0c8ee5f41c40fb90822338a827985f"
            ]
          }
        },
        "9f85a62fe7484e2a8b827d6f568a20cd": {
          "model_module": "@jupyter-widgets/base",
          "model_name": "LayoutModel",
          "model_module_version": "1.2.0",
          "state": {
            "_view_name": "LayoutView",
            "grid_template_rows": null,
            "right": null,
            "justify_content": null,
            "_view_module": "@jupyter-widgets/base",
            "overflow": null,
            "_model_module_version": "1.2.0",
            "_view_count": null,
            "flex_flow": null,
            "width": null,
            "min_width": null,
            "border": null,
            "align_items": null,
            "bottom": null,
            "_model_module": "@jupyter-widgets/base",
            "top": null,
            "grid_column": null,
            "overflow_y": null,
            "overflow_x": null,
            "grid_auto_flow": null,
            "grid_area": null,
            "grid_template_columns": null,
            "flex": null,
            "_model_name": "LayoutModel",
            "justify_items": null,
            "grid_row": null,
            "max_height": null,
            "align_content": null,
            "visibility": null,
            "align_self": null,
            "height": null,
            "min_height": null,
            "padding": null,
            "grid_auto_rows": null,
            "grid_gap": null,
            "max_width": null,
            "order": null,
            "_view_module_version": "1.2.0",
            "grid_template_areas": null,
            "object_position": null,
            "object_fit": null,
            "grid_auto_columns": null,
            "margin": null,
            "display": null,
            "left": null
          }
        },
        "5d6c995e8dec4d49ad62637c421b0a07": {
          "model_module": "@jupyter-widgets/controls",
          "model_name": "HTMLModel",
          "model_module_version": "1.5.0",
          "state": {
            "_view_name": "HTMLView",
            "style": "IPY_MODEL_bbf484a70e874b2f99f208b636f92fef",
            "_dom_classes": [],
            "description": "",
            "_model_name": "HTMLModel",
            "placeholder": "​",
            "_view_module": "@jupyter-widgets/controls",
            "_model_module_version": "1.5.0",
            "value": "Downloading: 100%",
            "_view_count": null,
            "_view_module_version": "1.5.0",
            "description_tooltip": null,
            "_model_module": "@jupyter-widgets/controls",
            "layout": "IPY_MODEL_a544da4469d945c2af040433aa664890"
          }
        },
        "2ae092f707a24646843a25918495ce33": {
          "model_module": "@jupyter-widgets/controls",
          "model_name": "FloatProgressModel",
          "model_module_version": "1.5.0",
          "state": {
            "_view_name": "ProgressView",
            "style": "IPY_MODEL_76cf296c9b6b4cb2b49c9e3026a03755",
            "_dom_classes": [],
            "description": "",
            "_model_name": "FloatProgressModel",
            "bar_style": "success",
            "max": 62,
            "_view_module": "@jupyter-widgets/controls",
            "_model_module_version": "1.5.0",
            "value": 62,
            "_view_count": null,
            "_view_module_version": "1.5.0",
            "orientation": "horizontal",
            "min": 0,
            "description_tooltip": null,
            "_model_module": "@jupyter-widgets/controls",
            "layout": "IPY_MODEL_5193c1a306a3438f89f1369f1319dba1"
          }
        },
        "ab0c8ee5f41c40fb90822338a827985f": {
          "model_module": "@jupyter-widgets/controls",
          "model_name": "HTMLModel",
          "model_module_version": "1.5.0",
          "state": {
            "_view_name": "HTMLView",
            "style": "IPY_MODEL_a30d7194d178419c84f94a614fea58d4",
            "_dom_classes": [],
            "description": "",
            "_model_name": "HTMLModel",
            "placeholder": "​",
            "_view_module": "@jupyter-widgets/controls",
            "_model_module_version": "1.5.0",
            "value": " 62.0/62.0 [00:00&lt;00:00, 955B/s]",
            "_view_count": null,
            "_view_module_version": "1.5.0",
            "description_tooltip": null,
            "_model_module": "@jupyter-widgets/controls",
            "layout": "IPY_MODEL_5dd719bdb6c045da84c967884e4e3135"
          }
        },
        "bbf484a70e874b2f99f208b636f92fef": {
          "model_module": "@jupyter-widgets/controls",
          "model_name": "DescriptionStyleModel",
          "model_module_version": "1.5.0",
          "state": {
            "_view_name": "StyleView",
            "_model_name": "DescriptionStyleModel",
            "description_width": "",
            "_view_module": "@jupyter-widgets/base",
            "_model_module_version": "1.5.0",
            "_view_count": null,
            "_view_module_version": "1.2.0",
            "_model_module": "@jupyter-widgets/controls"
          }
        },
        "a544da4469d945c2af040433aa664890": {
          "model_module": "@jupyter-widgets/base",
          "model_name": "LayoutModel",
          "model_module_version": "1.2.0",
          "state": {
            "_view_name": "LayoutView",
            "grid_template_rows": null,
            "right": null,
            "justify_content": null,
            "_view_module": "@jupyter-widgets/base",
            "overflow": null,
            "_model_module_version": "1.2.0",
            "_view_count": null,
            "flex_flow": null,
            "width": null,
            "min_width": null,
            "border": null,
            "align_items": null,
            "bottom": null,
            "_model_module": "@jupyter-widgets/base",
            "top": null,
            "grid_column": null,
            "overflow_y": null,
            "overflow_x": null,
            "grid_auto_flow": null,
            "grid_area": null,
            "grid_template_columns": null,
            "flex": null,
            "_model_name": "LayoutModel",
            "justify_items": null,
            "grid_row": null,
            "max_height": null,
            "align_content": null,
            "visibility": null,
            "align_self": null,
            "height": null,
            "min_height": null,
            "padding": null,
            "grid_auto_rows": null,
            "grid_gap": null,
            "max_width": null,
            "order": null,
            "_view_module_version": "1.2.0",
            "grid_template_areas": null,
            "object_position": null,
            "object_fit": null,
            "grid_auto_columns": null,
            "margin": null,
            "display": null,
            "left": null
          }
        },
        "76cf296c9b6b4cb2b49c9e3026a03755": {
          "model_module": "@jupyter-widgets/controls",
          "model_name": "ProgressStyleModel",
          "model_module_version": "1.5.0",
          "state": {
            "_view_name": "StyleView",
            "_model_name": "ProgressStyleModel",
            "description_width": "",
            "_view_module": "@jupyter-widgets/base",
            "_model_module_version": "1.5.0",
            "_view_count": null,
            "_view_module_version": "1.2.0",
            "bar_color": null,
            "_model_module": "@jupyter-widgets/controls"
          }
        },
        "5193c1a306a3438f89f1369f1319dba1": {
          "model_module": "@jupyter-widgets/base",
          "model_name": "LayoutModel",
          "model_module_version": "1.2.0",
          "state": {
            "_view_name": "LayoutView",
            "grid_template_rows": null,
            "right": null,
            "justify_content": null,
            "_view_module": "@jupyter-widgets/base",
            "overflow": null,
            "_model_module_version": "1.2.0",
            "_view_count": null,
            "flex_flow": null,
            "width": null,
            "min_width": null,
            "border": null,
            "align_items": null,
            "bottom": null,
            "_model_module": "@jupyter-widgets/base",
            "top": null,
            "grid_column": null,
            "overflow_y": null,
            "overflow_x": null,
            "grid_auto_flow": null,
            "grid_area": null,
            "grid_template_columns": null,
            "flex": null,
            "_model_name": "LayoutModel",
            "justify_items": null,
            "grid_row": null,
            "max_height": null,
            "align_content": null,
            "visibility": null,
            "align_self": null,
            "height": null,
            "min_height": null,
            "padding": null,
            "grid_auto_rows": null,
            "grid_gap": null,
            "max_width": null,
            "order": null,
            "_view_module_version": "1.2.0",
            "grid_template_areas": null,
            "object_position": null,
            "object_fit": null,
            "grid_auto_columns": null,
            "margin": null,
            "display": null,
            "left": null
          }
        },
        "a30d7194d178419c84f94a614fea58d4": {
          "model_module": "@jupyter-widgets/controls",
          "model_name": "DescriptionStyleModel",
          "model_module_version": "1.5.0",
          "state": {
            "_view_name": "StyleView",
            "_model_name": "DescriptionStyleModel",
            "description_width": "",
            "_view_module": "@jupyter-widgets/base",
            "_model_module_version": "1.5.0",
            "_view_count": null,
            "_view_module_version": "1.2.0",
            "_model_module": "@jupyter-widgets/controls"
          }
        },
        "5dd719bdb6c045da84c967884e4e3135": {
          "model_module": "@jupyter-widgets/base",
          "model_name": "LayoutModel",
          "model_module_version": "1.2.0",
          "state": {
            "_view_name": "LayoutView",
            "grid_template_rows": null,
            "right": null,
            "justify_content": null,
            "_view_module": "@jupyter-widgets/base",
            "overflow": null,
            "_model_module_version": "1.2.0",
            "_view_count": null,
            "flex_flow": null,
            "width": null,
            "min_width": null,
            "border": null,
            "align_items": null,
            "bottom": null,
            "_model_module": "@jupyter-widgets/base",
            "top": null,
            "grid_column": null,
            "overflow_y": null,
            "overflow_x": null,
            "grid_auto_flow": null,
            "grid_area": null,
            "grid_template_columns": null,
            "flex": null,
            "_model_name": "LayoutModel",
            "justify_items": null,
            "grid_row": null,
            "max_height": null,
            "align_content": null,
            "visibility": null,
            "align_self": null,
            "height": null,
            "min_height": null,
            "padding": null,
            "grid_auto_rows": null,
            "grid_gap": null,
            "max_width": null,
            "order": null,
            "_view_module_version": "1.2.0",
            "grid_template_areas": null,
            "object_position": null,
            "object_fit": null,
            "grid_auto_columns": null,
            "margin": null,
            "display": null,
            "left": null
          }
        }
      }
    }
  },
  "cells": [
    {
      "cell_type": "markdown",
      "metadata": {
        "id": "cxWnh8zunkDa"
      },
      "source": [
        "# CorrelAid X Challenge 2021 - Classifying tensions in social media data using NLP\n",
        "Chapter Bremen X HH"
      ]
    },
    {
      "cell_type": "markdown",
      "metadata": {
        "id": "gxU8LbYKnkDi"
      },
      "source": [
        "### Libraries"
      ]
    },
    {
      "cell_type": "code",
      "metadata": {
        "colab": {
          "base_uri": "https://localhost:8080/"
        },
        "id": "YDBmVaEFnkDi",
        "outputId": "44883514-113e-4309-8788-b06652acd74f"
      },
      "source": [
        "!pip3 install transformers\n",
        "import tensorflow as tf\n",
        "import tensorflow_datasets as tfds\n",
        "\n",
        "from transformers import BertTokenizer, TFBertForSequenceClassification\n",
        "from transformers import InputExample, InputFeatures\n",
        "\n",
        "import pandas as pd\n",
        "from pandas.api.types import CategoricalDtype\n",
        "import numpy as np\n",
        "from collections import Counter\n",
        "\n",
        "from sklearn import metrics\n",
        "from sklearn.base import BaseEstimator, ClassifierMixin, TransformerMixin\n",
        "from sklearn.ensemble import RandomForestClassifier\n",
        "from sklearn.model_selection import train_test_split\n",
        "from sklearn.multioutput import MultiOutputClassifier\n",
        "from sklearn.pipeline import Pipeline\n",
        "\n",
        "from sklearn.metrics import multilabel_confusion_matrix, classification_report, confusion_matrix, ConfusionMatrixDisplay\n",
        "\n",
        "import matplotlib.pyplot as plt\n",
        "import seaborn as sns"
      ],
      "execution_count": 59,
      "outputs": [
        {
          "output_type": "stream",
          "name": "stdout",
          "text": [
            "Requirement already satisfied: transformers in /usr/local/lib/python3.7/dist-packages (4.11.3)\n",
            "Requirement already satisfied: sacremoses in /usr/local/lib/python3.7/dist-packages (from transformers) (0.0.46)\n",
            "Requirement already satisfied: packaging>=20.0 in /usr/local/lib/python3.7/dist-packages (from transformers) (21.0)\n",
            "Requirement already satisfied: pyyaml>=5.1 in /usr/local/lib/python3.7/dist-packages (from transformers) (6.0)\n",
            "Requirement already satisfied: huggingface-hub>=0.0.17 in /usr/local/lib/python3.7/dist-packages (from transformers) (0.0.19)\n",
            "Requirement already satisfied: tqdm>=4.27 in /usr/local/lib/python3.7/dist-packages (from transformers) (4.62.3)\n",
            "Requirement already satisfied: importlib-metadata in /usr/local/lib/python3.7/dist-packages (from transformers) (4.8.1)\n",
            "Requirement already satisfied: numpy>=1.17 in /usr/local/lib/python3.7/dist-packages (from transformers) (1.19.5)\n",
            "Requirement already satisfied: tokenizers<0.11,>=0.10.1 in /usr/local/lib/python3.7/dist-packages (from transformers) (0.10.3)\n",
            "Requirement already satisfied: regex!=2019.12.17 in /usr/local/lib/python3.7/dist-packages (from transformers) (2019.12.20)\n",
            "Requirement already satisfied: filelock in /usr/local/lib/python3.7/dist-packages (from transformers) (3.3.0)\n",
            "Requirement already satisfied: requests in /usr/local/lib/python3.7/dist-packages (from transformers) (2.23.0)\n",
            "Requirement already satisfied: typing-extensions in /usr/local/lib/python3.7/dist-packages (from huggingface-hub>=0.0.17->transformers) (3.7.4.3)\n",
            "Requirement already satisfied: pyparsing>=2.0.2 in /usr/local/lib/python3.7/dist-packages (from packaging>=20.0->transformers) (2.4.7)\n",
            "Requirement already satisfied: zipp>=0.5 in /usr/local/lib/python3.7/dist-packages (from importlib-metadata->transformers) (3.6.0)\n",
            "Requirement already satisfied: idna<3,>=2.5 in /usr/local/lib/python3.7/dist-packages (from requests->transformers) (2.10)\n",
            "Requirement already satisfied: chardet<4,>=3.0.2 in /usr/local/lib/python3.7/dist-packages (from requests->transformers) (3.0.4)\n",
            "Requirement already satisfied: certifi>=2017.4.17 in /usr/local/lib/python3.7/dist-packages (from requests->transformers) (2021.5.30)\n",
            "Requirement already satisfied: urllib3!=1.25.0,!=1.25.1,<1.26,>=1.21.1 in /usr/local/lib/python3.7/dist-packages (from requests->transformers) (1.24.3)\n",
            "Requirement already satisfied: click in /usr/local/lib/python3.7/dist-packages (from sacremoses->transformers) (7.1.2)\n",
            "Requirement already satisfied: six in /usr/local/lib/python3.7/dist-packages (from sacremoses->transformers) (1.15.0)\n",
            "Requirement already satisfied: joblib in /usr/local/lib/python3.7/dist-packages (from sacremoses->transformers) (1.0.1)\n"
          ]
        }
      ]
    },
    {
      "cell_type": "markdown",
      "metadata": {
        "id": "gXPcGrx0nkDk"
      },
      "source": [
        "# 1. Data set\n",
        "## 1.1. Get data"
      ]
    },
    {
      "cell_type": "code",
      "metadata": {
        "colab": {
          "base_uri": "https://localhost:8080/"
        },
        "id": "JOdBH8GipAxq",
        "outputId": "c5a7c419-4897-4833-c39b-9a44ec843df6"
      },
      "source": [
        "from google.colab import drive\n",
        "drive.mount('/content/drive')"
      ],
      "execution_count": 3,
      "outputs": [
        {
          "output_type": "stream",
          "name": "stdout",
          "text": [
            "Mounted at /content/drive\n"
          ]
        }
      ]
    },
    {
      "cell_type": "code",
      "metadata": {
        "id": "rH0nxbKkpCQ0"
      },
      "source": [
        "df_raw = pd.read_csv(\"./drive/My Drive/Bert/phoenix_tensions.csv\")\n",
        "df_appendix = pd.read_csv(\"./drive/My Drive/Bert/phoenix_tensions_appendix.csv\")"
      ],
      "execution_count": 6,
      "outputs": []
    },
    {
      "cell_type": "code",
      "metadata": {
        "id": "BniaKqxqnkDl"
      },
      "source": [
        "#df_raw = pd.read_csv(\"phoenix_tensions.csv\")\n",
        "#df_appendix = pd.read_csv(\"phoenix_tensions_appendix.csv\")"
      ],
      "execution_count": 7,
      "outputs": []
    },
    {
      "cell_type": "code",
      "metadata": {
        "id": "lVGXG1VpnkDl"
      },
      "source": [
        "COL_ORDER = df_raw.filter(like=\"is_\").columns"
      ],
      "execution_count": 8,
      "outputs": []
    },
    {
      "cell_type": "markdown",
      "metadata": {
        "id": "M_pVABMOnkDm"
      },
      "source": [
        "## 1.2. Preprocessing"
      ]
    },
    {
      "cell_type": "code",
      "metadata": {
        "scrolled": true,
        "colab": {
          "base_uri": "https://localhost:8080/"
        },
        "id": "FRNX0SvhnkDm",
        "outputId": "802d60b5-be57-4cc0-c337-ab8b2c8a5101"
      },
      "source": [
        "df = df_raw.copy()\n",
        "df.info()"
      ],
      "execution_count": 9,
      "outputs": [
        {
          "output_type": "stream",
          "name": "stdout",
          "text": [
            "<class 'pandas.core.frame.DataFrame'>\n",
            "RangeIndex: 1644 entries, 0 to 1643\n",
            "Data columns (total 16 columns):\n",
            " #   Column                                  Non-Null Count  Dtype  \n",
            "---  ------                                  --------------  -----  \n",
            " 0   Unnamed: 0                              1644 non-null   int64  \n",
            " 1   object_id                               1644 non-null   object \n",
            " 2   object_type                             1644 non-null   object \n",
            " 3   text                                    1644 non-null   object \n",
            " 4   is_economic_labour_tension              1644 non-null   float64\n",
            " 5   economic_labour_tension_direction       128 non-null    object \n",
            " 6   is_political_tension                    1644 non-null   float64\n",
            " 7   political_tension_direction             159 non-null    object \n",
            " 8   is_service_related_tension              1644 non-null   float64\n",
            " 9   service_related_tension_direction       134 non-null    object \n",
            " 10  is_community_insecurity_tension         1644 non-null   float64\n",
            " 11  community_insecurity_tension_direction  48 non-null     object \n",
            " 12  topics                                  1644 non-null   object \n",
            " 13  matched_features                        1644 non-null   object \n",
            " 14  date                                    1641 non-null   object \n",
            " 15  clean_text                              1644 non-null   object \n",
            "dtypes: float64(4), int64(1), object(11)\n",
            "memory usage: 205.6+ KB\n"
          ]
        }
      ]
    },
    {
      "cell_type": "code",
      "metadata": {
        "colab": {
          "base_uri": "https://localhost:8080/"
        },
        "id": "HwmhQAPZnkDp",
        "outputId": "5ea8bf34-6ad9-43c1-9b94-e42b74fb59a5"
      },
      "source": [
        "#Recode tensions as they have different categories \n",
        "\n",
        "tensions = [\n",
        "    \"economic_labour_tension_direction\",\n",
        "    \"political_tension_direction\",\n",
        "    \"service_related_tension_direction\",\n",
        "    \"community_insecurity_tension_direction\",\n",
        "]\n",
        "\n",
        "print(\"old categories\\n\")\n",
        "\n",
        "for i in tensions:\n",
        "    print(i)\n",
        "    print(Counter(df_raw[i]))\n",
        "\n",
        "print(\"\\nnew categories\\n\")    \n",
        "\n",
        "#define Categorical dtype for Tensions\n",
        "cat_type = CategoricalDtype(categories=[\"decrease\", \"neutral\", \"increase\"], ordered=True)\n",
        "\n",
        "#recode tensions \n",
        "for i in tensions:\n",
        "    df[i] = df[i].replace([' '], [np.nan])\n",
        "    df[i] = df[i].replace(['Neutral', 'Neural', 'Nautral'], 'neutral')\n",
        "    df[i] = df[i].replace(['Increase', 'ncrease'], 'increase')\n",
        "    df[i] = df[i].replace(['Decrease'], 'decrease')\n",
        "    df[i] = df[i].astype(cat_type) #make defined categorical dtype\n",
        "\n",
        "    print(i)\n",
        "    print(Counter(df[i]))"
      ],
      "execution_count": 10,
      "outputs": [
        {
          "output_type": "stream",
          "name": "stdout",
          "text": [
            "old categories\n",
            "\n",
            "economic_labour_tension_direction\n",
            "Counter({nan: 1516, 'Increase': 63, 'Neutral': 38, 'neutral': 18, 'increase': 6, 'decrease': 1, 'ncrease': 1, 'Nautral': 1})\n",
            "political_tension_direction\n",
            "Counter({nan: 1485, 'Increase': 85, 'Neutral': 47, 'neutral': 26, 'increase': 1})\n",
            "service_related_tension_direction\n",
            "Counter({nan: 1510, 'Increase': 64, 'Neutral': 37, 'neutral': 17, 'Decrease': 8, 'increase': 5, 'decrease': 2, ' ': 1})\n",
            "community_insecurity_tension_direction\n",
            "Counter({nan: 1596, 'Neutral': 27, 'Increase': 14, 'neutral': 5, 'increase': 1, 'Neural': 1})\n",
            "\n",
            "new categories\n",
            "\n",
            "economic_labour_tension_direction\n",
            "Counter({nan: 1516, 'increase': 70, 'neutral': 57, 'decrease': 1})\n",
            "political_tension_direction\n",
            "Counter({nan: 1485, 'increase': 86, 'neutral': 73})\n",
            "service_related_tension_direction\n",
            "Counter({nan: 1511, 'increase': 69, 'neutral': 54, 'decrease': 10})\n",
            "community_insecurity_tension_direction\n",
            "Counter({nan: 1596, 'neutral': 33, 'increase': 15})\n"
          ]
        }
      ]
    },
    {
      "cell_type": "code",
      "metadata": {
        "scrolled": true,
        "colab": {
          "base_uri": "https://localhost:8080/",
          "height": 1000
        },
        "id": "bSNJ4OH_nkDq",
        "outputId": "ff369128-8f8d-403f-d478-10acc7e2a472"
      },
      "source": [
        "#Plot Tensions\n",
        "for i in tensions:\n",
        "    sns.catplot(x=i, kind=\"count\", data=df)"
      ],
      "execution_count": 11,
      "outputs": [
        {
          "output_type": "display_data",
          "data": {
            "image/png": "[encoded data removed]",
            "text/plain": [
              "<Figure size 360x360 with 1 Axes>"
            ]
          },
          "metadata": {
            "needs_background": "light"
          }
        },
        {
          "output_type": "display_data",
          "data": {
            "image/png": "[encoded data removed]",
            "text/plain": [
              "<Figure size 360x360 with 1 Axes>"
            ]
          },
          "metadata": {
            "needs_background": "light"
          }
        },
        {
          "output_type": "display_data",
          "data": {
            "image/png": "[encoded data removed]",
            "text/plain": [
              "<Figure size 360x360 with 1 Axes>"
            ]
          },
          "metadata": {
            "needs_background": "light"
          }
        },
        {
          "output_type": "display_data",
          "data": {
            "image/png": "[encoded data removed]",
            "text/plain": [
              "<Figure size 360x360 with 1 Axes>"
            ]
          },
          "metadata": {
            "needs_background": "light"
          }
        }
      ]
    },
    {
      "cell_type": "code",
      "metadata": {
        "colab": {
          "base_uri": "https://localhost:8080/",
          "height": 320
        },
        "id": "yuzkQDY6nkDr",
        "outputId": "08d1228f-cb5c-46ed-ac95-57a1b52562bc"
      },
      "source": [
        "#Recode date to date format\n",
        "df[\"date\"] = pd.to_datetime(df[\"date\"], format='%Y-%m-%d %H:%M:%S')\n",
        "\n",
        "#has 3 NA values (NaT)\n",
        "\n",
        "#plot date\n",
        "fig, ax = plt.subplots(figsize = (18, 5))\n",
        "plt.hist(df[\"date\"])\n",
        "plt.show()"
      ],
      "execution_count": 12,
      "outputs": [
        {
          "output_type": "display_data",
          "data": {
            "image/png": "[encoded data removed]",
            "text/plain": [
              "<Figure size 1296x360 with 1 Axes>"
            ]
          },
          "metadata": {
            "needs_background": "light"
          }
        }
      ]
    },
    {
      "cell_type": "markdown",
      "metadata": {
        "id": "ZFiZ-Rl8nkDs"
      },
      "source": [
        "## 1.3. Dummies & Train_Test_Split"
      ]
    },
    {
      "cell_type": "code",
      "metadata": {
        "id": "tVVqk2xjnkDs"
      },
      "source": [
        "#Make dummies\n",
        "#Na values will simply get 0 \n",
        "\n",
        "df = pd.get_dummies(df, columns=[\"economic_labour_tension_direction\", \"political_tension_direction\",\n",
        "                            \"service_related_tension_direction\",\"community_insecurity_tension_direction\"],\n",
        "                          drop_first=False\n",
        "              )\n",
        "\n",
        "#Drop neutral dummies to only keep increase/ decrease\n",
        "df = df[df.columns.drop(list(df.filter(regex='neutral')))]"
      ],
      "execution_count": 13,
      "outputs": []
    },
    {
      "cell_type": "code",
      "metadata": {
        "id": "lSCP8dZTnkDt"
      },
      "source": [
        "#Train and Test Split \n",
        "\n",
        "train_df, test_df = train_test_split(\n",
        "    df, \n",
        "    test_size=0.2, \n",
        "    random_state=2021, \n",
        ")"
      ],
      "execution_count": 14,
      "outputs": []
    },
    {
      "cell_type": "code",
      "metadata": {
        "id": "82srnYxenkDu"
      },
      "source": [
        "train_df.to_csv(\"dummy_train.csv\")\n",
        "test_df.to_csv(\"dummy_test.csv\")"
      ],
      "execution_count": 15,
      "outputs": []
    },
    {
      "cell_type": "code",
      "metadata": {
        "colab": {
          "base_uri": "https://localhost:8080/"
        },
        "id": "OsHS_5eonkDu",
        "outputId": "e9f14d97-cdad-4e77-9091-343d49a77a37"
      },
      "source": [
        "len(train_df)"
      ],
      "execution_count": 16,
      "outputs": [
        {
          "output_type": "execute_result",
          "data": {
            "text/plain": [
              "1315"
            ]
          },
          "metadata": {},
          "execution_count": 16
        }
      ]
    },
    {
      "cell_type": "markdown",
      "metadata": {
        "id": "uoaBCuAFnkDv"
      },
      "source": [
        "# 2. BERT\n",
        "## 2.1. Loading pretrained model"
      ]
    },
    {
      "cell_type": "code",
      "metadata": {
        "colab": {
          "base_uri": "https://localhost:8080/",
          "height": 265,
          "referenced_widgets": [
            "cd2b78ae3902464db0b78424068d639e",
            "2ae2220b0e9c49d0af873a879f8c3ac6",
            "c2e348be2526451f9e81ebddbf0aa6c2",
            "b4b8c1c3b7354462bb792e7d358c59f2",
            "9c197ca1627c448792a89dc5c744a796",
            "24dc75c20ad04f2dbe6d9fb09e57f246",
            "a28c12821e99482f9a418a0cb9bcd3f9",
            "f011d087b0214a7482825c1314e455df",
            "00235414dd654d6a8a6f959baa98ba75",
            "1c09250c9219401883b3134a3af85d02",
            "0e45e9eea2b44189a51cfd349b6280fc",
            "10d40d35b60b4cd78ae2f6ec4cdf93db",
            "327fcc0bce99425cbd855971a9026417",
            "eda9b00d16ba43a4a02047d2419e2f3f",
            "b81f8725e8fb4551a02cd31bafad9582",
            "12f6157a7c9f4c98a4abce5147b93ebd",
            "8dddb07b3cf841fd9af8d6f6c9b6e53c",
            "f7a67a3455934187a929c1609c234c46",
            "d9bcea86c7f44813a66de3b817a7c852",
            "f183e1e934634be995b38da5fd37f8f7",
            "3166a2abf5b3492ead02774ffee2cbde",
            "e063771c2110437fb24a2fbf5d559447",
            "bcfd4f887d8148d1af64dd42d72ae196",
            "da49237e6fc0425d93e1aabc78bc1c34",
            "82bd294b8da940f4a254f0e5b5f6baa2",
            "9b205e5716d048a69fb7e4b8b85bea3a",
            "328d715135124021aca080570bb89c07",
            "390dbfa1fa864359a9f78c18b97ab87a",
            "5e718f1ba4114675b69c58f80dd53b30",
            "f51d05860da5425198d56d2d52680b44",
            "73240a13769e41f7a4be34df836579cb",
            "922b0888a86f44629b0af110bd5b4d26",
            "73af4c572d9448ee85574f44a7741898",
            "42c098ff2a7c46d4a52d624980384cd2",
            "74ae30532aa242178eb5c01262a740db",
            "31d7859d9b8d484bb6778a89cb4283f2",
            "08be14bcbcff43ecb102e95bf7557744",
            "2e4db8d4b8b74205a68d39422b7b0919",
            "7c51a7dca3854f9187fd60bcb4eff3cc",
            "09a5905429614f209de670e6cf07f0f7",
            "8c51ce1b8e0944c89387bcd7b6e04e8a",
            "18fcde2205e14ab4aff836ed41733af3",
            "cd339b2b1976423f960357c40ff7810b",
            "b99b12e85f7e4a86aba6fe2cfe7cde5c",
            "0a9d6238beaa4c7ca534120c03f77ded",
            "9f85a62fe7484e2a8b827d6f568a20cd",
            "5d6c995e8dec4d49ad62637c421b0a07",
            "2ae092f707a24646843a25918495ce33",
            "ab0c8ee5f41c40fb90822338a827985f",
            "bbf484a70e874b2f99f208b636f92fef",
            "a544da4469d945c2af040433aa664890",
            "76cf296c9b6b4cb2b49c9e3026a03755",
            "5193c1a306a3438f89f1369f1319dba1",
            "a30d7194d178419c84f94a614fea58d4",
            "5dd719bdb6c045da84c967884e4e3135"
          ]
        },
        "id": "wVogcXOjnkDv",
        "outputId": "64debb67-25ba-4afe-ce4f-2a479630a3c6"
      },
      "source": [
        "model = TFBertForSequenceClassification.from_pretrained(\"asafaya/bert-base-arabic\", num_labels=8)\n",
        "tokenizer = BertTokenizer.from_pretrained(\"asafaya/bert-base-arabic\")"
      ],
      "execution_count": 2,
      "outputs": [
        {
          "output_type": "display_data",
          "data": {
            "application/vnd.jupyter.widget-view+json": {
              "model_id": "cd2b78ae3902464db0b78424068d639e",
              "version_minor": 0,
              "version_major": 2
            },
            "text/plain": [
              "Downloading:   0%|          | 0.00/491 [00:00<?, ?B/s]"
            ]
          },
          "metadata": {}
        },
        {
          "output_type": "display_data",
          "data": {
            "application/vnd.jupyter.widget-view+json": {
              "model_id": "10d40d35b60b4cd78ae2f6ec4cdf93db",
              "version_minor": 0,
              "version_major": 2
            },
            "text/plain": [
              "Downloading:   0%|          | 0.00/520M [00:00<?, ?B/s]"
            ]
          },
          "metadata": {}
        },
        {
          "output_type": "stream",
          "name": "stderr",
          "text": [
            "All model checkpoint layers were used when initializing TFBertForSequenceClassification.\n",
            "\n",
            "Some layers of TFBertForSequenceClassification were not initialized from the model checkpoint at asafaya/bert-base-arabic and are newly initialized: ['classifier']\n",
            "You should probably TRAIN this model on a down-stream task to be able to use it for predictions and inference.\n"
          ]
        },
        {
          "output_type": "display_data",
          "data": {
            "application/vnd.jupyter.widget-view+json": {
              "model_id": "bcfd4f887d8148d1af64dd42d72ae196",
              "version_minor": 0,
              "version_major": 2
            },
            "text/plain": [
              "Downloading:   0%|          | 0.00/326k [00:00<?, ?B/s]"
            ]
          },
          "metadata": {}
        },
        {
          "output_type": "display_data",
          "data": {
            "application/vnd.jupyter.widget-view+json": {
              "model_id": "42c098ff2a7c46d4a52d624980384cd2",
              "version_minor": 0,
              "version_major": 2
            },
            "text/plain": [
              "Downloading:   0%|          | 0.00/112 [00:00<?, ?B/s]"
            ]
          },
          "metadata": {}
        },
        {
          "output_type": "display_data",
          "data": {
            "application/vnd.jupyter.widget-view+json": {
              "model_id": "0a9d6238beaa4c7ca534120c03f77ded",
              "version_minor": 0,
              "version_major": 2
            },
            "text/plain": [
              "Downloading:   0%|          | 0.00/62.0 [00:00<?, ?B/s]"
            ]
          },
          "metadata": {}
        }
      ]
    },
    {
      "cell_type": "markdown",
      "metadata": {
        "id": "qr04HKlxnkDw"
      },
      "source": [
        "The random number seed for shuffling the training set should be used for maintaining shuffling in the case of Python runtime not keeping it's state between epochs (e.g. Google Colab):"
      ]
    },
    {
      "cell_type": "code",
      "metadata": {
        "id": "YL_dKrlknkDw"
      },
      "source": [
        "seed_batching = 123"
      ],
      "execution_count": 3,
      "outputs": []
    },
    {
      "cell_type": "code",
      "metadata": {
        "colab": {
          "base_uri": "https://localhost:8080/"
        },
        "id": "cPolDwCtnkDw",
        "outputId": "b9984725-c09b-41c1-c43a-e36afca5ffd1"
      },
      "source": [
        "model.summary()"
      ],
      "execution_count": 4,
      "outputs": [
        {
          "output_type": "stream",
          "name": "stdout",
          "text": [
            "Model: \"tf_bert_for_sequence_classification\"\n",
            "_________________________________________________________________\n",
            "Layer (type)                 Output Shape              Param #   \n",
            "=================================================================\n",
            "bert (TFBertMainLayer)       multiple                  110617344 \n",
            "_________________________________________________________________\n",
            "dropout_37 (Dropout)         multiple                  0         \n",
            "_________________________________________________________________\n",
            "classifier (Dense)           multiple                  6152      \n",
            "=================================================================\n",
            "Total params: 110,623,496\n",
            "Trainable params: 110,623,496\n",
            "Non-trainable params: 0\n",
            "_________________________________________________________________\n"
          ]
        }
      ]
    },
    {
      "cell_type": "markdown",
      "metadata": {
        "id": "SbrzqctwnkDx"
      },
      "source": [
        "## 2.2. Creating of Training and Validation sets\n",
        "Loading Anica's dataset:"
      ]
    },
    {
      "cell_type": "code",
      "metadata": {
        "colab": {
          "base_uri": "https://localhost:8080/"
        },
        "id": "bStCyqV5nkDx",
        "outputId": "8a450f9b-a5df-4beb-98a4-566b063aaead"
      },
      "source": [
        "\"\"\"For separate runs at Colab without preprocessing\"\"\"\n",
        "from google.colab import drive\n",
        "drive.mount('/content/drive')\n",
        "\n",
        "df_train = pd.read_csv(\"./drive/My Drive/Bert/dummy_train.csv\")\n",
        "df_test = pd.read_csv(\"./drive/My Drive/Bert/dummy_test.csv\")"
      ],
      "execution_count": 5,
      "outputs": [
        {
          "output_type": "stream",
          "name": "stdout",
          "text": [
            "Mounted at /content/drive\n"
          ]
        }
      ]
    },
    {
      "cell_type": "code",
      "metadata": {
        "id": "R4eYE70gnkDx"
      },
      "source": [
        "\"\"\"For case, if preprocessing was executed\"\"\"\n",
        "df_train = train_df\n",
        "df_test = test_df"
      ],
      "execution_count": 20,
      "outputs": []
    },
    {
      "cell_type": "code",
      "metadata": {
        "colab": {
          "base_uri": "https://localhost:8080/",
          "height": 236
        },
        "id": "_267bKJVnkDy",
        "outputId": "1035fec5-a66e-4d5b-cc7a-4a494326bad1"
      },
      "source": [
        "df_train.head(1)"
      ],
      "execution_count": 6,
      "outputs": [
        {
          "output_type": "execute_result",
          "data": {
            "text/html": [
              "<div>\n",
              "<style scoped>\n",
              "    .dataframe tbody tr th:only-of-type {\n",
              "        vertical-align: middle;\n",
              "    }\n",
              "\n",
              "    .dataframe tbody tr th {\n",
              "        vertical-align: top;\n",
              "    }\n",
              "\n",
              "    .dataframe thead th {\n",
              "        text-align: right;\n",
              "    }\n",
              "</style>\n",
              "<table border=\"1\" class=\"dataframe\">\n",
              "  <thead>\n",
              "    <tr style=\"text-align: right;\">\n",
              "      <th></th>\n",
              "      <th>Unnamed: 0</th>\n",
              "      <th>Unnamed: 0.1</th>\n",
              "      <th>object_id</th>\n",
              "      <th>object_type</th>\n",
              "      <th>text</th>\n",
              "      <th>is_economic_labour_tension</th>\n",
              "      <th>is_political_tension</th>\n",
              "      <th>is_service_related_tension</th>\n",
              "      <th>is_community_insecurity_tension</th>\n",
              "      <th>topics</th>\n",
              "      <th>matched_features</th>\n",
              "      <th>date</th>\n",
              "      <th>clean_text</th>\n",
              "      <th>economic_labour_tension_direction_decrease</th>\n",
              "      <th>economic_labour_tension_direction_increase</th>\n",
              "      <th>political_tension_direction_decrease</th>\n",
              "      <th>political_tension_direction_increase</th>\n",
              "      <th>service_related_tension_direction_decrease</th>\n",
              "      <th>service_related_tension_direction_increase</th>\n",
              "      <th>community_insecurity_tension_direction_decrease</th>\n",
              "      <th>community_insecurity_tension_direction_increase</th>\n",
              "    </tr>\n",
              "  </thead>\n",
              "  <tbody>\n",
              "    <tr>\n",
              "      <th>0</th>\n",
              "      <td>1409</td>\n",
              "      <td>948</td>\n",
              "      <td>100053742612367-8c45f61602e550a3</td>\n",
              "      <td>facebook_post</td>\n",
              "      <td>تحذير من اندلاع الحرائق وتشديد على التبليغ فورًا</td>\n",
              "      <td>0.0</td>\n",
              "      <td>0.0</td>\n",
              "      <td>0.0</td>\n",
              "      <td>0.0</td>\n",
              "      <td>['other']</td>\n",
              "      <td>[None]</td>\n",
              "      <td>2021-07-06 11:20:09</td>\n",
              "      <td>تحذير من اندلاع الحرايق وتشديد على التبليغ فورا</td>\n",
              "      <td>0</td>\n",
              "      <td>0</td>\n",
              "      <td>0</td>\n",
              "      <td>0</td>\n",
              "      <td>0</td>\n",
              "      <td>0</td>\n",
              "      <td>0</td>\n",
              "      <td>0</td>\n",
              "    </tr>\n",
              "  </tbody>\n",
              "</table>\n",
              "</div>"
            ],
            "text/plain": [
              "   Unnamed: 0  ...  community_insecurity_tension_direction_increase\n",
              "0        1409  ...                                                0\n",
              "\n",
              "[1 rows x 21 columns]"
            ]
          },
          "metadata": {},
          "execution_count": 6
        }
      ]
    },
    {
      "cell_type": "code",
      "metadata": {
        "id": "-MJMwkQGnkDy"
      },
      "source": [
        "ID = 'object_id'\n",
        "DATA_COLUMN = 'clean_text'\n",
        "LABEL_COLUMNS = ['economic_labour_tension_direction_decrease',\n",
        "       'economic_labour_tension_direction_increase',\n",
        "       'political_tension_direction_decrease',\n",
        "       'political_tension_direction_increase',\n",
        "       'service_related_tension_direction_decrease',\n",
        "       'service_related_tension_direction_increase',\n",
        "       'community_insecurity_tension_direction_decrease',\n",
        "       'community_insecurity_tension_direction_increase']"
      ],
      "execution_count": 7,
      "outputs": []
    },
    {
      "cell_type": "code",
      "metadata": {
        "id": "_n6XoDN0nkDy"
      },
      "source": [
        "def convert_data_to_examples(df_input, data_columns, label_columns):\n",
        "    input_examples = df_input.apply(lambda x:\n",
        "                                    InputExample(guid=None,\n",
        "                                                 text_a=x[data_columns],\n",
        "                                                 text_b=None,\n",
        "                                                 label=(x[label_columns]).values),\n",
        "                                    axis=1)\n",
        "    return input_examples\n",
        "\n",
        "\n",
        "def convert_examples_to_tf_dataset(examples, tokenizer, max_length=128):\n",
        "    features = []\n",
        "    for e in examples:\n",
        "        input_dict = tokenizer.encode_plus(\n",
        "            e.text_a,\n",
        "            add_special_tokens=True,  # Adds [CLS] and [SEP].\n",
        "            max_length=max_length,\n",
        "            return_token_type_ids=True,\n",
        "            return_attention_mask=True,\n",
        "            padding=\"max_length\",\n",
        "            truncation=True)\n",
        "        input_ids, token_type_ids, attention_mask = (\n",
        "            input_dict[\"input_ids\"], input_dict[\"token_type_ids\"],\n",
        "            input_dict['attention_mask'])\n",
        "        features.append(InputFeatures(\n",
        "            input_ids=input_ids, attention_mask=attention_mask,\n",
        "            token_type_ids=token_type_ids, label=e.label))\n",
        "\n",
        "    def gen():\n",
        "        for f in features:\n",
        "            yield ({\n",
        "                \"input_ids\": f.input_ids,\n",
        "                \"attention_mask\": f.attention_mask,\n",
        "                \"token_type_ids\": f.token_type_ids, },\n",
        "                f.label, )\n",
        "    return tf.data.Dataset.from_generator(\n",
        "        gen, ({\n",
        "            \"input_ids\": tf.int32,\n",
        "            \"attention_mask\": tf.int32,\n",
        "            \"token_type_ids\": tf.int32},\n",
        "            tf.int64),\n",
        "        ({\n",
        "            \"input_ids\": tf.TensorShape([None]),\n",
        "            \"attention_mask\": tf.TensorShape([None]),\n",
        "            \"token_type_ids\": tf.TensorShape([None]), },\n",
        "            tf.TensorShape([8]), ), )   # 8 hard-coded here !!!"
      ],
      "execution_count": 8,
      "outputs": []
    },
    {
      "cell_type": "markdown",
      "metadata": {
        "id": "JcfcLIFankDy"
      },
      "source": [
        "At the first step a model predicting review score based on the review text will be created. For training of the BERT model the dataset samples should be converted to the InputExample objects, containing\n",
        "\n",
        "guid - unique id for the example (not used)\n",
        "text_a (string) - the untokenized text of the first sequence\n",
        "text_b (optional, string) - the untokenized text of the second sequence (not used)\n",
        "label (optional, int) - The label of the example\n",
        "and assembled to the TensorFlow datasets train_data and validation_data:"
      ]
    },
    {
      "cell_type": "code",
      "metadata": {
        "id": "7Qi-7mTynkDz"
      },
      "source": [
        "train_input_examples = convert_data_to_examples(\n",
        "    df_train, DATA_COLUMN, LABEL_COLUMNS) \n",
        "\n",
        "validation_input_examples = convert_data_to_examples(\n",
        "    df_test, DATA_COLUMN, LABEL_COLUMNS)\n",
        "\n",
        "train_data = convert_examples_to_tf_dataset(\n",
        "    list(train_input_examples), tokenizer)\n",
        "\n",
        "train_data = train_data.shuffle(\n",
        "    buffer_size=1000, seed=seed_batching).batch(32, drop_remainder=True)\n",
        "\n",
        "validation_data = convert_examples_to_tf_dataset(\n",
        "    list(validation_input_examples), tokenizer)\n",
        "validation_data = validation_data.batch(32, drop_remainder=True)"
      ],
      "execution_count": 9,
      "outputs": []
    },
    {
      "cell_type": "markdown",
      "metadata": {
        "id": "GcrsXx95nkDz"
      },
      "source": [
        "## 2.3. Treating sample imbalance ????"
      ]
    },
    {
      "cell_type": "code",
      "metadata": {
        "id": "1rmMgTK7nkDz"
      },
      "source": [
        ""
      ],
      "execution_count": null,
      "outputs": []
    },
    {
      "cell_type": "markdown",
      "metadata": {
        "id": "iHR2cuSPnkDz"
      },
      "source": [
        "## 2.4. Training the model\n",
        "The actual model has been trained on the Google Colab free runtime. In order to feed the model with different training sets across the epochs seed_batching random seed should be changed. The variation of learning_rate parameter between ??? and ??? as well as gamma power from 1 to 4 did ??? affected validation accuracy significantly????. The ???? model was trained within ?? epochs, ?? epochs with ???? steps and the last epoch with ???? steps. The training step time for the given batch size was about ??? ms for P100 GPU and ???? ms for T4 GPU in full precision mode. The mixed precision mode give ??? ms per step on T4 GPU. The validation set accuracy along the epochs is slightly above ???%."
      ]
    },
    {
      "cell_type": "code",
      "metadata": {
        "id": "DNRBnCyinkD0"
      },
      "source": [
        "@tf.function\n",
        "def macro_soft_f1(y, y_hat):\n",
        "    \"\"\"Compute the macro soft F1-score as a cost (average 1 - soft-F1 across all labels).\n",
        "    Use probability values instead of binary predictions.\n",
        "    \n",
        "    Args:\n",
        "        y (int32 Tensor): targets array of shape (BATCH_SIZE, N_LABELS)\n",
        "        y_hat (float32 Tensor): probability matrix from forward propagation of shape (BATCH_SIZE, N_LABELS)\n",
        "        \n",
        "    Returns:\n",
        "        cost (scalar Tensor): value of the cost function for the batch\n",
        "    \"\"\"\n",
        "    y = tf.cast(y, tf.float32)\n",
        "    y_hat = tf.cast(y_hat, tf.float32)\n",
        "    tp = tf.reduce_sum(y_hat * y, axis=0)\n",
        "    fp = tf.reduce_sum(y_hat * (1 - y), axis=0)\n",
        "    fn = tf.reduce_sum((1 - y_hat) * y, axis=0)\n",
        "    soft_f1 = 2*tp / (2*tp + fn + fp + 1e-16)\n",
        "    cost = 1 - soft_f1 # reduce 1 - soft-f1 in order to increase soft-f1\n",
        "    macro_cost = tf.reduce_mean(cost) # average on all labels\n",
        "    return macro_cost"
      ],
      "execution_count": 10,
      "outputs": []
    },
    {
      "cell_type": "code",
      "metadata": {
        "id": "IGBROxzYnkD0"
      },
      "source": [
        "@tf.function\n",
        "def macro_f1(y, y_hat, thresh=0.2):\n",
        "    \"\"\"Compute the macro F1-score on a batch of observations (average F1 across labels)\n",
        "    \n",
        "    Args:\n",
        "        y (int32 Tensor): labels array of shape (BATCH_SIZE, N_LABELS)\n",
        "        y_hat (float32 Tensor): probability matrix from forward propagation of shape (BATCH_SIZE, N_LABELS)\n",
        "        thresh: probability value above which we predict positive\n",
        "        \n",
        "    Returns:\n",
        "        macro_f1 (scalar Tensor): value of macro F1 for the batch\n",
        "    \"\"\"\n",
        "    y_pred = tf.cast(tf.greater(y_hat, thresh), tf.float32)\n",
        "    tp = tf.cast(tf.math.count_nonzero(y_pred * y, axis=0), tf.float32)\n",
        "    fp = tf.cast(tf.math.count_nonzero(y_pred * (1 - y), axis=0), tf.float32)\n",
        "    fn = tf.cast(tf.math.count_nonzero((1 - y_pred) * y, axis=0), tf.float32)\n",
        "    f1 = 2*tp / (2*tp + fn + fp + 1e-16)\n",
        "    macro_f1 = tf.reduce_mean(f1)\n",
        "    return macro_f1"
      ],
      "execution_count": 86,
      "outputs": []
    },
    {
      "cell_type": "code",
      "metadata": {
        "id": "y1KnE9tinkD0"
      },
      "source": [
        "opt = tf.keras.optimizers.Adam(learning_rate=2e-5, epsilon=1e-08, clipnorm=1.0)\n",
        "opt = tf.keras.mixed_precision.LossScaleOptimizer(opt)\n",
        "\n",
        "model.compile(optimizer=opt, \n",
        "              loss=macro_soft_f1,\n",
        "              metrics=[macro_f1])\n",
        "\n",
        "#model.compile(optimizer=opt, \n",
        "#              loss=tf.keras.losses.BinaryCrossentropy(), \n",
        "#              metrics=[tf.keras.metrics.BinaryAccuracy()])"
      ],
      "execution_count": 87,
      "outputs": []
    },
    {
      "cell_type": "markdown",
      "metadata": {
        "id": "gm2OGHFYnkD1"
      },
      "source": [
        "We need to use keras.metrics.BinaryAccuracy() for measuring the accuracy since it calculates how often predictions match binary labels.\n",
        "\n",
        "As we are dealing with multi-label classification and true labels are encoded multi-hot, we need to compare pairwise (binary!): each element of prediction with the corresponding element of true labels.\n",
        "\n",
        "See https://medium.com/deep-learning-with-keras/how-to-solve-multi-label-classification-problems-in-deep-learning-with-tensorflow-keras-7fb933243595\n",
        "\n",
        "For soft-F1 see https://github.com/ashrefm/multi-label-soft-f1/blob/master/Multi-Label%20Image%20Classification%20in%20TensorFlow%202.0.ipynb"
      ]
    },
    {
      "cell_type": "code",
      "metadata": {
        "colab": {
          "base_uri": "https://localhost:8080/"
        },
        "id": "1PhJI559nkD1",
        "outputId": "c0cbcfeb-ca8f-43dc-fb97-bbed651b9da7"
      },
      "source": [
        "model.fit(train_data.repeat(), epochs=4, steps_per_epoch=100, validation_data=validation_data)"
      ],
      "execution_count": 88,
      "outputs": [
        {
          "metadata": {
            "tags": null
          },
          "name": "stdout",
          "output_type": "stream",
          "text": [
            "Epoch 1/4\n",
            "100/100 [==============================] - 196s 2s/step - loss: 0.9646 - macro_f1: 0.0333 - val_loss: 0.9578 - val_macro_f1: 0.0413\n",
            "Epoch 2/4\n",
            "100/100 [==============================] - 162s 2s/step - loss: 0.9657 - macro_f1: 0.0336 - val_loss: 0.9566 - val_macro_f1: 0.0413\n",
            "Epoch 3/4\n",
            "100/100 [==============================] - 162s 2s/step - loss: 0.9626 - macro_f1: 0.0330 - val_loss: 0.9546 - val_macro_f1: 0.0270\n",
            "Epoch 4/4\n",
            "100/100 [==============================] - 162s 2s/step - loss: 0.9631 - macro_f1: 0.0286 - val_loss: 0.9565 - val_macro_f1: 0.0376\n"
          ]
        },
        {
          "data": {
            "text/plain": [
              "<keras.callbacks.History at 0x7fc73e928ed0>"
            ]
          },
          "execution_count": null,
          "metadata": {},
          "output_type": "execute_result"
        }
      ]
    },
    {
      "cell_type": "raw",
      "metadata": {
        "id": "wwfuybxOnkD2"
      },
      "source": [
        "Epoch 1/4\n",
        "100/100 [==============================] - 163s 2s/step - loss: 0.9647 - macro_f1: 0.0342 - val_loss: 0.9573 - val_macro_f1: 0.0236\n",
        "Epoch 2/4\n",
        "100/100 [==============================] - 162s 2s/step - loss: 0.9660 - macro_f1: 0.0291 - val_loss: 0.9578 - val_macro_f1: 0.0399\n",
        "Epoch 3/4\n",
        "100/100 [==============================] - 162s 2s/step - loss: 0.9651 - macro_f1: 0.0327 - val_loss: 0.9574 - val_macro_f1: 0.0399\n",
        "Epoch 4/4\n",
        "100/100 [==============================] - 162s 2s/step - loss: 0.9656 - macro_f1: 0.0320 - val_loss: 0.9572 - val_macro_f1: 0.0399\n",
        "<keras.callbacks.History at 0x7f05c3e75f50>"
      ]
    },
    {
      "cell_type": "code",
      "metadata": {
        "id": "GMuRAHfl4Q8F"
      },
      "source": [
        "\"\"\"Batch prediction for validation data\"\"\"\n",
        "tf_batch = tokenizer(df_test[DATA_COLUMN].tolist(), max_length=128, padding=True, truncation=True, return_tensors='tf')\n",
        "tf_outputs = model(tf_batch)\n",
        "predictions = tf.nn.softmax(tf_outputs[0], axis=-1)\n",
        "\n",
        "y_true = df_test[LABEL_COLUMNS].to_numpy()             \n",
        "                     \n",
        "LABELS = LABEL_COLUMNS\n",
        "\n",
        "#X_test = test[\"DATA_COLUMN\"]\n",
        "#predictions = model.predict(X_test, batch_size=1000)\n",
        "\n",
        "\n"
      ],
      "execution_count": 89,
      "outputs": []
    },
    {
      "cell_type": "code",
      "metadata": {
        "id": "NV-XfbcS_437"
      },
      "source": [
        "my_threshold = 0.2  # hard-coded threshold !!!!!!!!!!!!!!!!\n",
        "\n",
        "y_pred = []\n",
        "for sample in predictions.numpy():\n",
        "    y_pred.append([1 if i >= my_threshold else 0 for i in sample ])\n",
        "\n",
        "y_pred = np.array(y_pred)\n",
        "#y_pred[8]\n",
        "#predictions.numpy()[8]\n",
        "\n",
        "#df_predictions = pd.DataFrame(predictions.numpy())\n",
        "\n",
        "#df_predictions\n",
        "#y_true[8]\n",
        "confusion_matrix = multilabel_confusion_matrix(y_true, y_pred)"
      ],
      "execution_count": 90,
      "outputs": []
    },
    {
      "cell_type": "code",
      "metadata": {
        "id": "cDcgxW-K7f1T",
        "outputId": "3ea91ac0-a52f-4b00-b2bb-ef052daad667",
        "colab": {
          "base_uri": "https://localhost:8080/"
        }
      },
      "source": [
        "\"\"\"Classification report\"\"\"\n",
        "print(classification_report(y_true, y_pred,target_names=LABEL_COLUMNS))"
      ],
      "execution_count": 91,
      "outputs": [
        {
          "output_type": "stream",
          "name": "stdout",
          "text": [
            "                                                 precision    recall  f1-score   support\n",
            "\n",
            "     economic_labour_tension_direction_decrease       0.00      0.00      0.00         0\n",
            "     economic_labour_tension_direction_increase       0.00      0.00      0.00        15\n",
            "           political_tension_direction_decrease       0.00      0.00      0.00         0\n",
            "           political_tension_direction_increase       0.06      1.00      0.12        21\n",
            "     service_related_tension_direction_decrease       0.00      0.00      0.00         2\n",
            "     service_related_tension_direction_increase       0.05      1.00      0.10        16\n",
            "community_insecurity_tension_direction_decrease       0.00      0.00      0.00         0\n",
            "community_insecurity_tension_direction_increase       0.00      0.00      0.00         5\n",
            "\n",
            "                                      micro avg       0.06      0.63      0.10        59\n",
            "                                      macro avg       0.01      0.25      0.03        59\n",
            "                                   weighted avg       0.04      0.63      0.07        59\n",
            "                                    samples avg       0.06      0.11      0.08        59\n",
            "\n"
          ]
        },
        {
          "output_type": "stream",
          "name": "stderr",
          "text": [
            "/usr/local/lib/python3.7/dist-packages/sklearn/metrics/_classification.py:1272: UndefinedMetricWarning: Precision and F-score are ill-defined and being set to 0.0 in labels with no predicted samples. Use `zero_division` parameter to control this behavior.\n",
            "  _warn_prf(average, modifier, msg_start, len(result))\n",
            "/usr/local/lib/python3.7/dist-packages/sklearn/metrics/_classification.py:1272: UndefinedMetricWarning: Recall and F-score are ill-defined and being set to 0.0 in labels with no true samples. Use `zero_division` parameter to control this behavior.\n",
            "  _warn_prf(average, modifier, msg_start, len(result))\n",
            "/usr/local/lib/python3.7/dist-packages/sklearn/metrics/_classification.py:1272: UndefinedMetricWarning: Recall and F-score are ill-defined and being set to 0.0 in samples with no true labels. Use `zero_division` parameter to control this behavior.\n",
            "  _warn_prf(average, modifier, msg_start, len(result))\n"
          ]
        }
      ]
    },
    {
      "cell_type": "code",
      "metadata": {
        "id": "hv26qHHSLRGF"
      },
      "source": [
        "def print_confusion_matrix(confusion_matrix, axes, class_label, class_names, fontsize=14):\n",
        "\n",
        "    df_cm = pd.DataFrame(\n",
        "        confusion_matrix, index=class_names, columns=class_names,\n",
        "    )\n",
        "\n",
        "    try:\n",
        "        heatmap = sns.heatmap(df_cm, annot=True, fmt=\"d\", cbar=False, ax=axes)\n",
        "    except ValueError:\n",
        "        raise ValueError(\"Confusion matrix values must be integers.\")\n",
        "    heatmap.yaxis.set_ticklabels(heatmap.yaxis.get_ticklabels(), rotation=0, ha='right', fontsize=fontsize)\n",
        "    heatmap.xaxis.set_ticklabels(heatmap.xaxis.get_ticklabels(), rotation=45, ha='right', fontsize=fontsize)\n",
        "    axes.set_ylabel('True label')\n",
        "    axes.set_xlabel('Predicted label')\n",
        "    axes.set_title(\"Confusion Matrix for the class - \" + class_label)"
      ],
      "execution_count": 92,
      "outputs": []
    },
    {
      "cell_type": "code",
      "metadata": {
        "id": "fvmiuQ6RKKLS",
        "outputId": "9204e17b-437a-4040-d764-0855b2be40a0",
        "colab": {
          "base_uri": "https://localhost:8080/",
          "height": 1000
        }
      },
      "source": [
        "\"\"\"Visualization of multilabel confusion matrix\"\"\"\n",
        "\n",
        "fig, ax = plt.subplots(4, 2, figsize=(32, 37))\n",
        "    \n",
        "for axes, cfs_matrix, label in zip(ax.flatten(), confusion_matrix, LABEL_COLUMNS):\n",
        "    print_confusion_matrix(cfs_matrix, axes, label, [\"N\", \"Y\"])\n",
        "    \n",
        "fig.tight_layout()\n",
        "plt.show()"
      ],
      "execution_count": 93,
      "outputs": [
        {
          "output_type": "display_data",
          "data": {
            "image/png": "[encoded data removed]",
            "text/plain": [
              "<Figure size 2304x2664 with 8 Axes>"
            ]
          },
          "metadata": {}
        }
      ]
    },
    {
      "cell_type": "code",
      "metadata": {
        "colab": {
          "base_uri": "https://localhost:8080/",
          "height": 35
        },
        "id": "jR5A6d5gu9Bd",
        "outputId": "9a37da1b-5503-43e3-f8d5-d5c944f505af"
      },
      "source": [
        "\"\"\"Some auxiliary expressions to get an idea about the data structure\"\"\"\n",
        "#df_train\n",
        "#list(train_data.batch(1, drop_remainder=True))\n",
        "#train_input_examples\n",
        "#train_input_examples[1]"
      ],
      "execution_count": 94,
      "outputs": [
        {
          "output_type": "execute_result",
          "data": {
            "application/vnd.google.colaboratory.intrinsic+json": {
              "type": "string"
            },
            "text/plain": [
              "'Some auxiliary expressions to get an idea about the data structure'"
            ]
          },
          "metadata": {},
          "execution_count": 94
        }
      ]
    },
    {
      "cell_type": "code",
      "metadata": {
        "id": "fqUecOjz30Ym"
      },
      "source": [
        ""
      ],
      "execution_count": null,
      "outputs": []
    },
    {
      "cell_type": "markdown",
      "metadata": {
        "id": "jMLwIG2FnkD2"
      },
      "source": [
        "## Baseline model using the annotations from the training data\n",
        "\n",
        "This is quite horribly written and has a double loop in the predict which makes it slow so \n",
        "should probably be cleaned up etc"
      ]
    },
    {
      "cell_type": "code",
      "metadata": {
        "id": "cgx9CnUKnkD2"
      },
      "source": [
        "df_annotations = pd.merge(train_df, df_appendix, on=\"object_id\")"
      ],
      "execution_count": null,
      "outputs": []
    },
    {
      "cell_type": "code",
      "metadata": {
        "id": "XRRkoyX-nkD2"
      },
      "source": [
        "TENSIONS = [\n",
        "    \"economic_labour_tension\",\n",
        "    \"political_tension\",\n",
        "    \"service_related_tension\",\n",
        "    \"community_insecurity_tension\",\n",
        "]\n",
        "\n",
        "all_feats = []\n",
        "for tension in TENSIONS:\n",
        "    feats = df_annotations[~df_annotations[f\"{tension}_features\"].isnull()][f\"{tension}_features\"]\n",
        "    if len(feats) > 0:\n",
        "        feats = pd.DataFrame({\"feature\": feats.str.split(\",\").explode()})\n",
        "        feats[\"tension\"] = tension\n",
        "        all_feats.append(feats)\n",
        "feats = pd.concat(all_feats, ignore_index=True, axis=0)\n",
        "feats = {f[\"feature\"]: f[\"tension\"] for _, f in feats.iterrows()}\n",
        "\n",
        "\n",
        "class Baseline(BaseEstimator, ClassifierMixin):\n",
        "    def __init__(self, features):\n",
        "        self.features = features\n",
        "\n",
        "    def fit(self, X, y=None):\n",
        "        return self\n",
        "\n",
        "    def predict(self, X):\n",
        "        predictions = []\n",
        "        for _, row in X.iterrows():\n",
        "            out = {f\"is_{t}\": False for t in TENSIONS}\n",
        "            for feat, tension in self.features.items():\n",
        "                if feat in row[\"text\"]:\n",
        "                    out[f\"is_{tension}\"] = True\n",
        "            predictions.append(out)\n",
        "        return pd.DataFrame(predictions)[COL_ORDER].values"
      ],
      "execution_count": null,
      "outputs": []
    },
    {
      "cell_type": "code",
      "metadata": {
        "id": "Yq85VsNWnkD3"
      },
      "source": [
        "def test(model, df):\n",
        "    preds = model.predict(df)\n",
        "    return metrics.f1_score(df[COL_ORDER].values, preds, average=\"macro\")"
      ],
      "execution_count": null,
      "outputs": []
    },
    {
      "cell_type": "code",
      "metadata": {
        "id": "0P0JIctrnkD4",
        "outputId": "4dc3139d-fc68-4010-eb4e-d6bd2c3dcee4"
      },
      "source": [
        "model = Baseline(feats)\n",
        "\n",
        "test(model, train_df), test(model, test_df)"
      ],
      "execution_count": null,
      "outputs": [
        {
          "data": {
            "text/plain": [
              "(0.08444991747911457, 0.0)"
            ]
          },
          "execution_count": 100,
          "metadata": {},
          "output_type": "execute_result"
        }
      ]
    },
    {
      "cell_type": "markdown",
      "metadata": {
        "id": "Oor2wVyFnkD4"
      },
      "source": [
        "## Quick and dirty Random Forest classifier using the topics"
      ]
    },
    {
      "cell_type": "code",
      "metadata": {
        "id": "RGM_VcCXnkD4"
      },
      "source": [
        "class CategoricalColumns(BaseEstimator, TransformerMixin):\n",
        "    \"\"\"CategoricalColumns is a quick and dirty One Hot Encoder transformer for the topics column.\"\"\"\n",
        "    def fit(self, df, y=None):\n",
        "        topics = self._to_array(df[\"topics\"])\n",
        "        columns = topics.explode().unique()\n",
        "        self.columns = [c.strip() for c in columns]\n",
        "        return self\n",
        "        \n",
        "    def transform(self, df):\n",
        "        out = {}\n",
        "        for col in self.columns:\n",
        "            out[col] = df[\"topics\"].str.contains(col).astype(int)\n",
        "        return pd.DataFrame(out)\n",
        "        \n",
        "    def _to_array(self, series):\n",
        "        \"\"\"Clean up a series to \"\"\"\n",
        "        remove = [\"[\", \"]\", \"'\"]\n",
        "        for char in remove:\n",
        "            series = series.str.replace(char, \"\", regex=False)\n",
        "        return series.str.split(\",\")"
      ],
      "execution_count": null,
      "outputs": []
    },
    {
      "cell_type": "code",
      "metadata": {
        "id": "3GgeSW1onkD4",
        "outputId": "9ca20eba-cb74-4aa7-e3a1-7280a43f88be"
      },
      "source": [
        "#CategoricalColumns returns this one-hot encoding.\n",
        "CategoricalColumns().fit_transform(train_df)"
      ],
      "execution_count": null,
      "outputs": [
        {
          "data": {
            "text/html": [
              "<div>\n",
              "<style scoped>\n",
              "    .dataframe tbody tr th:only-of-type {\n",
              "        vertical-align: middle;\n",
              "    }\n",
              "\n",
              "    .dataframe tbody tr th {\n",
              "        vertical-align: top;\n",
              "    }\n",
              "\n",
              "    .dataframe thead th {\n",
              "        text-align: right;\n",
              "    }\n",
              "</style>\n",
              "<table border=\"1\" class=\"dataframe\">\n",
              "  <thead>\n",
              "    <tr style=\"text-align: right;\">\n",
              "      <th></th>\n",
              "      <th>other</th>\n",
              "      <th>lebanese army/security forces</th>\n",
              "      <th>religious figure</th>\n",
              "      <th>covid / vaccination</th>\n",
              "      <th>beirut</th>\n",
              "      <th>economic collapse</th>\n",
              "      <th>education</th>\n",
              "      <th>foreign countries</th>\n",
              "      <th>lebanese revolution</th>\n",
              "      <th>north lebanon</th>\n",
              "      <th>...</th>\n",
              "      <th>occupied palestine</th>\n",
              "      <th>false news</th>\n",
              "      <th>call for protest</th>\n",
              "      <th>aid</th>\n",
              "      <th>external affairs/diplomacy</th>\n",
              "      <th>offensive language</th>\n",
              "      <th>international organizations / un</th>\n",
              "      <th>south lebanon</th>\n",
              "      <th>lebanese judiciary</th>\n",
              "      <th>asad regime</th>\n",
              "    </tr>\n",
              "  </thead>\n",
              "  <tbody>\n",
              "    <tr>\n",
              "      <th>1409</th>\n",
              "      <td>1</td>\n",
              "      <td>0</td>\n",
              "      <td>0</td>\n",
              "      <td>0</td>\n",
              "      <td>0</td>\n",
              "      <td>0</td>\n",
              "      <td>0</td>\n",
              "      <td>0</td>\n",
              "      <td>0</td>\n",
              "      <td>0</td>\n",
              "      <td>...</td>\n",
              "      <td>0</td>\n",
              "      <td>0</td>\n",
              "      <td>0</td>\n",
              "      <td>0</td>\n",
              "      <td>0</td>\n",
              "      <td>0</td>\n",
              "      <td>0</td>\n",
              "      <td>0</td>\n",
              "      <td>0</td>\n",
              "      <td>0</td>\n",
              "    </tr>\n",
              "    <tr>\n",
              "      <th>963</th>\n",
              "      <td>1</td>\n",
              "      <td>0</td>\n",
              "      <td>0</td>\n",
              "      <td>0</td>\n",
              "      <td>0</td>\n",
              "      <td>0</td>\n",
              "      <td>0</td>\n",
              "      <td>0</td>\n",
              "      <td>0</td>\n",
              "      <td>0</td>\n",
              "      <td>...</td>\n",
              "      <td>0</td>\n",
              "      <td>0</td>\n",
              "      <td>0</td>\n",
              "      <td>0</td>\n",
              "      <td>0</td>\n",
              "      <td>0</td>\n",
              "      <td>0</td>\n",
              "      <td>0</td>\n",
              "      <td>0</td>\n",
              "      <td>0</td>\n",
              "    </tr>\n",
              "    <tr>\n",
              "      <th>1450</th>\n",
              "      <td>1</td>\n",
              "      <td>0</td>\n",
              "      <td>0</td>\n",
              "      <td>0</td>\n",
              "      <td>0</td>\n",
              "      <td>0</td>\n",
              "      <td>0</td>\n",
              "      <td>0</td>\n",
              "      <td>0</td>\n",
              "      <td>0</td>\n",
              "      <td>...</td>\n",
              "      <td>0</td>\n",
              "      <td>0</td>\n",
              "      <td>0</td>\n",
              "      <td>0</td>\n",
              "      <td>0</td>\n",
              "      <td>0</td>\n",
              "      <td>0</td>\n",
              "      <td>0</td>\n",
              "      <td>0</td>\n",
              "      <td>0</td>\n",
              "    </tr>\n",
              "    <tr>\n",
              "      <th>1174</th>\n",
              "      <td>1</td>\n",
              "      <td>0</td>\n",
              "      <td>0</td>\n",
              "      <td>0</td>\n",
              "      <td>0</td>\n",
              "      <td>0</td>\n",
              "      <td>0</td>\n",
              "      <td>0</td>\n",
              "      <td>0</td>\n",
              "      <td>0</td>\n",
              "      <td>...</td>\n",
              "      <td>0</td>\n",
              "      <td>0</td>\n",
              "      <td>0</td>\n",
              "      <td>0</td>\n",
              "      <td>0</td>\n",
              "      <td>0</td>\n",
              "      <td>0</td>\n",
              "      <td>0</td>\n",
              "      <td>0</td>\n",
              "      <td>0</td>\n",
              "    </tr>\n",
              "    <tr>\n",
              "      <th>452</th>\n",
              "      <td>1</td>\n",
              "      <td>0</td>\n",
              "      <td>0</td>\n",
              "      <td>0</td>\n",
              "      <td>0</td>\n",
              "      <td>0</td>\n",
              "      <td>0</td>\n",
              "      <td>0</td>\n",
              "      <td>0</td>\n",
              "      <td>0</td>\n",
              "      <td>...</td>\n",
              "      <td>0</td>\n",
              "      <td>0</td>\n",
              "      <td>0</td>\n",
              "      <td>0</td>\n",
              "      <td>0</td>\n",
              "      <td>0</td>\n",
              "      <td>0</td>\n",
              "      <td>0</td>\n",
              "      <td>0</td>\n",
              "      <td>0</td>\n",
              "    </tr>\n",
              "    <tr>\n",
              "      <th>...</th>\n",
              "      <td>...</td>\n",
              "      <td>...</td>\n",
              "      <td>...</td>\n",
              "      <td>...</td>\n",
              "      <td>...</td>\n",
              "      <td>...</td>\n",
              "      <td>...</td>\n",
              "      <td>...</td>\n",
              "      <td>...</td>\n",
              "      <td>...</td>\n",
              "      <td>...</td>\n",
              "      <td>...</td>\n",
              "      <td>...</td>\n",
              "      <td>...</td>\n",
              "      <td>...</td>\n",
              "      <td>...</td>\n",
              "      <td>...</td>\n",
              "      <td>...</td>\n",
              "      <td>...</td>\n",
              "      <td>...</td>\n",
              "      <td>...</td>\n",
              "    </tr>\n",
              "    <tr>\n",
              "      <th>621</th>\n",
              "      <td>1</td>\n",
              "      <td>0</td>\n",
              "      <td>0</td>\n",
              "      <td>0</td>\n",
              "      <td>0</td>\n",
              "      <td>0</td>\n",
              "      <td>0</td>\n",
              "      <td>0</td>\n",
              "      <td>0</td>\n",
              "      <td>0</td>\n",
              "      <td>...</td>\n",
              "      <td>0</td>\n",
              "      <td>0</td>\n",
              "      <td>0</td>\n",
              "      <td>0</td>\n",
              "      <td>0</td>\n",
              "      <td>0</td>\n",
              "      <td>0</td>\n",
              "      <td>0</td>\n",
              "      <td>0</td>\n",
              "      <td>0</td>\n",
              "    </tr>\n",
              "    <tr>\n",
              "      <th>1152</th>\n",
              "      <td>0</td>\n",
              "      <td>0</td>\n",
              "      <td>0</td>\n",
              "      <td>0</td>\n",
              "      <td>0</td>\n",
              "      <td>1</td>\n",
              "      <td>0</td>\n",
              "      <td>0</td>\n",
              "      <td>0</td>\n",
              "      <td>0</td>\n",
              "      <td>...</td>\n",
              "      <td>0</td>\n",
              "      <td>0</td>\n",
              "      <td>0</td>\n",
              "      <td>0</td>\n",
              "      <td>0</td>\n",
              "      <td>0</td>\n",
              "      <td>0</td>\n",
              "      <td>0</td>\n",
              "      <td>0</td>\n",
              "      <td>0</td>\n",
              "    </tr>\n",
              "    <tr>\n",
              "      <th>57</th>\n",
              "      <td>1</td>\n",
              "      <td>0</td>\n",
              "      <td>0</td>\n",
              "      <td>0</td>\n",
              "      <td>0</td>\n",
              "      <td>0</td>\n",
              "      <td>0</td>\n",
              "      <td>0</td>\n",
              "      <td>0</td>\n",
              "      <td>0</td>\n",
              "      <td>...</td>\n",
              "      <td>0</td>\n",
              "      <td>0</td>\n",
              "      <td>0</td>\n",
              "      <td>0</td>\n",
              "      <td>0</td>\n",
              "      <td>0</td>\n",
              "      <td>0</td>\n",
              "      <td>0</td>\n",
              "      <td>0</td>\n",
              "      <td>0</td>\n",
              "    </tr>\n",
              "    <tr>\n",
              "      <th>1365</th>\n",
              "      <td>1</td>\n",
              "      <td>0</td>\n",
              "      <td>0</td>\n",
              "      <td>0</td>\n",
              "      <td>0</td>\n",
              "      <td>0</td>\n",
              "      <td>0</td>\n",
              "      <td>0</td>\n",
              "      <td>0</td>\n",
              "      <td>0</td>\n",
              "      <td>...</td>\n",
              "      <td>0</td>\n",
              "      <td>0</td>\n",
              "      <td>0</td>\n",
              "      <td>0</td>\n",
              "      <td>0</td>\n",
              "      <td>0</td>\n",
              "      <td>0</td>\n",
              "      <td>0</td>\n",
              "      <td>0</td>\n",
              "      <td>0</td>\n",
              "    </tr>\n",
              "    <tr>\n",
              "      <th>1140</th>\n",
              "      <td>1</td>\n",
              "      <td>0</td>\n",
              "      <td>0</td>\n",
              "      <td>0</td>\n",
              "      <td>0</td>\n",
              "      <td>0</td>\n",
              "      <td>0</td>\n",
              "      <td>0</td>\n",
              "      <td>0</td>\n",
              "      <td>0</td>\n",
              "      <td>...</td>\n",
              "      <td>0</td>\n",
              "      <td>0</td>\n",
              "      <td>0</td>\n",
              "      <td>0</td>\n",
              "      <td>0</td>\n",
              "      <td>0</td>\n",
              "      <td>0</td>\n",
              "      <td>0</td>\n",
              "      <td>0</td>\n",
              "      <td>0</td>\n",
              "    </tr>\n",
              "  </tbody>\n",
              "</table>\n",
              "<p>1315 rows × 33 columns</p>\n",
              "</div>"
            ],
            "text/plain": [
              "      other  lebanese army/security forces  religious figure  \\\n",
              "1409      1                              0                 0   \n",
              "963       1                              0                 0   \n",
              "1450      1                              0                 0   \n",
              "1174      1                              0                 0   \n",
              "452       1                              0                 0   \n",
              "...     ...                            ...               ...   \n",
              "621       1                              0                 0   \n",
              "1152      0                              0                 0   \n",
              "57        1                              0                 0   \n",
              "1365      1                              0                 0   \n",
              "1140      1                              0                 0   \n",
              "\n",
              "      covid / vaccination  beirut  economic collapse  education  \\\n",
              "1409                    0       0                  0          0   \n",
              "963                     0       0                  0          0   \n",
              "1450                    0       0                  0          0   \n",
              "1174                    0       0                  0          0   \n",
              "452                     0       0                  0          0   \n",
              "...                   ...     ...                ...        ...   \n",
              "621                     0       0                  0          0   \n",
              "1152                    0       0                  1          0   \n",
              "57                      0       0                  0          0   \n",
              "1365                    0       0                  0          0   \n",
              "1140                    0       0                  0          0   \n",
              "\n",
              "      foreign countries  lebanese revolution  north lebanon  ...  \\\n",
              "1409                  0                    0              0  ...   \n",
              "963                   0                    0              0  ...   \n",
              "1450                  0                    0              0  ...   \n",
              "1174                  0                    0              0  ...   \n",
              "452                   0                    0              0  ...   \n",
              "...                 ...                  ...            ...  ...   \n",
              "621                   0                    0              0  ...   \n",
              "1152                  0                    0              0  ...   \n",
              "57                    0                    0              0  ...   \n",
              "1365                  0                    0              0  ...   \n",
              "1140                  0                    0              0  ...   \n",
              "\n",
              "      occupied palestine  false news  call for protest  aid  \\\n",
              "1409                   0           0                 0    0   \n",
              "963                    0           0                 0    0   \n",
              "1450                   0           0                 0    0   \n",
              "1174                   0           0                 0    0   \n",
              "452                    0           0                 0    0   \n",
              "...                  ...         ...               ...  ...   \n",
              "621                    0           0                 0    0   \n",
              "1152                   0           0                 0    0   \n",
              "57                     0           0                 0    0   \n",
              "1365                   0           0                 0    0   \n",
              "1140                   0           0                 0    0   \n",
              "\n",
              "      external affairs/diplomacy  offensive language  \\\n",
              "1409                           0                   0   \n",
              "963                            0                   0   \n",
              "1450                           0                   0   \n",
              "1174                           0                   0   \n",
              "452                            0                   0   \n",
              "...                          ...                 ...   \n",
              "621                            0                   0   \n",
              "1152                           0                   0   \n",
              "57                             0                   0   \n",
              "1365                           0                   0   \n",
              "1140                           0                   0   \n",
              "\n",
              "      international organizations / un  south lebanon  lebanese judiciary  \\\n",
              "1409                                 0              0                   0   \n",
              "963                                  0              0                   0   \n",
              "1450                                 0              0                   0   \n",
              "1174                                 0              0                   0   \n",
              "452                                  0              0                   0   \n",
              "...                                ...            ...                 ...   \n",
              "621                                  0              0                   0   \n",
              "1152                                 0              0                   0   \n",
              "57                                   0              0                   0   \n",
              "1365                                 0              0                   0   \n",
              "1140                                 0              0                   0   \n",
              "\n",
              "      asad regime  \n",
              "1409            0  \n",
              "963             0  \n",
              "1450            0  \n",
              "1174            0  \n",
              "452             0  \n",
              "...           ...  \n",
              "621             0  \n",
              "1152            0  \n",
              "57              0  \n",
              "1365            0  \n",
              "1140            0  \n",
              "\n",
              "[1315 rows x 33 columns]"
            ]
          },
          "execution_count": 102,
          "metadata": {},
          "output_type": "execute_result"
        }
      ]
    },
    {
      "cell_type": "code",
      "metadata": {
        "id": "Ruw4NI6fnkD5",
        "outputId": "0f66216e-bddd-4388-8a03-8cd4004d9778"
      },
      "source": [
        "forest = RandomForestClassifier(random_state=2021, class_weight=\"balanced\")\n",
        "multi_target_forest = MultiOutputClassifier(forest, n_jobs=-1)\n",
        "\n",
        "model = Pipeline(\n",
        "    [\n",
        "        (\"categories\", CategoricalColumns()),\n",
        "        (\"random_forest\", multi_target_forest)\n",
        "    ]\n",
        ")\n",
        "\n",
        "model = model.fit(train_df, train_df[COL_ORDER].values)\n",
        "\n",
        "test(model, train_df), test(model, test_df)"
      ],
      "execution_count": null,
      "outputs": [
        {
          "data": {
            "text/plain": [
              "(0.23948309102198564, 0.20484195032733407)"
            ]
          },
          "execution_count": 103,
          "metadata": {},
          "output_type": "execute_result"
        }
      ]
    }
  ]
}