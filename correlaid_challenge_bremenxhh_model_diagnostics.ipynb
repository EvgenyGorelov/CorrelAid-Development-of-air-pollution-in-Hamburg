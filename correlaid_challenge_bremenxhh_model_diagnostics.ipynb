{
  "nbformat": 4,
  "nbformat_minor": 0,
  "metadata": {
    "kernelspec": {
      "display_name": "Python 3",
      "language": "python",
      "name": "python3"
    },
    "language_info": {
      "codemirror_mode": {
        "name": "ipython",
        "version": 3
      },
      "file_extension": ".py",
      "mimetype": "text/x-python",
      "name": "python",
      "nbconvert_exporter": "python",
      "pygments_lexer": "ipython3",
      "version": "3.7.4"
    },
    "colab": {
      "name": "correlaid_challenge_bremenxhh.ipynb",
      "provenance": []
    },
    "accelerator": "GPU"
  },
  "cells": [
    {
      "cell_type": "markdown",
      "metadata": {
        "id": "cxWnh8zunkDa"
      },
      "source": [
        "# CorrelAid X Challenge 2021 - Classifying tensions in social media data using NLP\n",
        "Chapter Bremen X HH"
      ]
    },
    {
      "cell_type": "markdown",
      "metadata": {
        "id": "gxU8LbYKnkDi"
      },
      "source": [
        "### Libraries"
      ]
    },
    {
      "cell_type": "code",
      "metadata": {
        "colab": {
          "base_uri": "https://localhost:8080/"
        },
        "id": "YDBmVaEFnkDi",
        "outputId": "fb1b5501-309e-4e3c-8f1b-ca7c58408762"
      },
      "source": [
        "!pip3 install transformers\n",
        "import tensorflow as tf\n",
        "import tensorflow_datasets as tfds\n",
        "\n",
        "from transformers import BertTokenizer, TFBertForSequenceClassification\n",
        "from transformers import InputExample, InputFeatures\n",
        "\n",
        "import pandas as pd\n",
        "from pandas.api.types import CategoricalDtype\n",
        "import numpy as np\n",
        "from collections import Counter\n",
        "\n",
        "from sklearn import metrics\n",
        "from sklearn.base import BaseEstimator, ClassifierMixin, TransformerMixin\n",
        "from sklearn.ensemble import RandomForestClassifier\n",
        "from sklearn.model_selection import train_test_split\n",
        "from sklearn.multioutput import MultiOutputClassifier\n",
        "from sklearn.pipeline import Pipeline\n",
        "\n",
        "from sklearn.metrics import multilabel_confusion_matrix, classification_report, confusion_matrix, ConfusionMatrixDisplay\n",
        "\n",
        "import matplotlib.pyplot as plt\n",
        "import seaborn as sns"
      ],
      "execution_count": 1,
      "outputs": [
        {
          "output_type": "stream",
          "name": "stdout",
          "text": [
            "Collecting transformers\n",
            "  Downloading transformers-4.12.0-py3-none-any.whl (3.1 MB)\n",
            "\u001b[K     |████████████████████████████████| 3.1 MB 5.4 MB/s \n",
            "\u001b[?25hCollecting sacremoses\n",
            "  Downloading sacremoses-0.0.46-py3-none-any.whl (895 kB)\n",
            "\u001b[K     |████████████████████████████████| 895 kB 34.0 MB/s \n",
            "\u001b[?25hRequirement already satisfied: packaging>=20.0 in /usr/local/lib/python3.7/dist-packages (from transformers) (21.0)\n",
            "Requirement already satisfied: tqdm>=4.27 in /usr/local/lib/python3.7/dist-packages (from transformers) (4.62.3)\n",
            "Requirement already satisfied: requests in /usr/local/lib/python3.7/dist-packages (from transformers) (2.23.0)\n",
            "Requirement already satisfied: numpy>=1.17 in /usr/local/lib/python3.7/dist-packages (from transformers) (1.19.5)\n",
            "Collecting pyyaml>=5.1\n",
            "  Downloading PyYAML-6.0-cp37-cp37m-manylinux_2_5_x86_64.manylinux1_x86_64.manylinux_2_12_x86_64.manylinux2010_x86_64.whl (596 kB)\n",
            "\u001b[K     |████████████████████████████████| 596 kB 42.5 MB/s \n",
            "\u001b[?25hRequirement already satisfied: filelock in /usr/local/lib/python3.7/dist-packages (from transformers) (3.3.0)\n",
            "Collecting tokenizers<0.11,>=0.10.1\n",
            "  Downloading tokenizers-0.10.3-cp37-cp37m-manylinux_2_5_x86_64.manylinux1_x86_64.manylinux_2_12_x86_64.manylinux2010_x86_64.whl (3.3 MB)\n",
            "\u001b[K     |████████████████████████████████| 3.3 MB 38.4 MB/s \n",
            "\u001b[?25hCollecting huggingface-hub>=0.0.17\n",
            "  Downloading huggingface_hub-0.0.19-py3-none-any.whl (56 kB)\n",
            "\u001b[K     |████████████████████████████████| 56 kB 4.6 MB/s \n",
            "\u001b[?25hRequirement already satisfied: regex!=2019.12.17 in /usr/local/lib/python3.7/dist-packages (from transformers) (2019.12.20)\n",
            "Requirement already satisfied: importlib-metadata in /usr/local/lib/python3.7/dist-packages (from transformers) (4.8.1)\n",
            "Requirement already satisfied: typing-extensions in /usr/local/lib/python3.7/dist-packages (from huggingface-hub>=0.0.17->transformers) (3.7.4.3)\n",
            "Requirement already satisfied: pyparsing>=2.0.2 in /usr/local/lib/python3.7/dist-packages (from packaging>=20.0->transformers) (2.4.7)\n",
            "Requirement already satisfied: zipp>=0.5 in /usr/local/lib/python3.7/dist-packages (from importlib-metadata->transformers) (3.6.0)\n",
            "Requirement already satisfied: urllib3!=1.25.0,!=1.25.1,<1.26,>=1.21.1 in /usr/local/lib/python3.7/dist-packages (from requests->transformers) (1.24.3)\n",
            "Requirement already satisfied: certifi>=2017.4.17 in /usr/local/lib/python3.7/dist-packages (from requests->transformers) (2021.5.30)\n",
            "Requirement already satisfied: chardet<4,>=3.0.2 in /usr/local/lib/python3.7/dist-packages (from requests->transformers) (3.0.4)\n",
            "Requirement already satisfied: idna<3,>=2.5 in /usr/local/lib/python3.7/dist-packages (from requests->transformers) (2.10)\n",
            "Requirement already satisfied: joblib in /usr/local/lib/python3.7/dist-packages (from sacremoses->transformers) (1.0.1)\n",
            "Requirement already satisfied: six in /usr/local/lib/python3.7/dist-packages (from sacremoses->transformers) (1.15.0)\n",
            "Requirement already satisfied: click in /usr/local/lib/python3.7/dist-packages (from sacremoses->transformers) (7.1.2)\n",
            "Installing collected packages: pyyaml, tokenizers, sacremoses, huggingface-hub, transformers\n",
            "  Attempting uninstall: pyyaml\n",
            "    Found existing installation: PyYAML 3.13\n",
            "    Uninstalling PyYAML-3.13:\n",
            "      Successfully uninstalled PyYAML-3.13\n",
            "Successfully installed huggingface-hub-0.0.19 pyyaml-6.0 sacremoses-0.0.46 tokenizers-0.10.3 transformers-4.12.0\n"
          ]
        }
      ]
    },
    {
      "cell_type": "code",
      "metadata": {
        "id": "dBMr4JfdAM-c"
      },
      "source": [
        "\"\"\"Defining model parameters\"\"\"\n",
        "DECISION_THRESHOLD = 0.1  # Threshold for class label probabilities\n",
        "LR = 2e-5 # Keep it small when transfer learning e.g. 2e-5 (?)\n",
        "EPOCHS = 6  # 6..20 ?\n",
        "seed_batching = 123\n",
        "BATCH_SIZE = 32"
      ],
      "execution_count": 27,
      "outputs": []
    },
    {
      "cell_type": "markdown",
      "metadata": {
        "id": "_Wijqw5uBLp9"
      },
      "source": [
        "Threshold=0.01 50 steps/epoch 2e-5 LR -> model exploded (Loss grown above 1) macro-f1 = 0.030"
      ]
    },
    {
      "cell_type": "markdown",
      "metadata": {
        "id": "XdyAHHJ9ZYsg"
      },
      "source": [
        "Tesla K80  5591–8736 \t1864–2912  GFLOPS\n",
        "\n",
        "Tesla P100 9519–10609 \t4760–5304\n",
        "\n",
        "Tesla T4    8100 / ???\n"
      ]
    },
    {
      "cell_type": "code",
      "metadata": {
        "colab": {
          "base_uri": "https://localhost:8080/"
        },
        "id": "xmIDeDy2VY8b",
        "outputId": "60bfdf96-3b84-44b9-d22f-0c76e17a4442"
      },
      "source": [
        "gpu_info = !nvidia-smi\n",
        "gpu_info = '\\n'.join(gpu_info)\n",
        "if gpu_info.find('failed') >= 0:\n",
        "  print('Select the Runtime → \"Change runtime type\" menu to enable a GPU accelerator, ')\n",
        "  print('and then re-execute this cell.')\n",
        "else:\n",
        "  print(gpu_info)"
      ],
      "execution_count": 2,
      "outputs": [
        {
          "output_type": "stream",
          "name": "stdout",
          "text": [
            "Thu Oct 28 17:31:26 2021       \n",
            "+-----------------------------------------------------------------------------+\n",
            "| NVIDIA-SMI 495.29.05    Driver Version: 460.32.03    CUDA Version: 11.2     |\n",
            "|-------------------------------+----------------------+----------------------+\n",
            "| GPU  Name        Persistence-M| Bus-Id        Disp.A | Volatile Uncorr. ECC |\n",
            "| Fan  Temp  Perf  Pwr:Usage/Cap|         Memory-Usage | GPU-Util  Compute M. |\n",
            "|                               |                      |               MIG M. |\n",
            "|===============================+======================+======================|\n",
            "|   0  Tesla K80           Off  | 00000000:00:04.0 Off |                    0 |\n",
            "| N/A   34C    P8    28W / 149W |      0MiB / 11441MiB |      0%      Default |\n",
            "|                               |                      |                  N/A |\n",
            "+-------------------------------+----------------------+----------------------+\n",
            "                                                                               \n",
            "+-----------------------------------------------------------------------------+\n",
            "| Processes:                                                                  |\n",
            "|  GPU   GI   CI        PID   Type   Process name                  GPU Memory |\n",
            "|        ID   ID                                                   Usage      |\n",
            "|=============================================================================|\n",
            "|  No running processes found                                                 |\n",
            "+-----------------------------------------------------------------------------+\n"
          ]
        }
      ]
    },
    {
      "cell_type": "markdown",
      "metadata": {
        "id": "gXPcGrx0nkDk"
      },
      "source": [
        "# 1. Data set\n",
        "## 1.1. Get data"
      ]
    },
    {
      "cell_type": "code",
      "metadata": {
        "colab": {
          "base_uri": "https://localhost:8080/"
        },
        "id": "JOdBH8GipAxq",
        "outputId": "c5a7c419-4897-4833-c39b-9a44ec843df6"
      },
      "source": [
        "from google.colab import drive\n",
        "drive.mount('/content/drive')"
      ],
      "execution_count": null,
      "outputs": [
        {
          "output_type": "stream",
          "name": "stdout",
          "text": [
            "Mounted at /content/drive\n"
          ]
        }
      ]
    },
    {
      "cell_type": "code",
      "metadata": {
        "id": "rH0nxbKkpCQ0"
      },
      "source": [
        "df_raw = pd.read_csv(\"./drive/My Drive/Bert/phoenix_tensions.csv\")\n",
        "df_appendix = pd.read_csv(\"./drive/My Drive/Bert/phoenix_tensions_appendix.csv\")"
      ],
      "execution_count": null,
      "outputs": []
    },
    {
      "cell_type": "code",
      "metadata": {
        "id": "BniaKqxqnkDl"
      },
      "source": [
        "#df_raw = pd.read_csv(\"phoenix_tensions.csv\")\n",
        "#df_appendix = pd.read_csv(\"phoenix_tensions_appendix.csv\")"
      ],
      "execution_count": null,
      "outputs": []
    },
    {
      "cell_type": "code",
      "metadata": {
        "id": "lVGXG1VpnkDl"
      },
      "source": [
        "COL_ORDER = df_raw.filter(like=\"is_\").columns"
      ],
      "execution_count": null,
      "outputs": []
    },
    {
      "cell_type": "markdown",
      "metadata": {
        "id": "M_pVABMOnkDm"
      },
      "source": [
        "## 1.2. Preprocessing"
      ]
    },
    {
      "cell_type": "code",
      "metadata": {
        "scrolled": true,
        "colab": {
          "base_uri": "https://localhost:8080/"
        },
        "id": "FRNX0SvhnkDm",
        "outputId": "802d60b5-be57-4cc0-c337-ab8b2c8a5101"
      },
      "source": [
        "df = df_raw.copy()\n",
        "df.info()"
      ],
      "execution_count": null,
      "outputs": [
        {
          "output_type": "stream",
          "name": "stdout",
          "text": [
            "<class 'pandas.core.frame.DataFrame'>\n",
            "RangeIndex: 1644 entries, 0 to 1643\n",
            "Data columns (total 16 columns):\n",
            " #   Column                                  Non-Null Count  Dtype  \n",
            "---  ------                                  --------------  -----  \n",
            " 0   Unnamed: 0                              1644 non-null   int64  \n",
            " 1   object_id                               1644 non-null   object \n",
            " 2   object_type                             1644 non-null   object \n",
            " 3   text                                    1644 non-null   object \n",
            " 4   is_economic_labour_tension              1644 non-null   float64\n",
            " 5   economic_labour_tension_direction       128 non-null    object \n",
            " 6   is_political_tension                    1644 non-null   float64\n",
            " 7   political_tension_direction             159 non-null    object \n",
            " 8   is_service_related_tension              1644 non-null   float64\n",
            " 9   service_related_tension_direction       134 non-null    object \n",
            " 10  is_community_insecurity_tension         1644 non-null   float64\n",
            " 11  community_insecurity_tension_direction  48 non-null     object \n",
            " 12  topics                                  1644 non-null   object \n",
            " 13  matched_features                        1644 non-null   object \n",
            " 14  date                                    1641 non-null   object \n",
            " 15  clean_text                              1644 non-null   object \n",
            "dtypes: float64(4), int64(1), object(11)\n",
            "memory usage: 205.6+ KB\n"
          ]
        }
      ]
    },
    {
      "cell_type": "code",
      "metadata": {
        "colab": {
          "base_uri": "https://localhost:8080/"
        },
        "id": "HwmhQAPZnkDp",
        "outputId": "5ea8bf34-6ad9-43c1-9b94-e42b74fb59a5"
      },
      "source": [
        "#Recode tensions as they have different categories \n",
        "\n",
        "tensions = [\n",
        "    \"economic_labour_tension_direction\",\n",
        "    \"political_tension_direction\",\n",
        "    \"service_related_tension_direction\",\n",
        "    \"community_insecurity_tension_direction\",\n",
        "]\n",
        "\n",
        "print(\"old categories\\n\")\n",
        "\n",
        "for i in tensions:\n",
        "    print(i)\n",
        "    print(Counter(df_raw[i]))\n",
        "\n",
        "print(\"\\nnew categories\\n\")    \n",
        "\n",
        "#define Categorical dtype for Tensions\n",
        "cat_type = CategoricalDtype(categories=[\"decrease\", \"neutral\", \"increase\"], ordered=True)\n",
        "\n",
        "#recode tensions \n",
        "for i in tensions:\n",
        "    df[i] = df[i].replace([' '], [np.nan])\n",
        "    df[i] = df[i].replace(['Neutral', 'Neural', 'Nautral'], 'neutral')\n",
        "    df[i] = df[i].replace(['Increase', 'ncrease'], 'increase')\n",
        "    df[i] = df[i].replace(['Decrease'], 'decrease')\n",
        "    df[i] = df[i].astype(cat_type) #make defined categorical dtype\n",
        "\n",
        "    print(i)\n",
        "    print(Counter(df[i]))"
      ],
      "execution_count": null,
      "outputs": [
        {
          "output_type": "stream",
          "name": "stdout",
          "text": [
            "old categories\n",
            "\n",
            "economic_labour_tension_direction\n",
            "Counter({nan: 1516, 'Increase': 63, 'Neutral': 38, 'neutral': 18, 'increase': 6, 'decrease': 1, 'ncrease': 1, 'Nautral': 1})\n",
            "political_tension_direction\n",
            "Counter({nan: 1485, 'Increase': 85, 'Neutral': 47, 'neutral': 26, 'increase': 1})\n",
            "service_related_tension_direction\n",
            "Counter({nan: 1510, 'Increase': 64, 'Neutral': 37, 'neutral': 17, 'Decrease': 8, 'increase': 5, 'decrease': 2, ' ': 1})\n",
            "community_insecurity_tension_direction\n",
            "Counter({nan: 1596, 'Neutral': 27, 'Increase': 14, 'neutral': 5, 'increase': 1, 'Neural': 1})\n",
            "\n",
            "new categories\n",
            "\n",
            "economic_labour_tension_direction\n",
            "Counter({nan: 1516, 'increase': 70, 'neutral': 57, 'decrease': 1})\n",
            "political_tension_direction\n",
            "Counter({nan: 1485, 'increase': 86, 'neutral': 73})\n",
            "service_related_tension_direction\n",
            "Counter({nan: 1511, 'increase': 69, 'neutral': 54, 'decrease': 10})\n",
            "community_insecurity_tension_direction\n",
            "Counter({nan: 1596, 'neutral': 33, 'increase': 15})\n"
          ]
        }
      ]
    },
    {
      "cell_type": "code",
      "metadata": {
        "scrolled": true,
        "colab": {
          "base_uri": "https://localhost:8080/",
          "height": 1000
        },
        "id": "bSNJ4OH_nkDq",
        "outputId": "ff369128-8f8d-403f-d478-10acc7e2a472"
      },
      "source": [
        "#Plot Tensions\n",
        "for i in tensions:\n",
        "    sns.catplot(x=i, kind=\"count\", data=df)"
      ],
      "execution_count": null,
      "outputs": [
        {
          "output_type": "display_data",
          "data": {
            "image/png": "[encoded data removed]",
            "text/plain": [
              "<Figure size 360x360 with 1 Axes>"
            ]
          },
          "metadata": {
            "needs_background": "light"
          }
        },
        {
          "output_type": "display_data",
          "data": {
            "image/png": "[encoded data removed]",
            "text/plain": [
              "<Figure size 360x360 with 1 Axes>"
            ]
          },
          "metadata": {
            "needs_background": "light"
          }
        },
        {
          "output_type": "display_data",
          "data": {
            "image/png": "[encoded data removed]",
            "text/plain": [
              "<Figure size 360x360 with 1 Axes>"
            ]
          },
          "metadata": {
            "needs_background": "light"
          }
        },
        {
          "output_type": "display_data",
          "data": {
            "image/png": "[encoded data removed]",
            "text/plain": [
              "<Figure size 360x360 with 1 Axes>"
            ]
          },
          "metadata": {
            "needs_background": "light"
          }
        }
      ]
    },
    {
      "cell_type": "code",
      "metadata": {
        "colab": {
          "base_uri": "https://localhost:8080/",
          "height": 320
        },
        "id": "yuzkQDY6nkDr",
        "outputId": "08d1228f-cb5c-46ed-ac95-57a1b52562bc"
      },
      "source": [
        "#Recode date to date format\n",
        "df[\"date\"] = pd.to_datetime(df[\"date\"], format='%Y-%m-%d %H:%M:%S')\n",
        "\n",
        "#has 3 NA values (NaT)\n",
        "\n",
        "#plot date\n",
        "fig, ax = plt.subplots(figsize = (18, 5))\n",
        "plt.hist(df[\"date\"])\n",
        "plt.show()"
      ],
      "execution_count": null,
      "outputs": [
        {
          "output_type": "display_data",
          "data": {
            "image/png": "[encoded data removed]",
            "text/plain": [
              "<Figure size 1296x360 with 1 Axes>"
            ]
          },
          "metadata": {
            "needs_background": "light"
          }
        }
      ]
    },
    {
      "cell_type": "markdown",
      "metadata": {
        "id": "ZFiZ-Rl8nkDs"
      },
      "source": [
        "## 1.3. Dummies & Train_Test_Split"
      ]
    },
    {
      "cell_type": "code",
      "metadata": {
        "id": "tVVqk2xjnkDs"
      },
      "source": [
        "#Make dummies\n",
        "#Na values will simply get 0 \n",
        "\n",
        "df = pd.get_dummies(df, columns=[\"economic_labour_tension_direction\", \"political_tension_direction\",\n",
        "                            \"service_related_tension_direction\",\"community_insecurity_tension_direction\"],\n",
        "                          drop_first=False\n",
        "              )\n",
        "\n",
        "#Drop neutral dummies to only keep increase/ decrease\n",
        "df = df[df.columns.drop(list(df.filter(regex='neutral')))]"
      ],
      "execution_count": null,
      "outputs": []
    },
    {
      "cell_type": "code",
      "metadata": {
        "id": "lSCP8dZTnkDt"
      },
      "source": [
        "#Train and Test Split \n",
        "\n",
        "train_df, test_df = train_test_split(\n",
        "    df, \n",
        "    test_size=0.2, \n",
        "    random_state=2021, \n",
        ")"
      ],
      "execution_count": null,
      "outputs": []
    },
    {
      "cell_type": "code",
      "metadata": {
        "id": "82srnYxenkDu"
      },
      "source": [
        "train_df.to_csv(\"dummy_train.csv\")\n",
        "test_df.to_csv(\"dummy_test.csv\")"
      ],
      "execution_count": null,
      "outputs": []
    },
    {
      "cell_type": "code",
      "metadata": {
        "colab": {
          "base_uri": "https://localhost:8080/"
        },
        "id": "OsHS_5eonkDu",
        "outputId": "e9f14d97-cdad-4e77-9091-343d49a77a37"
      },
      "source": [
        "len(train_df)"
      ],
      "execution_count": null,
      "outputs": [
        {
          "output_type": "execute_result",
          "data": {
            "text/plain": [
              "1315"
            ]
          },
          "metadata": {},
          "execution_count": 16
        }
      ]
    },
    {
      "cell_type": "markdown",
      "metadata": {
        "id": "uoaBCuAFnkDv"
      },
      "source": [
        "# 2. BERT\n",
        "## 2.1. Loading pretrained model"
      ]
    },
    {
      "cell_type": "code",
      "metadata": {
        "colab": {
          "base_uri": "https://localhost:8080/"
        },
        "id": "wVogcXOjnkDv",
        "outputId": "d4cae880-edcb-4641-8cdd-5f5a7b728884"
      },
      "source": [
        "model = TFBertForSequenceClassification.from_pretrained(\"asafaya/bert-base-arabic\", num_labels=8)\n",
        "tokenizer = BertTokenizer.from_pretrained(\"asafaya/bert-base-arabic\")"
      ],
      "execution_count": 23,
      "outputs": [
        {
          "output_type": "stream",
          "name": "stderr",
          "text": [
            "All model checkpoint layers were used when initializing TFBertForSequenceClassification.\n",
            "\n",
            "Some layers of TFBertForSequenceClassification were not initialized from the model checkpoint at asafaya/bert-base-arabic and are newly initialized: ['classifier']\n",
            "You should probably TRAIN this model on a down-stream task to be able to use it for predictions and inference.\n"
          ]
        }
      ]
    },
    {
      "cell_type": "markdown",
      "metadata": {
        "id": "qr04HKlxnkDw"
      },
      "source": [
        "The random number seed for shuffling the training set should be used for maintaining shuffling in the case of Python runtime not keeping it's state between epochs (e.g. Google Colab):"
      ]
    },
    {
      "cell_type": "code",
      "metadata": {
        "colab": {
          "base_uri": "https://localhost:8080/"
        },
        "id": "cPolDwCtnkDw",
        "outputId": "bfdc34ae-d2df-4c93-834d-7317518f3d92"
      },
      "source": [
        "model.summary()"
      ],
      "execution_count": 5,
      "outputs": [
        {
          "output_type": "stream",
          "name": "stdout",
          "text": [
            "Model: \"tf_bert_for_sequence_classification\"\n",
            "_________________________________________________________________\n",
            "Layer (type)                 Output Shape              Param #   \n",
            "=================================================================\n",
            "bert (TFBertMainLayer)       multiple                  110617344 \n",
            "_________________________________________________________________\n",
            "dropout_37 (Dropout)         multiple                  0         \n",
            "_________________________________________________________________\n",
            "classifier (Dense)           multiple                  6152      \n",
            "=================================================================\n",
            "Total params: 110,623,496\n",
            "Trainable params: 110,623,496\n",
            "Non-trainable params: 0\n",
            "_________________________________________________________________\n"
          ]
        }
      ]
    },
    {
      "cell_type": "markdown",
      "metadata": {
        "id": "SbrzqctwnkDx"
      },
      "source": [
        "## 2.2. Creating of Training and Validation sets\n",
        "Loading Anica's dataset:"
      ]
    },
    {
      "cell_type": "code",
      "metadata": {
        "colab": {
          "base_uri": "https://localhost:8080/"
        },
        "id": "bStCyqV5nkDx",
        "outputId": "4ccd9946-747e-49d8-eb78-f70da78b6b94"
      },
      "source": [
        "\"\"\"For separate runs at Colab without preprocessing\"\"\"\n",
        "from google.colab import drive\n",
        "drive.mount('/content/drive')\n",
        "\n",
        "df_train = pd.read_csv(\"./drive/My Drive/Bert/dummy_train.csv\")\n",
        "df_test = pd.read_csv(\"./drive/My Drive/Bert/dummy_test.csv\")"
      ],
      "execution_count": 6,
      "outputs": [
        {
          "output_type": "stream",
          "name": "stdout",
          "text": [
            "Mounted at /content/drive\n"
          ]
        }
      ]
    },
    {
      "cell_type": "code",
      "metadata": {
        "id": "R4eYE70gnkDx",
        "colab": {
          "base_uri": "https://localhost:8080/",
          "height": 198
        },
        "outputId": "9f5eaf52-3468-432c-8b19-bc869295f6a2"
      },
      "source": [
        "\"\"\"For case, if preprocessing was executed\"\"\"\n",
        "df_train = train_df\n",
        "df_test = test_df"
      ],
      "execution_count": 12,
      "outputs": [
        {
          "output_type": "error",
          "ename": "NameError",
          "evalue": "ignored",
          "traceback": [
            "\u001b[0;31m---------------------------------------------------------------------------\u001b[0m",
            "\u001b[0;31mNameError\u001b[0m                                 Traceback (most recent call last)",
            "\u001b[0;32m<ipython-input-12-1043d1881a40>\u001b[0m in \u001b[0;36m<module>\u001b[0;34m()\u001b[0m\n\u001b[1;32m      1\u001b[0m \u001b[0;34m\"\"\"For case, if preprocessing was executed\"\"\"\u001b[0m\u001b[0;34m\u001b[0m\u001b[0;34m\u001b[0m\u001b[0m\n\u001b[0;32m----> 2\u001b[0;31m \u001b[0mdf_train\u001b[0m \u001b[0;34m=\u001b[0m \u001b[0mtrain_df\u001b[0m\u001b[0;34m\u001b[0m\u001b[0;34m\u001b[0m\u001b[0m\n\u001b[0m\u001b[1;32m      3\u001b[0m \u001b[0mdf_test\u001b[0m \u001b[0;34m=\u001b[0m \u001b[0mtest_df\u001b[0m\u001b[0;34m\u001b[0m\u001b[0;34m\u001b[0m\u001b[0m\n",
            "\u001b[0;31mNameError\u001b[0m: name 'train_df' is not defined"
          ]
        }
      ]
    },
    {
      "cell_type": "code",
      "metadata": {
        "colab": {
          "base_uri": "https://localhost:8080/",
          "height": 236
        },
        "id": "_267bKJVnkDy",
        "outputId": "b3a4b467-2e5e-467a-f942-e873985fb260"
      },
      "source": [
        "df_train.head(1)"
      ],
      "execution_count": 7,
      "outputs": [
        {
          "output_type": "execute_result",
          "data": {
            "text/html": [
              "<div>\n",
              "<style scoped>\n",
              "    .dataframe tbody tr th:only-of-type {\n",
              "        vertical-align: middle;\n",
              "    }\n",
              "\n",
              "    .dataframe tbody tr th {\n",
              "        vertical-align: top;\n",
              "    }\n",
              "\n",
              "    .dataframe thead th {\n",
              "        text-align: right;\n",
              "    }\n",
              "</style>\n",
              "<table border=\"1\" class=\"dataframe\">\n",
              "  <thead>\n",
              "    <tr style=\"text-align: right;\">\n",
              "      <th></th>\n",
              "      <th>Unnamed: 0</th>\n",
              "      <th>Unnamed: 0.1</th>\n",
              "      <th>object_id</th>\n",
              "      <th>object_type</th>\n",
              "      <th>text</th>\n",
              "      <th>is_economic_labour_tension</th>\n",
              "      <th>is_political_tension</th>\n",
              "      <th>is_service_related_tension</th>\n",
              "      <th>is_community_insecurity_tension</th>\n",
              "      <th>topics</th>\n",
              "      <th>matched_features</th>\n",
              "      <th>date</th>\n",
              "      <th>clean_text</th>\n",
              "      <th>economic_labour_tension_direction_decrease</th>\n",
              "      <th>economic_labour_tension_direction_increase</th>\n",
              "      <th>political_tension_direction_decrease</th>\n",
              "      <th>political_tension_direction_increase</th>\n",
              "      <th>service_related_tension_direction_decrease</th>\n",
              "      <th>service_related_tension_direction_increase</th>\n",
              "      <th>community_insecurity_tension_direction_decrease</th>\n",
              "      <th>community_insecurity_tension_direction_increase</th>\n",
              "    </tr>\n",
              "  </thead>\n",
              "  <tbody>\n",
              "    <tr>\n",
              "      <th>0</th>\n",
              "      <td>1409</td>\n",
              "      <td>948</td>\n",
              "      <td>100053742612367-8c45f61602e550a3</td>\n",
              "      <td>facebook_post</td>\n",
              "      <td>تحذير من اندلاع الحرائق وتشديد على التبليغ فورًا</td>\n",
              "      <td>0.0</td>\n",
              "      <td>0.0</td>\n",
              "      <td>0.0</td>\n",
              "      <td>0.0</td>\n",
              "      <td>['other']</td>\n",
              "      <td>[None]</td>\n",
              "      <td>2021-07-06 11:20:09</td>\n",
              "      <td>تحذير من اندلاع الحرايق وتشديد على التبليغ فورا</td>\n",
              "      <td>0</td>\n",
              "      <td>0</td>\n",
              "      <td>0</td>\n",
              "      <td>0</td>\n",
              "      <td>0</td>\n",
              "      <td>0</td>\n",
              "      <td>0</td>\n",
              "      <td>0</td>\n",
              "    </tr>\n",
              "  </tbody>\n",
              "</table>\n",
              "</div>"
            ],
            "text/plain": [
              "   Unnamed: 0  ...  community_insecurity_tension_direction_increase\n",
              "0        1409  ...                                                0\n",
              "\n",
              "[1 rows x 21 columns]"
            ]
          },
          "metadata": {},
          "execution_count": 7
        }
      ]
    },
    {
      "cell_type": "code",
      "metadata": {
        "id": "-MJMwkQGnkDy"
      },
      "source": [
        "ID = 'object_id'\n",
        "DATA_COLUMN = 'clean_text'\n",
        "LABEL_COLUMNS = ['economic_labour_tension_direction_decrease',\n",
        "       'economic_labour_tension_direction_increase',\n",
        "       'political_tension_direction_decrease',\n",
        "       'political_tension_direction_increase',\n",
        "       'service_related_tension_direction_decrease',\n",
        "       'service_related_tension_direction_increase',\n",
        "       'community_insecurity_tension_direction_decrease',\n",
        "       'community_insecurity_tension_direction_increase']"
      ],
      "execution_count": 8,
      "outputs": []
    },
    {
      "cell_type": "code",
      "metadata": {
        "id": "_n6XoDN0nkDy"
      },
      "source": [
        "def convert_data_to_examples(df_input, data_columns, label_columns):\n",
        "    input_examples = df_input.apply(lambda x:\n",
        "                                    InputExample(guid=None,\n",
        "                                                 text_a=x[data_columns],\n",
        "                                                 text_b=None,\n",
        "                                                 label=(x[label_columns]).values),\n",
        "                                    axis=1)\n",
        "    return input_examples\n",
        "\n",
        "\n",
        "def convert_examples_to_tf_dataset(examples, tokenizer, max_length=128):\n",
        "    features = []\n",
        "    for e in examples:\n",
        "        input_dict = tokenizer.encode_plus(\n",
        "            e.text_a,\n",
        "            add_special_tokens=True,  # Adds [CLS] and [SEP].\n",
        "            max_length=max_length,\n",
        "            return_token_type_ids=True,\n",
        "            return_attention_mask=True,\n",
        "            padding=\"max_length\",\n",
        "            truncation=True)\n",
        "        input_ids, token_type_ids, attention_mask = (\n",
        "            input_dict[\"input_ids\"], input_dict[\"token_type_ids\"],\n",
        "            input_dict['attention_mask'])\n",
        "        features.append(InputFeatures(\n",
        "            input_ids=input_ids, attention_mask=attention_mask,\n",
        "            token_type_ids=token_type_ids, label=e.label))\n",
        "\n",
        "    def gen():\n",
        "        for f in features:\n",
        "            yield ({\n",
        "                \"input_ids\": f.input_ids,\n",
        "                \"attention_mask\": f.attention_mask,\n",
        "                \"token_type_ids\": f.token_type_ids, },\n",
        "                f.label, )\n",
        "    return tf.data.Dataset.from_generator(\n",
        "        gen, ({\n",
        "            \"input_ids\": tf.int32,\n",
        "            \"attention_mask\": tf.int32,\n",
        "            \"token_type_ids\": tf.int32},\n",
        "            tf.int64),\n",
        "        ({\n",
        "            \"input_ids\": tf.TensorShape([None]),\n",
        "            \"attention_mask\": tf.TensorShape([None]),\n",
        "            \"token_type_ids\": tf.TensorShape([None]), },\n",
        "            tf.TensorShape([8]), ), )   # 8 hard-coded here !!!"
      ],
      "execution_count": 9,
      "outputs": []
    },
    {
      "cell_type": "markdown",
      "metadata": {
        "id": "JcfcLIFankDy"
      },
      "source": [
        "At the first step a model predicting review score based on the review text will be created. For training of the BERT model the dataset samples should be converted to the InputExample objects, containing\n",
        "\n",
        "guid - unique id for the example (not used)\n",
        "text_a (string) - the untokenized text of the first sequence\n",
        "text_b (optional, string) - the untokenized text of the second sequence (not used)\n",
        "label (optional, int) - The label of the example\n",
        "and assembled to the TensorFlow datasets train_data and validation_data:"
      ]
    },
    {
      "cell_type": "code",
      "metadata": {
        "id": "7Qi-7mTynkDz"
      },
      "source": [
        "train_input_examples = convert_data_to_examples(\n",
        "    df_train, DATA_COLUMN, LABEL_COLUMNS) \n",
        "\n",
        "validation_input_examples = convert_data_to_examples(\n",
        "    df_test, DATA_COLUMN, LABEL_COLUMNS)\n",
        "\n",
        "train_data = convert_examples_to_tf_dataset(\n",
        "    list(train_input_examples), tokenizer)\n",
        "\n",
        "train_data = train_data.shuffle(\n",
        "    buffer_size=1000, seed=seed_batching).batch(BATCH_SIZE, drop_remainder=True)\n",
        "\n",
        "validation_data = convert_examples_to_tf_dataset(\n",
        "    list(validation_input_examples), tokenizer)\n",
        "validation_data = validation_data.batch(BATCH_SIZE, drop_remainder=True)"
      ],
      "execution_count": 10,
      "outputs": []
    },
    {
      "cell_type": "markdown",
      "metadata": {
        "id": "GcrsXx95nkDz"
      },
      "source": [
        "## 2.3. Treating sample imbalance\n",
        "\n",
        "From https://github.com/ashrefm/multi-label-soft-f1/:\n",
        "\n",
        "Optimizing with the macro soft-F1 loss could replace some exhaustive techniques like:\n",
        "\n",
        "Searching for the optimal decision threshold that maximizes performance on a validation set\n",
        "Calibrating probability values by oversampling a minority class or undersampling a majority class before training (very complex in case of multi-label classification)"
      ]
    },
    {
      "cell_type": "code",
      "metadata": {
        "id": "1rmMgTK7nkDz"
      },
      "source": [
        ""
      ],
      "execution_count": 10,
      "outputs": []
    },
    {
      "cell_type": "markdown",
      "metadata": {
        "id": "iHR2cuSPnkDz"
      },
      "source": [
        "## 2.4. Training the model\n",
        "The actual model has been trained on the Google Colab free runtime. In order to feed the model with different training sets across the epochs seed_batching random seed should be changed. The variation of learning_rate parameter between ??? and ??? as well as gamma power from 1 to 4 did ??? affected validation accuracy significantly????. The ???? model was trained within ?? epochs, ?? epochs with ???? steps and the last epoch with ???? steps. The training step time for the given batch size was about ??? ms for P100 GPU and ???? ms for T4 GPU in full precision mode. The mixed precision mode give ??? ms per step on T4 GPU. The validation set accuracy along the epochs is slightly above ???%."
      ]
    },
    {
      "cell_type": "code",
      "metadata": {
        "id": "DNRBnCyinkD0"
      },
      "source": [
        "@tf.function\n",
        "def macro_soft_f1(y, y_hat):\n",
        "    \"\"\"Compute the macro soft F1-score as a cost (average 1 - soft-F1 across all labels).\n",
        "    Use probability values instead of binary predictions.\n",
        "    \n",
        "    Args:\n",
        "        y (int32 Tensor): targets array of shape (BATCH_SIZE, N_LABELS)\n",
        "        y_hat (float32 Tensor): probability matrix from forward propagation of shape (BATCH_SIZE, N_LABELS)\n",
        "        \n",
        "    Returns:\n",
        "        cost (scalar Tensor): value of the cost function for the batch\n",
        "    \"\"\"\n",
        "    y = tf.cast(y, tf.float32)\n",
        "    y_hat = tf.cast(y_hat, tf.float32)\n",
        "    tp = tf.reduce_sum(y_hat * y, axis=0)\n",
        "    fp = tf.reduce_sum(y_hat * (1 - y), axis=0)\n",
        "    fn = tf.reduce_sum((1 - y_hat) * y, axis=0)\n",
        "    soft_f1 = 2*tp / (2*tp + fn + fp + 1e-16)\n",
        "    cost = 1 - soft_f1 # reduce 1 - soft-f1 in order to increase soft-f1\n",
        "    macro_cost = tf.reduce_mean(cost) # average on all labels\n",
        "    return macro_cost"
      ],
      "execution_count": 11,
      "outputs": []
    },
    {
      "cell_type": "code",
      "metadata": {
        "id": "IGBROxzYnkD0"
      },
      "source": [
        "@tf.function\n",
        "def macro_f1(y, y_hat, thresh=DECISION_THRESHOLD):\n",
        "    \"\"\"Compute the macro F1-score on a batch of observations (average F1 across labels)\n",
        "    \n",
        "    Args:\n",
        "        y (int32 Tensor): labels array of shape (BATCH_SIZE, N_LABELS)\n",
        "        y_hat (float32 Tensor): probability matrix from forward propagation of shape (BATCH_SIZE, N_LABELS)\n",
        "        thresh: probability value above which we predict positive\n",
        "        \n",
        "    Returns:\n",
        "        macro_f1 (scalar Tensor): value of macro F1 for the batch\n",
        "    \"\"\"\n",
        "    y_pred = tf.cast(tf.greater(y_hat, thresh), tf.float32)\n",
        "    tp = tf.cast(tf.math.count_nonzero(y_pred * y, axis=0), tf.float32)\n",
        "    fp = tf.cast(tf.math.count_nonzero(y_pred * (1 - y), axis=0), tf.float32)\n",
        "    fn = tf.cast(tf.math.count_nonzero((1 - y_pred) * y, axis=0), tf.float32)\n",
        "    f1 = 2*tp / (2*tp + fn + fp + 1e-16)\n",
        "    macro_f1 = tf.reduce_mean(f1)\n",
        "    return macro_f1"
      ],
      "execution_count": 18,
      "outputs": []
    },
    {
      "cell_type": "code",
      "metadata": {
        "id": "_tFwHc6vwVn6"
      },
      "source": [
        "def learning_curves(history):\n",
        "    \"\"\"Plot the learning curves of loss and macro f1 score \n",
        "    for the training and validation datasets.\n",
        "    \n",
        "    Args:\n",
        "        history: history callback of fitting a tensorflow keras model \n",
        "    \"\"\"\n",
        "    \n",
        "    loss = history.history['loss']\n",
        "    val_loss = history.history['val_loss']\n",
        "\n",
        "    macro_f1 = history.history['macro_f1']\n",
        "    val_macro_f1 = history.history['val_macro_f1']\n",
        "    \n",
        "    epochs = len(loss)\n",
        "\n",
        "#    style.use(\"bmh\")\n",
        "    plt.figure(figsize=(8, 8))\n",
        "\n",
        "    plt.subplot(2, 1, 1)\n",
        "    plt.plot(range(1, epochs+1), loss, label='Training Loss')\n",
        "    plt.plot(range(1, epochs+1), val_loss, label='Validation Loss')\n",
        "    plt.legend(loc='upper right')\n",
        "    plt.ylabel('Loss')\n",
        "    plt.title('Training and Validation Loss')\n",
        "\n",
        "    plt.subplot(2, 1, 2)\n",
        "    plt.plot(range(1, epochs+1), macro_f1, label='Training Macro F1-score')\n",
        "    plt.plot(range(1, epochs+1), val_macro_f1, label='Validation Macro F1-score')\n",
        "    plt.legend(loc='lower right')\n",
        "    plt.ylabel('Macro F1-score')\n",
        "    plt.title('Training and Validation Macro F1-score')\n",
        "    plt.xlabel('epoch')\n",
        "\n",
        "    plt.show()\n",
        "    \n",
        "    return loss, val_loss, macro_f1, val_macro_f1"
      ],
      "execution_count": 13,
      "outputs": []
    },
    {
      "cell_type": "code",
      "metadata": {
        "colab": {
          "base_uri": "https://localhost:8080/"
        },
        "id": "ar5qadJ6HOF4",
        "outputId": "8e9f4aa6-2500-4206-f017-c17f02f93ebb"
      },
      "source": [
        "model_bce = TFBertForSequenceClassification.from_pretrained(\"asafaya/bert-base-arabic\", num_labels=8)"
      ],
      "execution_count": 14,
      "outputs": [
        {
          "output_type": "stream",
          "name": "stderr",
          "text": [
            "All model checkpoint layers were used when initializing TFBertForSequenceClassification.\n",
            "\n",
            "Some layers of TFBertForSequenceClassification were not initialized from the model checkpoint at asafaya/bert-base-arabic and are newly initialized: ['classifier']\n",
            "You should probably TRAIN this model on a down-stream task to be able to use it for predictions and inference.\n"
          ]
        }
      ]
    },
    {
      "cell_type": "code",
      "metadata": {
        "id": "y1KnE9tinkD0"
      },
      "source": [
        "opt = tf.keras.optimizers.Adam(learning_rate=LR, epsilon=1e-08, clipnorm=1.0)\n",
        "opt = tf.keras.mixed_precision.LossScaleOptimizer(opt)\n",
        "\n",
        "model.compile(optimizer=opt, \n",
        "              loss=macro_soft_f1,\n",
        "              metrics=[macro_f1])\n",
        "\n",
        "model_bce.compile(optimizer=opt, \n",
        "                  loss=tf.keras.losses.BinaryCrossentropy(), \n",
        "                  metrics=[macro_f1])"
      ],
      "execution_count": 28,
      "outputs": []
    },
    {
      "cell_type": "markdown",
      "metadata": {
        "id": "gm2OGHFYnkD1"
      },
      "source": [
        "We need to use keras.metrics.BinaryAccuracy() for measuring the accuracy since it calculates how often predictions match binary labels.\n",
        "\n",
        "As we are dealing with multi-label classification and true labels are encoded multi-hot, we need to compare pairwise (binary!): each element of prediction with the corresponding element of true labels.\n",
        "\n",
        "See https://medium.com/deep-learning-with-keras/how-to-solve-multi-label-classification-problems-in-deep-learning-with-tensorflow-keras-7fb933243595\n",
        "\n",
        "For soft-F1 see https://github.com/ashrefm/multi-label-soft-f1/blob/master/Multi-Label%20Image%20Classification%20in%20TensorFlow%202.0.ipynb"
      ]
    },
    {
      "cell_type": "markdown",
      "metadata": {
        "id": "_125p66aDvAb"
      },
      "source": [
        "We will call this version of F1-score a soft-F1-score. Below, you can see the code that implements it on a batch of predictions in TensorFlow.\n",
        "\n",
        "There are certain things to consider here:\n",
        "\n",
        "The cost for each label is actually 1 - soft-F1 for that label. If we want to maximize soft-F1, we should minimize 1 - soft-F1.\n",
        "You can replace Precision and Recall in the definition of soft-F1 and get a more direct formula based on terms of TP, FP and FN. The reason you want to do that is because the harmonic mean expression for F1 is undefined when TP = 0, but the translated expression is defined. F1 = 2.TP / (2.TP + FN + FP)\n",
        "The total cost in a batch of observations will be the average cost on all labels. We will call it a macro soft-F1 loss.\n",
        "We have to make sure that the batch size is big enough to see a representative macro soft-F1 loss while training.\n",
        "\n",
        "Next, we will be training two models with the same architecture but two different loss functions:\n",
        "\n",
        "The first one will be trained with the macro soft-F1 loss.\n",
        "The second one will be trained using the binary cross-entropy loss.\n",
        "On the other hand, we may consider one single evaluation metric by default for both models (macro_f1)"
      ]
    },
    {
      "cell_type": "code",
      "metadata": {
        "colab": {
          "base_uri": "https://localhost:8080/"
        },
        "id": "1PhJI559nkD1",
        "outputId": "24ffac42-e37e-4627-96e9-f7241e5af5e0"
      },
      "source": [
        "history = model.fit(train_data.repeat().shuffle(buffer_size=1000),\n",
        "                    epochs=EPOCHS,\n",
        "                    steps_per_epoch=50,\n",
        "                    validation_data=validation_data)\n",
        "\n",
        "#model.fit(train_data.repeat(), epochs=4, steps_per_epoch=100, validation_data=validation_data)"
      ],
      "execution_count": 29,
      "outputs": [
        {
          "output_type": "stream",
          "name": "stdout",
          "text": [
            "Epoch 1/6\n",
            "50/50 [==============================] - 129s 2s/step - loss: 0.9776 - macro_f1: 0.0349 - val_loss: 0.9759 - val_macro_f1: 0.0292\n",
            "Epoch 2/6\n",
            "50/50 [==============================] - 84s 2s/step - loss: 0.9664 - macro_f1: 0.0118 - val_loss: 0.9498 - val_macro_f1: 0.0184\n",
            "Epoch 3/6\n",
            "50/50 [==============================] - 85s 2s/step - loss: 0.9614 - macro_f1: 0.0076 - val_loss: 0.9485 - val_macro_f1: 0.0053\n",
            "Epoch 4/6\n",
            "50/50 [==============================] - 85s 2s/step - loss: 0.9648 - macro_f1: 0.0217 - val_loss: 0.9566 - val_macro_f1: 0.0270\n",
            "Epoch 5/6\n",
            "50/50 [==============================] - 84s 2s/step - loss: 0.9660 - macro_f1: 0.0223 - val_loss: 0.9557 - val_macro_f1: 0.0270\n",
            "Epoch 6/6\n",
            "50/50 [==============================] - 84s 2s/step - loss: 0.9639 - macro_f1: 0.0215 - val_loss: 0.9524 - val_macro_f1: 0.0270\n"
          ]
        }
      ]
    },
    {
      "cell_type": "code",
      "metadata": {
        "colab": {
          "base_uri": "https://localhost:8080/"
        },
        "id": "eVABES1xHedG",
        "outputId": "ec438752-023b-4867-94e4-0eb4329d14e6"
      },
      "source": [
        "history_bce = model_bce.fit(train_data.repeat().shuffle(buffer_size=1000),\n",
        "                        epochs=EPOCHS,\n",
        "                        steps_per_epoch=100,\n",
        "                        validation_data=validation_data)"
      ],
      "execution_count": 18,
      "outputs": [
        {
          "output_type": "stream",
          "name": "stdout",
          "text": [
            "Epoch 1/6\n",
            "100/100 [==============================] - 201s 2s/step - loss: 0.2697 - macro_f1: 0.0000e+00 - val_loss: 0.3434 - val_macro_f1: 0.0000e+00\n",
            "Epoch 2/6\n",
            "100/100 [==============================] - 161s 2s/step - loss: 0.2904 - macro_f1: 0.0000e+00 - val_loss: 0.3434 - val_macro_f1: 0.0000e+00\n",
            "Epoch 3/6\n",
            "100/100 [==============================] - 161s 2s/step - loss: 0.2736 - macro_f1: 0.0000e+00 - val_loss: 0.3434 - val_macro_f1: 0.0000e+00\n",
            "Epoch 4/6\n",
            "100/100 [==============================] - 161s 2s/step - loss: 0.2940 - macro_f1: 0.0000e+00 - val_loss: 0.3434 - val_macro_f1: 0.0000e+00\n",
            "Epoch 5/6\n",
            "100/100 [==============================] - 161s 2s/step - loss: 0.2778 - macro_f1: 0.0000e+00 - val_loss: 0.3434 - val_macro_f1: 0.0000e+00\n",
            "Epoch 6/6\n",
            "100/100 [==============================] - 160s 2s/step - loss: 0.2736 - macro_f1: 0.0000e+00 - val_loss: 0.3434 - val_macro_f1: 0.0000e+00\n"
          ]
        }
      ]
    },
    {
      "cell_type": "code",
      "metadata": {
        "colab": {
          "base_uri": "https://localhost:8080/",
          "height": 513
        },
        "id": "3Xcx494gpAER",
        "outputId": "103e639f-d03d-46a2-8549-bda589f05ea7"
      },
      "source": [
        "losses, val_losses, macro_f1s, val_macro_f1s = learning_curves(history)\n",
        "#losses, val_losses, macro_f1s, val_macro_f1s = learning_curves(history_bce)"
      ],
      "execution_count": 30,
      "outputs": [
        {
          "output_type": "display_data",
          "data": {
            "image/png": "[encoded data removed]",
            "text/plain": [
              "<Figure size 576x576 with 2 Axes>"
            ]
          },
          "metadata": {
            "needs_background": "light"
          }
        }
      ]
    },
    {
      "cell_type": "markdown",
      "metadata": {
        "id": "A31OY1ZOEU2f"
      },
      "source": [
        "Role of macro soft-F1 loss\n",
        "So far, we have trained two neural network models with same architecture.\n",
        "The first one was optimizing directly for the macro F1-score, while the second one is more classic and optimized for the binary cross-entropy.\n",
        "In both cases, the model trained will generate an independent probability score for each label when predicting the genre of a movie poster.\n",
        "To create a final decision system, we need to pick a decision threshold between 0 and 1 for each label so as to transform each probability into a binary information. Usually the performance of the system depends on the choice of these decision thresholds.\n",
        "So, let's examine how the system behaves on the validation set depending on the level where we set the threshold for each label.\n",
        "\n",
        "Decision threshold\n",
        "There is a function named perf_grid in the utils module that helps create the performance grid.\n",
        "In the performance grid, thresholds increment from 0 to 1 by a step of 0.01 for each label.\n",
        "For each threshold and for each label, we compute different measures (tp, fn, fp, precision, recall, f1-score)."
      ]
    },
    {
      "cell_type": "code",
      "metadata": {
        "id": "Od1gfVU-oxKl"
      },
      "source": [
        "def perf_grid(ds, target, label_names, model, n_thresh=100):\n",
        "    \"\"\"Computes the performance table containing target, label names,\n",
        "    label frequencies, thresholds between 0 and 1, number of tp, fp, fn,\n",
        "    precision, recall and f-score metrics for each label.\n",
        "    \n",
        "    Args:\n",
        "        ds (tf.data.Datatset): contains the features array\n",
        "        target (numpy array): target matrix of shape (BATCH_SIZE, N_LABELS)\n",
        "        label_names (list of strings): column names in target matrix\n",
        "        model (tensorflow keras model): model to use for prediction\n",
        "        n_thresh (int) : number of thresholds to try\n",
        "        \n",
        "    Returns:\n",
        "        grid (Pandas dataframe): performance table \n",
        "    \"\"\"\n",
        "    \n",
        "    # Get predictions\n",
        "    tf_batch = tokenizer(ds.tolist(), max_length=128, padding=True, truncation=True, return_tensors='tf')\n",
        "    tf_outputs = model(tf_batch)\n",
        "    y_hat_val = tf.nn.softmax(tf_outputs[0], axis=-1).numpy()   \n",
        "\n",
        "#    y_hat_val = model.predict(ds)\n",
        "    # Define target matrix\n",
        "    y_val = target\n",
        "    # Find label frequencies in the validation set\n",
        "    label_freq = target.sum(axis=0)\n",
        "    # Get label indexes\n",
        "    label_index = [i for i in range(len(label_names))]\n",
        "    # Define thresholds\n",
        "    thresholds = np.linspace(0,1,n_thresh+1).astype(np.float32)\n",
        "    \n",
        "    # Compute all metrics for all labels\n",
        "    ids, labels, freqs, tps, fps, fns, precisions, recalls, f1s = [], [], [], [], [], [], [], [], []\n",
        "    for l in label_index:\n",
        "        for thresh in thresholds:   \n",
        "            ids.append(l)\n",
        "            labels.append(label_names[l])\n",
        "            freqs.append(round(label_freq[l]/len(y_val),2))\n",
        "            y_hat = y_hat_val[:,l]\n",
        "            y = y_val[:,l]\n",
        "            y_pred = y_hat > thresh\n",
        "            tp = np.count_nonzero(y_pred  * y)\n",
        "            fp = np.count_nonzero(y_pred * (1-y))\n",
        "            fn = np.count_nonzero((1-y_pred) * y)\n",
        "            precision = tp / (tp + fp + 1e-16)\n",
        "            recall = tp / (tp + fn + 1e-16)\n",
        "            f1 = 2*tp / (2*tp + fn + fp + 1e-16)\n",
        "            tps.append(tp)\n",
        "            fps.append(fp)\n",
        "            fns.append(fn)\n",
        "            precisions.append(precision)\n",
        "            recalls.append(recall)\n",
        "            f1s.append(f1)\n",
        "            \n",
        "    # Create the performance dataframe\n",
        "    grid = pd.DataFrame({\n",
        "        'id':ids,\n",
        "        'label':labels,\n",
        "        'freq':freqs,\n",
        "        'threshold':list(thresholds)*len(label_index),\n",
        "        'tp':tps,\n",
        "        'fp':fps,\n",
        "        'fn':fns,\n",
        "        'precision':precisions,\n",
        "        'recall':recalls,\n",
        "        'f1':f1s})\n",
        "    \n",
        "    grid = grid[['id', 'label', 'freq', 'threshold',\n",
        "                 'tp', 'fn', 'fp', 'precision', 'recall', 'f1']]\n",
        "    \n",
        "    return grid\n"
      ],
      "execution_count": 21,
      "outputs": []
    },
    {
      "cell_type": "code",
      "metadata": {
        "colab": {
          "base_uri": "https://localhost:8080/"
        },
        "id": "LIOLmdSVsiKz",
        "outputId": "6cd4c805-8672-45dc-87de-5d1300c0dc3e"
      },
      "source": [
        "#(df_test[LABEL_COLUMNS]).values[5]\n",
        "predictions.numpy()[10]"
      ],
      "execution_count": 36,
      "outputs": [
        {
          "output_type": "execute_result",
          "data": {
            "text/plain": [
              "array([0.10652285, 0.23526458, 0.04302963, 0.03471209, 0.15347996,\n",
              "       0.26974434, 0.04611369, 0.11113293], dtype=float32)"
            ]
          },
          "metadata": {},
          "execution_count": 36
        }
      ]
    },
    {
      "cell_type": "code",
      "metadata": {
        "id": "suWW9S2nnaYs"
      },
      "source": [
        "# Get all label names\n",
        "label_names = LABEL_COLUMNS\n",
        "# Performance table with the first model (macro soft-f1 loss)\n",
        "grid = perf_grid(df_test[DATA_COLUMN], df_test[LABEL_COLUMNS].values, label_names, model)\n",
        "# Performance table with the second model (binary cross-entropy loss)\n",
        "grid_bce = perf_grid(df_test[DATA_COLUMN], df_test[LABEL_COLUMNS].values, label_names, model_bce)\n"
      ],
      "execution_count": 23,
      "outputs": []
    },
    {
      "cell_type": "code",
      "metadata": {
        "colab": {
          "base_uri": "https://localhost:8080/",
          "height": 204
        },
        "id": "8Hj6WQxmp-P8",
        "outputId": "d3cd8899-8ac3-4f49-e1e4-4b7595709f93"
      },
      "source": [
        "grid_bce.head()"
      ],
      "execution_count": 39,
      "outputs": [
        {
          "output_type": "execute_result",
          "data": {
            "text/html": [
              "<div>\n",
              "<style scoped>\n",
              "    .dataframe tbody tr th:only-of-type {\n",
              "        vertical-align: middle;\n",
              "    }\n",
              "\n",
              "    .dataframe tbody tr th {\n",
              "        vertical-align: top;\n",
              "    }\n",
              "\n",
              "    .dataframe thead th {\n",
              "        text-align: right;\n",
              "    }\n",
              "</style>\n",
              "<table border=\"1\" class=\"dataframe\">\n",
              "  <thead>\n",
              "    <tr style=\"text-align: right;\">\n",
              "      <th></th>\n",
              "      <th>id</th>\n",
              "      <th>label</th>\n",
              "      <th>freq</th>\n",
              "      <th>threshold</th>\n",
              "      <th>tp</th>\n",
              "      <th>fn</th>\n",
              "      <th>fp</th>\n",
              "      <th>precision</th>\n",
              "      <th>recall</th>\n",
              "      <th>f1</th>\n",
              "    </tr>\n",
              "  </thead>\n",
              "  <tbody>\n",
              "    <tr>\n",
              "      <th>0</th>\n",
              "      <td>0</td>\n",
              "      <td>economic_labour_tension_direction_decrease</td>\n",
              "      <td>0.0</td>\n",
              "      <td>0.00</td>\n",
              "      <td>0</td>\n",
              "      <td>0</td>\n",
              "      <td>329</td>\n",
              "      <td>0.0</td>\n",
              "      <td>0.0</td>\n",
              "      <td>0.0</td>\n",
              "    </tr>\n",
              "    <tr>\n",
              "      <th>1</th>\n",
              "      <td>0</td>\n",
              "      <td>economic_labour_tension_direction_decrease</td>\n",
              "      <td>0.0</td>\n",
              "      <td>0.01</td>\n",
              "      <td>0</td>\n",
              "      <td>0</td>\n",
              "      <td>329</td>\n",
              "      <td>0.0</td>\n",
              "      <td>0.0</td>\n",
              "      <td>0.0</td>\n",
              "    </tr>\n",
              "    <tr>\n",
              "      <th>2</th>\n",
              "      <td>0</td>\n",
              "      <td>economic_labour_tension_direction_decrease</td>\n",
              "      <td>0.0</td>\n",
              "      <td>0.02</td>\n",
              "      <td>0</td>\n",
              "      <td>0</td>\n",
              "      <td>329</td>\n",
              "      <td>0.0</td>\n",
              "      <td>0.0</td>\n",
              "      <td>0.0</td>\n",
              "    </tr>\n",
              "    <tr>\n",
              "      <th>3</th>\n",
              "      <td>0</td>\n",
              "      <td>economic_labour_tension_direction_decrease</td>\n",
              "      <td>0.0</td>\n",
              "      <td>0.03</td>\n",
              "      <td>0</td>\n",
              "      <td>0</td>\n",
              "      <td>329</td>\n",
              "      <td>0.0</td>\n",
              "      <td>0.0</td>\n",
              "      <td>0.0</td>\n",
              "    </tr>\n",
              "    <tr>\n",
              "      <th>4</th>\n",
              "      <td>0</td>\n",
              "      <td>economic_labour_tension_direction_decrease</td>\n",
              "      <td>0.0</td>\n",
              "      <td>0.04</td>\n",
              "      <td>0</td>\n",
              "      <td>0</td>\n",
              "      <td>329</td>\n",
              "      <td>0.0</td>\n",
              "      <td>0.0</td>\n",
              "      <td>0.0</td>\n",
              "    </tr>\n",
              "  </tbody>\n",
              "</table>\n",
              "</div>"
            ],
            "text/plain": [
              "   id                                       label  freq  ...  precision  recall   f1\n",
              "0   0  economic_labour_tension_direction_decrease   0.0  ...        0.0     0.0  0.0\n",
              "1   0  economic_labour_tension_direction_decrease   0.0  ...        0.0     0.0  0.0\n",
              "2   0  economic_labour_tension_direction_decrease   0.0  ...        0.0     0.0  0.0\n",
              "3   0  economic_labour_tension_direction_decrease   0.0  ...        0.0     0.0  0.0\n",
              "4   0  economic_labour_tension_direction_decrease   0.0  ...        0.0     0.0  0.0\n",
              "\n",
              "[5 rows x 10 columns]"
            ]
          },
          "metadata": {},
          "execution_count": 39
        }
      ]
    },
    {
      "cell_type": "code",
      "metadata": {
        "colab": {
          "base_uri": "https://localhost:8080/",
          "height": 297
        },
        "id": "fiP_cY9jqCZ3",
        "outputId": "2a0cfc3d-68e5-4de3-ccac-97e77cb178e6"
      },
      "source": [
        "# Get the maximum F1-score for each label when using the second model and varying the threshold\n",
        "max_perf = grid_bce.groupby(['id', 'label', 'freq'])[['f1']].max().sort_values('f1', ascending=False).reset_index()\n",
        "max_perf.rename(columns={'f1':'f1max_bce'}, inplace=True)\n",
        "max_perf.style.background_gradient(subset=['freq', 'f1max_bce'], cmap=sns.light_palette(\"lightgreen\", as_cmap=True))"
      ],
      "execution_count": 25,
      "outputs": [
        {
          "output_type": "execute_result",
          "data": {
            "text/html": [
              "<style  type=\"text/css\" >\n",
              "#T_4884ca80_3754_11ec_be7f_0242ac1c0002row0_col2,#T_4884ca80_3754_11ec_be7f_0242ac1c0002row0_col3{\n",
              "            background-color:  #90ee90;\n",
              "            color:  #000000;\n",
              "        }#T_4884ca80_3754_11ec_be7f_0242ac1c0002row1_col2,#T_4884ca80_3754_11ec_be7f_0242ac1c0002row2_col2{\n",
              "            background-color:  #9fef9f;\n",
              "            color:  #000000;\n",
              "        }#T_4884ca80_3754_11ec_be7f_0242ac1c0002row1_col3{\n",
              "            background-color:  #aaefaa;\n",
              "            color:  #000000;\n",
              "        }#T_4884ca80_3754_11ec_be7f_0242ac1c0002row2_col3{\n",
              "            background-color:  #aeefae;\n",
              "            color:  #000000;\n",
              "        }#T_4884ca80_3754_11ec_be7f_0242ac1c0002row3_col2{\n",
              "            background-color:  #cef1ce;\n",
              "            color:  #000000;\n",
              "        }#T_4884ca80_3754_11ec_be7f_0242ac1c0002row3_col3{\n",
              "            background-color:  #d4f1d4;\n",
              "            color:  #000000;\n",
              "        }#T_4884ca80_3754_11ec_be7f_0242ac1c0002row4_col2{\n",
              "            background-color:  #def1de;\n",
              "            color:  #000000;\n",
              "        }#T_4884ca80_3754_11ec_be7f_0242ac1c0002row4_col3{\n",
              "            background-color:  #dcf1dc;\n",
              "            color:  #000000;\n",
              "        }#T_4884ca80_3754_11ec_be7f_0242ac1c0002row5_col2,#T_4884ca80_3754_11ec_be7f_0242ac1c0002row5_col3,#T_4884ca80_3754_11ec_be7f_0242ac1c0002row6_col2,#T_4884ca80_3754_11ec_be7f_0242ac1c0002row6_col3,#T_4884ca80_3754_11ec_be7f_0242ac1c0002row7_col2,#T_4884ca80_3754_11ec_be7f_0242ac1c0002row7_col3{\n",
              "            background-color:  #edf2ed;\n",
              "            color:  #000000;\n",
              "        }</style><table id=\"T_4884ca80_3754_11ec_be7f_0242ac1c0002\" class=\"dataframe\"><thead>    <tr>        <th class=\"blank level0\" ></th>        <th class=\"col_heading level0 col0\" >id</th>        <th class=\"col_heading level0 col1\" >label</th>        <th class=\"col_heading level0 col2\" >freq</th>        <th class=\"col_heading level0 col3\" >f1max_bce</th>    </tr></thead><tbody>\n",
              "                <tr>\n",
              "                        <th id=\"T_4884ca80_3754_11ec_be7f_0242ac1c0002level0_row0\" class=\"row_heading level0 row0\" >0</th>\n",
              "                        <td id=\"T_4884ca80_3754_11ec_be7f_0242ac1c0002row0_col0\" class=\"data row0 col0\" >3</td>\n",
              "                        <td id=\"T_4884ca80_3754_11ec_be7f_0242ac1c0002row0_col1\" class=\"data row0 col1\" >political_tension_direction_increase</td>\n",
              "                        <td id=\"T_4884ca80_3754_11ec_be7f_0242ac1c0002row0_col2\" class=\"data row0 col2\" >0.060000</td>\n",
              "                        <td id=\"T_4884ca80_3754_11ec_be7f_0242ac1c0002row0_col3\" class=\"data row0 col3\" >0.130031</td>\n",
              "            </tr>\n",
              "            <tr>\n",
              "                        <th id=\"T_4884ca80_3754_11ec_be7f_0242ac1c0002level0_row1\" class=\"row_heading level0 row1\" >1</th>\n",
              "                        <td id=\"T_4884ca80_3754_11ec_be7f_0242ac1c0002row1_col0\" class=\"data row1 col0\" >5</td>\n",
              "                        <td id=\"T_4884ca80_3754_11ec_be7f_0242ac1c0002row1_col1\" class=\"data row1 col1\" >service_related_tension_direction_increase</td>\n",
              "                        <td id=\"T_4884ca80_3754_11ec_be7f_0242ac1c0002row1_col2\" class=\"data row1 col2\" >0.050000</td>\n",
              "                        <td id=\"T_4884ca80_3754_11ec_be7f_0242ac1c0002row1_col3\" class=\"data row1 col3\" >0.094395</td>\n",
              "            </tr>\n",
              "            <tr>\n",
              "                        <th id=\"T_4884ca80_3754_11ec_be7f_0242ac1c0002level0_row2\" class=\"row_heading level0 row2\" >2</th>\n",
              "                        <td id=\"T_4884ca80_3754_11ec_be7f_0242ac1c0002row2_col0\" class=\"data row2 col0\" >1</td>\n",
              "                        <td id=\"T_4884ca80_3754_11ec_be7f_0242ac1c0002row2_col1\" class=\"data row2 col1\" >economic_labour_tension_direction_increase</td>\n",
              "                        <td id=\"T_4884ca80_3754_11ec_be7f_0242ac1c0002row2_col2\" class=\"data row2 col2\" >0.050000</td>\n",
              "                        <td id=\"T_4884ca80_3754_11ec_be7f_0242ac1c0002row2_col3\" class=\"data row2 col3\" >0.088496</td>\n",
              "            </tr>\n",
              "            <tr>\n",
              "                        <th id=\"T_4884ca80_3754_11ec_be7f_0242ac1c0002level0_row3\" class=\"row_heading level0 row3\" >3</th>\n",
              "                        <td id=\"T_4884ca80_3754_11ec_be7f_0242ac1c0002row3_col0\" class=\"data row3 col0\" >7</td>\n",
              "                        <td id=\"T_4884ca80_3754_11ec_be7f_0242ac1c0002row3_col1\" class=\"data row3 col1\" >community_insecurity_tension_direction_increase</td>\n",
              "                        <td id=\"T_4884ca80_3754_11ec_be7f_0242ac1c0002row3_col2\" class=\"data row3 col2\" >0.020000</td>\n",
              "                        <td id=\"T_4884ca80_3754_11ec_be7f_0242ac1c0002row3_col3\" class=\"data row3 col3\" >0.034602</td>\n",
              "            </tr>\n",
              "            <tr>\n",
              "                        <th id=\"T_4884ca80_3754_11ec_be7f_0242ac1c0002level0_row4\" class=\"row_heading level0 row4\" >4</th>\n",
              "                        <td id=\"T_4884ca80_3754_11ec_be7f_0242ac1c0002row4_col0\" class=\"data row4 col0\" >4</td>\n",
              "                        <td id=\"T_4884ca80_3754_11ec_be7f_0242ac1c0002row4_col1\" class=\"data row4 col1\" >service_related_tension_direction_decrease</td>\n",
              "                        <td id=\"T_4884ca80_3754_11ec_be7f_0242ac1c0002row4_col2\" class=\"data row4 col2\" >0.010000</td>\n",
              "                        <td id=\"T_4884ca80_3754_11ec_be7f_0242ac1c0002row4_col3\" class=\"data row4 col3\" >0.024390</td>\n",
              "            </tr>\n",
              "            <tr>\n",
              "                        <th id=\"T_4884ca80_3754_11ec_be7f_0242ac1c0002level0_row5\" class=\"row_heading level0 row5\" >5</th>\n",
              "                        <td id=\"T_4884ca80_3754_11ec_be7f_0242ac1c0002row5_col0\" class=\"data row5 col0\" >0</td>\n",
              "                        <td id=\"T_4884ca80_3754_11ec_be7f_0242ac1c0002row5_col1\" class=\"data row5 col1\" >economic_labour_tension_direction_decrease</td>\n",
              "                        <td id=\"T_4884ca80_3754_11ec_be7f_0242ac1c0002row5_col2\" class=\"data row5 col2\" >0.000000</td>\n",
              "                        <td id=\"T_4884ca80_3754_11ec_be7f_0242ac1c0002row5_col3\" class=\"data row5 col3\" >0.000000</td>\n",
              "            </tr>\n",
              "            <tr>\n",
              "                        <th id=\"T_4884ca80_3754_11ec_be7f_0242ac1c0002level0_row6\" class=\"row_heading level0 row6\" >6</th>\n",
              "                        <td id=\"T_4884ca80_3754_11ec_be7f_0242ac1c0002row6_col0\" class=\"data row6 col0\" >2</td>\n",
              "                        <td id=\"T_4884ca80_3754_11ec_be7f_0242ac1c0002row6_col1\" class=\"data row6 col1\" >political_tension_direction_decrease</td>\n",
              "                        <td id=\"T_4884ca80_3754_11ec_be7f_0242ac1c0002row6_col2\" class=\"data row6 col2\" >0.000000</td>\n",
              "                        <td id=\"T_4884ca80_3754_11ec_be7f_0242ac1c0002row6_col3\" class=\"data row6 col3\" >0.000000</td>\n",
              "            </tr>\n",
              "            <tr>\n",
              "                        <th id=\"T_4884ca80_3754_11ec_be7f_0242ac1c0002level0_row7\" class=\"row_heading level0 row7\" >7</th>\n",
              "                        <td id=\"T_4884ca80_3754_11ec_be7f_0242ac1c0002row7_col0\" class=\"data row7 col0\" >6</td>\n",
              "                        <td id=\"T_4884ca80_3754_11ec_be7f_0242ac1c0002row7_col1\" class=\"data row7 col1\" >community_insecurity_tension_direction_decrease</td>\n",
              "                        <td id=\"T_4884ca80_3754_11ec_be7f_0242ac1c0002row7_col2\" class=\"data row7 col2\" >0.000000</td>\n",
              "                        <td id=\"T_4884ca80_3754_11ec_be7f_0242ac1c0002row7_col3\" class=\"data row7 col3\" >0.000000</td>\n",
              "            </tr>\n",
              "    </tbody></table>"
            ],
            "text/plain": [
              "<pandas.io.formats.style.Styler at 0x7f4e5c72d8d0>"
            ]
          },
          "metadata": {},
          "execution_count": 25
        }
      ]
    },
    {
      "cell_type": "code",
      "metadata": {
        "colab": {
          "base_uri": "https://localhost:8080/"
        },
        "id": "bxQhOvqKqLKg",
        "outputId": "3576e480-bdfe-4597-893e-6181547cbbc8"
      },
      "source": [
        "print(\"Correlation between label frequency and optimal F1 with bce: %.2f\" %max_perf['freq'].corr(max_perf['f1max_bce']))\n"
      ],
      "execution_count": 26,
      "outputs": [
        {
          "output_type": "stream",
          "name": "stdout",
          "text": [
            "Correlation between label frequency and optimal F1 with bce: 0.99\n"
          ]
        }
      ]
    },
    {
      "cell_type": "code",
      "metadata": {
        "id": "zd8i2eOKqSMi"
      },
      "source": [
        "top5 = max_perf.head(5)['id']"
      ],
      "execution_count": 27,
      "outputs": []
    },
    {
      "cell_type": "code",
      "metadata": {
        "colab": {
          "base_uri": "https://localhost:8080/",
          "height": 697
        },
        "id": "v6Ha0pIUqfIN",
        "outputId": "40f3f938-af14-4bbf-ac4d-6b49824ffded"
      },
      "source": [
        "#style.use(\"default\")\n",
        "for l in top5:\n",
        "    \n",
        "    label_grid = grid.loc[grid['id']==l, ['precision','recall','f1']]\n",
        "    label_grid = label_grid.reset_index().drop('index', axis=1)\n",
        "    \n",
        "    label_grid_bce = grid_bce.loc[grid_bce['id']==l, ['precision','recall','f1']]\n",
        "    label_grid_bce = label_grid_bce.reset_index().drop('index', axis=1)\n",
        "    \n",
        "    plt.figure(figsize=(9,2))\n",
        "\n",
        "    ax = plt.subplot(1, 2, 1)\n",
        "    plt.xticks(ticks=np.arange(0,110,10), labels=np.arange(0,110,10)/100, fontsize=10)\n",
        "    plt.yticks(fontsize=8)\n",
        "    plt.title('Performance curves - Label '+str(l)+' ('+label_names[l]+')\\nMacro Soft-F1', fontsize=10)\n",
        "    label_grid.plot(ax=ax)\n",
        "    \n",
        "    ax = plt.subplot(1, 2, 2)\n",
        "    plt.xticks(ticks=np.arange(0,110,10), labels=np.arange(0,110,10)/100, fontsize=8)\n",
        "    plt.yticks(fontsize=8)\n",
        "    plt.title('Performance curves - Label '+str(l)+' ('+label_names[l]+')\\nBCE', fontsize=10)\n",
        "    label_grid_bce.plot(ax=ax)\n",
        "    \n",
        "    plt.tight_layout()\n",
        "    plt.show()"
      ],
      "execution_count": 28,
      "outputs": [
        {
          "output_type": "display_data",
          "data": {
            "image/png": "[encoded data removed]",
            "text/plain": [
              "<Figure size 648x144 with 2 Axes>"
            ]
          },
          "metadata": {
            "needs_background": "light"
          }
        },
        {
          "output_type": "display_data",
          "data": {
            "image/png": "[encoded data removed]",
            "text/plain": [
              "<Figure size 648x144 with 2 Axes>"
            ]
          },
          "metadata": {
            "needs_background": "light"
          }
        },
        {
          "output_type": "display_data",
          "data": {
            "image/png": "[encoded data removed]",
            "text/plain": [
              "<Figure size 648x144 with 2 Axes>"
            ]
          },
          "metadata": {
            "needs_background": "light"
          }
        },
        {
          "output_type": "display_data",
          "data": {
            "image/png": "[encoded data removed]",
            "text/plain": [
              "<Figure size 648x144 with 2 Axes>"
            ]
          },
          "metadata": {
            "needs_background": "light"
          }
        },
        {
          "output_type": "display_data",
          "data": {
            "image/png": "[encoded data removed]",
            "text/plain": [
              "<Figure size 648x144 with 2 Axes>"
            ]
          },
          "metadata": {
            "needs_background": "light"
          }
        }
      ]
    },
    {
      "cell_type": "code",
      "metadata": {
        "id": "d7YkMpg4qrYy"
      },
      "source": [
        ""
      ],
      "execution_count": 28,
      "outputs": []
    },
    {
      "cell_type": "code",
      "metadata": {
        "id": "8_6xYOlfqrgN"
      },
      "source": [
        "# Predict on the validation set with both models\n",
        "tf_batch = tokenizer(df_test[DATA_COLUMN].tolist(), max_length=128, padding=True, truncation=True, return_tensors='tf')\n",
        "tf_outputs = model(tf_batch)\n",
        "y_hat_val = tf.nn.softmax(tf_outputs[0], axis=-1)\n",
        "\n",
        "tf_outputs_bce = model_bce(tf_batch)\n",
        "y_hat_val_bce = tf.nn.softmax(tf_outputs_bce[0], axis=-1)\n",
        "\n",
        "\n",
        "y_true = df_test[LABEL_COLUMNS].to_numpy()             \n",
        "                     \n",
        "LABELS = LABEL_COLUMNS\n"
      ],
      "execution_count": 29,
      "outputs": []
    },
    {
      "cell_type": "code",
      "metadata": {
        "colab": {
          "base_uri": "https://localhost:8080/",
          "height": 1000
        },
        "id": "hEBLu1J1q_Rn",
        "outputId": "95fa7118-6af7-4009-b427-4ce27f62cd60"
      },
      "source": [
        "#style.use(\"default\")\n",
        "for l in top5:\n",
        "        \n",
        "    plt.figure(figsize=(9,3))\n",
        "    \n",
        "    ax = plt.subplot(1, 2, 1)\n",
        "    plt.xticks(ticks=np.arange(0,1.1,0.1), fontsize=8)\n",
        "    plt.yticks(fontsize=8)\n",
        "    plt.title('Probability distribution - Label '+str(l)+' ('+label_names[l]+')\\nMacro Soft-F1', fontsize=10)\n",
        "    plt.xlim(0,1)\n",
        "    ax = sns.distplot(y_hat_val[:,l], bins=30, kde=True, color=\"g\")\n",
        "    \n",
        "    ax = plt.subplot(1, 2, 2)\n",
        "    plt.xticks(ticks=np.arange(0,1.1,0.1), fontsize=8)\n",
        "    plt.yticks(fontsize=8)\n",
        "    plt.title('Probability distribution - Label '+str(l)+' ('+label_names[l]+')\\nBCE', fontsize=10)\n",
        "    plt.xlim(0,1)\n",
        "    ax = sns.distplot(y_hat_val_bce[:,l], bins=30, kde=True, color=\"b\")\n",
        "    \n",
        "    plt.tight_layout()\n",
        "    plt.show()"
      ],
      "execution_count": 30,
      "outputs": [
        {
          "output_type": "stream",
          "name": "stderr",
          "text": [
            "/usr/local/lib/python3.7/dist-packages/seaborn/distributions.py:2619: FutureWarning: `distplot` is a deprecated function and will be removed in a future version. Please adapt your code to use either `displot` (a figure-level function with similar flexibility) or `histplot` (an axes-level function for histograms).\n",
            "  warnings.warn(msg, FutureWarning)\n",
            "/usr/local/lib/python3.7/dist-packages/seaborn/distributions.py:2619: FutureWarning: `distplot` is a deprecated function and will be removed in a future version. Please adapt your code to use either `displot` (a figure-level function with similar flexibility) or `histplot` (an axes-level function for histograms).\n",
            "  warnings.warn(msg, FutureWarning)\n"
          ]
        },
        {
          "output_type": "display_data",
          "data": {
            "image/png": "[encoded data removed]",
            "text/plain": [
              "<Figure size 648x216 with 2 Axes>"
            ]
          },
          "metadata": {
            "needs_background": "light"
          }
        },
        {
          "output_type": "stream",
          "name": "stderr",
          "text": [
            "/usr/local/lib/python3.7/dist-packages/seaborn/distributions.py:2619: FutureWarning: `distplot` is a deprecated function and will be removed in a future version. Please adapt your code to use either `displot` (a figure-level function with similar flexibility) or `histplot` (an axes-level function for histograms).\n",
            "  warnings.warn(msg, FutureWarning)\n",
            "/usr/local/lib/python3.7/dist-packages/seaborn/distributions.py:2619: FutureWarning: `distplot` is a deprecated function and will be removed in a future version. Please adapt your code to use either `displot` (a figure-level function with similar flexibility) or `histplot` (an axes-level function for histograms).\n",
            "  warnings.warn(msg, FutureWarning)\n"
          ]
        },
        {
          "output_type": "display_data",
          "data": {
            "image/png": "[encoded data removed]",
            "text/plain": [
              "<Figure size 648x216 with 2 Axes>"
            ]
          },
          "metadata": {
            "needs_background": "light"
          }
        },
        {
          "output_type": "stream",
          "name": "stderr",
          "text": [
            "/usr/local/lib/python3.7/dist-packages/seaborn/distributions.py:2619: FutureWarning: `distplot` is a deprecated function and will be removed in a future version. Please adapt your code to use either `displot` (a figure-level function with similar flexibility) or `histplot` (an axes-level function for histograms).\n",
            "  warnings.warn(msg, FutureWarning)\n",
            "/usr/local/lib/python3.7/dist-packages/seaborn/distributions.py:2619: FutureWarning: `distplot` is a deprecated function and will be removed in a future version. Please adapt your code to use either `displot` (a figure-level function with similar flexibility) or `histplot` (an axes-level function for histograms).\n",
            "  warnings.warn(msg, FutureWarning)\n"
          ]
        },
        {
          "output_type": "display_data",
          "data": {
            "image/png": "[encoded data removed]",
            "text/plain": [
              "<Figure size 648x216 with 2 Axes>"
            ]
          },
          "metadata": {
            "needs_background": "light"
          }
        },
        {
          "output_type": "stream",
          "name": "stderr",
          "text": [
            "/usr/local/lib/python3.7/dist-packages/seaborn/distributions.py:2619: FutureWarning: `distplot` is a deprecated function and will be removed in a future version. Please adapt your code to use either `displot` (a figure-level function with similar flexibility) or `histplot` (an axes-level function for histograms).\n",
            "  warnings.warn(msg, FutureWarning)\n",
            "/usr/local/lib/python3.7/dist-packages/seaborn/distributions.py:2619: FutureWarning: `distplot` is a deprecated function and will be removed in a future version. Please adapt your code to use either `displot` (a figure-level function with similar flexibility) or `histplot` (an axes-level function for histograms).\n",
            "  warnings.warn(msg, FutureWarning)\n"
          ]
        },
        {
          "output_type": "display_data",
          "data": {
            "image/png": "[encoded data removed]",
            "text/plain": [
              "<Figure size 648x216 with 2 Axes>"
            ]
          },
          "metadata": {
            "needs_background": "light"
          }
        },
        {
          "output_type": "stream",
          "name": "stderr",
          "text": [
            "/usr/local/lib/python3.7/dist-packages/seaborn/distributions.py:2619: FutureWarning: `distplot` is a deprecated function and will be removed in a future version. Please adapt your code to use either `displot` (a figure-level function with similar flexibility) or `histplot` (an axes-level function for histograms).\n",
            "  warnings.warn(msg, FutureWarning)\n",
            "/usr/local/lib/python3.7/dist-packages/seaborn/distributions.py:2619: FutureWarning: `distplot` is a deprecated function and will be removed in a future version. Please adapt your code to use either `displot` (a figure-level function with similar flexibility) or `histplot` (an axes-level function for histograms).\n",
            "  warnings.warn(msg, FutureWarning)\n"
          ]
        },
        {
          "output_type": "display_data",
          "data": {
            "image/png": "[encoded data removed]",
            "text/plain": [
              "<Figure size 648x216 with 2 Axes>"
            ]
          },
          "metadata": {
            "needs_background": "light"
          }
        }
      ]
    },
    {
      "cell_type": "code",
      "metadata": {
        "id": "GMuRAHfl4Q8F"
      },
      "source": [
        "\"\"\"Batch prediction for validation data\"\"\"\n",
        "tf_batch = tokenizer(df_test[DATA_COLUMN].tolist(), max_length=128, padding=True, truncation=True, return_tensors='tf')\n",
        "tf_outputs = model(tf_batch)\n",
        "predictions = tf.nn.softmax(tf_outputs[0], axis=-1)\n",
        "\n",
        "y_true = df_test[LABEL_COLUMNS].to_numpy()             \n",
        "                     \n",
        "LABELS = LABEL_COLUMNS\n",
        "\n",
        "#X_test = test[\"DATA_COLUMN\"]\n",
        "#predictions = model.predict(X_test, batch_size=1000)\n",
        "\n",
        "\n"
      ],
      "execution_count": 31,
      "outputs": []
    },
    {
      "cell_type": "code",
      "metadata": {
        "id": "NV-XfbcS_437"
      },
      "source": [
        "my_threshold = DECISION_THRESHOLD\n",
        "\n",
        "y_pred = []\n",
        "for sample in predictions.numpy():\n",
        "    y_pred.append([1 if i >= my_threshold else 0 for i in sample ])\n",
        "\n",
        "y_pred = np.array(y_pred)\n",
        "#y_pred[8]\n",
        "#predictions.numpy()[8]\n",
        "\n",
        "#df_predictions = pd.DataFrame(predictions.numpy())\n",
        "\n",
        "#df_predictions\n",
        "#y_true[8]\n",
        "confusion_matrix = multilabel_confusion_matrix(y_true, y_pred)"
      ],
      "execution_count": 43,
      "outputs": []
    },
    {
      "cell_type": "code",
      "metadata": {
        "colab": {
          "base_uri": "https://localhost:8080/"
        },
        "id": "cDcgxW-K7f1T",
        "outputId": "f24b643a-be53-47b1-eb59-62a75c3454cd"
      },
      "source": [
        "\"\"\"Classification report\"\"\"\n",
        "print(classification_report(y_true, y_pred,target_names=LABEL_COLUMNS))"
      ],
      "execution_count": 44,
      "outputs": [
        {
          "output_type": "stream",
          "name": "stdout",
          "text": [
            "                                                 precision    recall  f1-score   support\n",
            "\n",
            "     economic_labour_tension_direction_decrease       0.00      0.00      0.00         0\n",
            "     economic_labour_tension_direction_increase       0.05      1.00      0.09        15\n",
            "           political_tension_direction_decrease       0.00      0.00      0.00         0\n",
            "           political_tension_direction_increase       0.00      0.00      0.00        21\n",
            "     service_related_tension_direction_decrease       0.01      1.00      0.01         2\n",
            "     service_related_tension_direction_increase       0.05      1.00      0.09        16\n",
            "community_insecurity_tension_direction_decrease       0.00      0.00      0.00         0\n",
            "community_insecurity_tension_direction_increase       0.02      1.00      0.03         5\n",
            "\n",
            "                                      micro avg       0.02      0.64      0.04        59\n",
            "                                      macro avg       0.01      0.50      0.03        59\n",
            "                                   weighted avg       0.03      0.64      0.05        59\n",
            "                                    samples avg       0.02      0.11      0.04        59\n",
            "\n"
          ]
        },
        {
          "output_type": "stream",
          "name": "stderr",
          "text": [
            "/usr/local/lib/python3.7/dist-packages/sklearn/metrics/_classification.py:1272: UndefinedMetricWarning: Precision and F-score are ill-defined and being set to 0.0 in labels with no predicted samples. Use `zero_division` parameter to control this behavior.\n",
            "  _warn_prf(average, modifier, msg_start, len(result))\n",
            "/usr/local/lib/python3.7/dist-packages/sklearn/metrics/_classification.py:1272: UndefinedMetricWarning: Recall and F-score are ill-defined and being set to 0.0 in labels with no true samples. Use `zero_division` parameter to control this behavior.\n",
            "  _warn_prf(average, modifier, msg_start, len(result))\n",
            "/usr/local/lib/python3.7/dist-packages/sklearn/metrics/_classification.py:1272: UndefinedMetricWarning: Recall and F-score are ill-defined and being set to 0.0 in samples with no true labels. Use `zero_division` parameter to control this behavior.\n",
            "  _warn_prf(average, modifier, msg_start, len(result))\n"
          ]
        }
      ]
    },
    {
      "cell_type": "code",
      "metadata": {
        "id": "hv26qHHSLRGF"
      },
      "source": [
        "def print_confusion_matrix(confusion_matrix, axes, class_label, class_names, fontsize=14):\n",
        "\n",
        "    df_cm = pd.DataFrame(\n",
        "        confusion_matrix, index=class_names, columns=class_names,\n",
        "    )\n",
        "\n",
        "    try:\n",
        "        heatmap = sns.heatmap(df_cm, annot=True, fmt=\"d\", cbar=False, ax=axes)\n",
        "    except ValueError:\n",
        "        raise ValueError(\"Confusion matrix values must be integers.\")\n",
        "    heatmap.yaxis.set_ticklabels(heatmap.yaxis.get_ticklabels(), rotation=0, ha='right', fontsize=fontsize)\n",
        "    heatmap.xaxis.set_ticklabels(heatmap.xaxis.get_ticklabels(), rotation=45, ha='right', fontsize=fontsize)\n",
        "    axes.set_ylabel('True label')\n",
        "    axes.set_xlabel('Predicted label')\n",
        "    axes.set_title(\"Confusion Matrix for the class - \" + class_label)"
      ],
      "execution_count": 45,
      "outputs": []
    },
    {
      "cell_type": "code",
      "metadata": {
        "colab": {
          "base_uri": "https://localhost:8080/",
          "height": 1000
        },
        "id": "fvmiuQ6RKKLS",
        "outputId": "429e397f-0fef-4280-d8ae-7d300f3f91e8"
      },
      "source": [
        "\"\"\"Visualization of multilabel confusion matrix\"\"\"\n",
        "\n",
        "fig, ax = plt.subplots(4, 2, figsize=(32, 37))\n",
        "    \n",
        "for axes, cfs_matrix, label in zip(ax.flatten(), confusion_matrix, LABEL_COLUMNS):\n",
        "    print_confusion_matrix(cfs_matrix, axes, label, [\"N\", \"Y\"])\n",
        "    \n",
        "fig.tight_layout()\n",
        "plt.show()"
      ],
      "execution_count": 46,
      "outputs": [
        {
          "output_type": "display_data",
          "data": {
            "image/png": "[encoded data removed]",
            "text/plain": [
              "<Figure size 2304x2664 with 8 Axes>"
            ]
          },
          "metadata": {
            "needs_background": "light"
          }
        }
      ]
    },
    {
      "cell_type": "code",
      "metadata": {
        "colab": {
          "base_uri": "https://localhost:8080/",
          "height": 35
        },
        "id": "jR5A6d5gu9Bd",
        "outputId": "9a37da1b-5503-43e3-f8d5-d5c944f505af"
      },
      "source": [
        "\"\"\"Some auxiliary expressions to get an idea about the data structure\"\"\"\n",
        "#df_train\n",
        "#list(train_data.batch(1, drop_remainder=True))\n",
        "#train_input_examples\n",
        "#train_input_examples[1]"
      ],
      "execution_count": null,
      "outputs": [
        {
          "output_type": "execute_result",
          "data": {
            "application/vnd.google.colaboratory.intrinsic+json": {
              "type": "string"
            },
            "text/plain": [
              "'Some auxiliary expressions to get an idea about the data structure'"
            ]
          },
          "metadata": {},
          "execution_count": 94
        }
      ]
    },
    {
      "cell_type": "code",
      "metadata": {
        "id": "fqUecOjz30Ym"
      },
      "source": [
        ""
      ],
      "execution_count": null,
      "outputs": []
    },
    {
      "cell_type": "markdown",
      "metadata": {
        "id": "jMLwIG2FnkD2"
      },
      "source": [
        "## Baseline model using the annotations from the training data\n",
        "\n",
        "This is quite horribly written and has a double loop in the predict which makes it slow so \n",
        "should probably be cleaned up etc"
      ]
    },
    {
      "cell_type": "code",
      "metadata": {
        "id": "cgx9CnUKnkD2"
      },
      "source": [
        "df_annotations = pd.merge(train_df, df_appendix, on=\"object_id\")"
      ],
      "execution_count": null,
      "outputs": []
    },
    {
      "cell_type": "code",
      "metadata": {
        "id": "XRRkoyX-nkD2"
      },
      "source": [
        "TENSIONS = [\n",
        "    \"economic_labour_tension\",\n",
        "    \"political_tension\",\n",
        "    \"service_related_tension\",\n",
        "    \"community_insecurity_tension\",\n",
        "]\n",
        "\n",
        "all_feats = []\n",
        "for tension in TENSIONS:\n",
        "    feats = df_annotations[~df_annotations[f\"{tension}_features\"].isnull()][f\"{tension}_features\"]\n",
        "    if len(feats) > 0:\n",
        "        feats = pd.DataFrame({\"feature\": feats.str.split(\",\").explode()})\n",
        "        feats[\"tension\"] = tension\n",
        "        all_feats.append(feats)\n",
        "feats = pd.concat(all_feats, ignore_index=True, axis=0)\n",
        "feats = {f[\"feature\"]: f[\"tension\"] for _, f in feats.iterrows()}\n",
        "\n",
        "\n",
        "class Baseline(BaseEstimator, ClassifierMixin):\n",
        "    def __init__(self, features):\n",
        "        self.features = features\n",
        "\n",
        "    def fit(self, X, y=None):\n",
        "        return self\n",
        "\n",
        "    def predict(self, X):\n",
        "        predictions = []\n",
        "        for _, row in X.iterrows():\n",
        "            out = {f\"is_{t}\": False for t in TENSIONS}\n",
        "            for feat, tension in self.features.items():\n",
        "                if feat in row[\"text\"]:\n",
        "                    out[f\"is_{tension}\"] = True\n",
        "            predictions.append(out)\n",
        "        return pd.DataFrame(predictions)[COL_ORDER].values"
      ],
      "execution_count": null,
      "outputs": []
    },
    {
      "cell_type": "code",
      "metadata": {
        "id": "Yq85VsNWnkD3"
      },
      "source": [
        "def test(model, df):\n",
        "    preds = model.predict(df)\n",
        "    return metrics.f1_score(df[COL_ORDER].values, preds, average=\"macro\")"
      ],
      "execution_count": null,
      "outputs": []
    },
    {
      "cell_type": "code",
      "metadata": {
        "id": "0P0JIctrnkD4",
        "outputId": "4dc3139d-fc68-4010-eb4e-d6bd2c3dcee4"
      },
      "source": [
        "model = Baseline(feats)\n",
        "\n",
        "test(model, train_df), test(model, test_df)"
      ],
      "execution_count": null,
      "outputs": [
        {
          "data": {
            "text/plain": [
              "(0.08444991747911457, 0.0)"
            ]
          },
          "execution_count": 100,
          "metadata": {},
          "output_type": "execute_result"
        }
      ]
    },
    {
      "cell_type": "markdown",
      "metadata": {
        "id": "Oor2wVyFnkD4"
      },
      "source": [
        "## Quick and dirty Random Forest classifier using the topics"
      ]
    },
    {
      "cell_type": "code",
      "metadata": {
        "id": "RGM_VcCXnkD4"
      },
      "source": [
        "class CategoricalColumns(BaseEstimator, TransformerMixin):\n",
        "    \"\"\"CategoricalColumns is a quick and dirty One Hot Encoder transformer for the topics column.\"\"\"\n",
        "    def fit(self, df, y=None):\n",
        "        topics = self._to_array(df[\"topics\"])\n",
        "        columns = topics.explode().unique()\n",
        "        self.columns = [c.strip() for c in columns]\n",
        "        return self\n",
        "        \n",
        "    def transform(self, df):\n",
        "        out = {}\n",
        "        for col in self.columns:\n",
        "            out[col] = df[\"topics\"].str.contains(col).astype(int)\n",
        "        return pd.DataFrame(out)\n",
        "        \n",
        "    def _to_array(self, series):\n",
        "        \"\"\"Clean up a series to \"\"\"\n",
        "        remove = [\"[\", \"]\", \"'\"]\n",
        "        for char in remove:\n",
        "            series = series.str.replace(char, \"\", regex=False)\n",
        "        return series.str.split(\",\")"
      ],
      "execution_count": null,
      "outputs": []
    },
    {
      "cell_type": "code",
      "metadata": {
        "id": "3GgeSW1onkD4",
        "outputId": "9ca20eba-cb74-4aa7-e3a1-7280a43f88be"
      },
      "source": [
        "#CategoricalColumns returns this one-hot encoding.\n",
        "CategoricalColumns().fit_transform(train_df)"
      ],
      "execution_count": null,
      "outputs": [
        {
          "data": {
            "text/html": [
              "<div>\n",
              "<style scoped>\n",
              "    .dataframe tbody tr th:only-of-type {\n",
              "        vertical-align: middle;\n",
              "    }\n",
              "\n",
              "    .dataframe tbody tr th {\n",
              "        vertical-align: top;\n",
              "    }\n",
              "\n",
              "    .dataframe thead th {\n",
              "        text-align: right;\n",
              "    }\n",
              "</style>\n",
              "<table border=\"1\" class=\"dataframe\">\n",
              "  <thead>\n",
              "    <tr style=\"text-align: right;\">\n",
              "      <th></th>\n",
              "      <th>other</th>\n",
              "      <th>lebanese army/security forces</th>\n",
              "      <th>religious figure</th>\n",
              "      <th>covid / vaccination</th>\n",
              "      <th>beirut</th>\n",
              "      <th>economic collapse</th>\n",
              "      <th>education</th>\n",
              "      <th>foreign countries</th>\n",
              "      <th>lebanese revolution</th>\n",
              "      <th>north lebanon</th>\n",
              "      <th>...</th>\n",
              "      <th>occupied palestine</th>\n",
              "      <th>false news</th>\n",
              "      <th>call for protest</th>\n",
              "      <th>aid</th>\n",
              "      <th>external affairs/diplomacy</th>\n",
              "      <th>offensive language</th>\n",
              "      <th>international organizations / un</th>\n",
              "      <th>south lebanon</th>\n",
              "      <th>lebanese judiciary</th>\n",
              "      <th>asad regime</th>\n",
              "    </tr>\n",
              "  </thead>\n",
              "  <tbody>\n",
              "    <tr>\n",
              "      <th>1409</th>\n",
              "      <td>1</td>\n",
              "      <td>0</td>\n",
              "      <td>0</td>\n",
              "      <td>0</td>\n",
              "      <td>0</td>\n",
              "      <td>0</td>\n",
              "      <td>0</td>\n",
              "      <td>0</td>\n",
              "      <td>0</td>\n",
              "      <td>0</td>\n",
              "      <td>...</td>\n",
              "      <td>0</td>\n",
              "      <td>0</td>\n",
              "      <td>0</td>\n",
              "      <td>0</td>\n",
              "      <td>0</td>\n",
              "      <td>0</td>\n",
              "      <td>0</td>\n",
              "      <td>0</td>\n",
              "      <td>0</td>\n",
              "      <td>0</td>\n",
              "    </tr>\n",
              "    <tr>\n",
              "      <th>963</th>\n",
              "      <td>1</td>\n",
              "      <td>0</td>\n",
              "      <td>0</td>\n",
              "      <td>0</td>\n",
              "      <td>0</td>\n",
              "      <td>0</td>\n",
              "      <td>0</td>\n",
              "      <td>0</td>\n",
              "      <td>0</td>\n",
              "      <td>0</td>\n",
              "      <td>...</td>\n",
              "      <td>0</td>\n",
              "      <td>0</td>\n",
              "      <td>0</td>\n",
              "      <td>0</td>\n",
              "      <td>0</td>\n",
              "      <td>0</td>\n",
              "      <td>0</td>\n",
              "      <td>0</td>\n",
              "      <td>0</td>\n",
              "      <td>0</td>\n",
              "    </tr>\n",
              "    <tr>\n",
              "      <th>1450</th>\n",
              "      <td>1</td>\n",
              "      <td>0</td>\n",
              "      <td>0</td>\n",
              "      <td>0</td>\n",
              "      <td>0</td>\n",
              "      <td>0</td>\n",
              "      <td>0</td>\n",
              "      <td>0</td>\n",
              "      <td>0</td>\n",
              "      <td>0</td>\n",
              "      <td>...</td>\n",
              "      <td>0</td>\n",
              "      <td>0</td>\n",
              "      <td>0</td>\n",
              "      <td>0</td>\n",
              "      <td>0</td>\n",
              "      <td>0</td>\n",
              "      <td>0</td>\n",
              "      <td>0</td>\n",
              "      <td>0</td>\n",
              "      <td>0</td>\n",
              "    </tr>\n",
              "    <tr>\n",
              "      <th>1174</th>\n",
              "      <td>1</td>\n",
              "      <td>0</td>\n",
              "      <td>0</td>\n",
              "      <td>0</td>\n",
              "      <td>0</td>\n",
              "      <td>0</td>\n",
              "      <td>0</td>\n",
              "      <td>0</td>\n",
              "      <td>0</td>\n",
              "      <td>0</td>\n",
              "      <td>...</td>\n",
              "      <td>0</td>\n",
              "      <td>0</td>\n",
              "      <td>0</td>\n",
              "      <td>0</td>\n",
              "      <td>0</td>\n",
              "      <td>0</td>\n",
              "      <td>0</td>\n",
              "      <td>0</td>\n",
              "      <td>0</td>\n",
              "      <td>0</td>\n",
              "    </tr>\n",
              "    <tr>\n",
              "      <th>452</th>\n",
              "      <td>1</td>\n",
              "      <td>0</td>\n",
              "      <td>0</td>\n",
              "      <td>0</td>\n",
              "      <td>0</td>\n",
              "      <td>0</td>\n",
              "      <td>0</td>\n",
              "      <td>0</td>\n",
              "      <td>0</td>\n",
              "      <td>0</td>\n",
              "      <td>...</td>\n",
              "      <td>0</td>\n",
              "      <td>0</td>\n",
              "      <td>0</td>\n",
              "      <td>0</td>\n",
              "      <td>0</td>\n",
              "      <td>0</td>\n",
              "      <td>0</td>\n",
              "      <td>0</td>\n",
              "      <td>0</td>\n",
              "      <td>0</td>\n",
              "    </tr>\n",
              "    <tr>\n",
              "      <th>...</th>\n",
              "      <td>...</td>\n",
              "      <td>...</td>\n",
              "      <td>...</td>\n",
              "      <td>...</td>\n",
              "      <td>...</td>\n",
              "      <td>...</td>\n",
              "      <td>...</td>\n",
              "      <td>...</td>\n",
              "      <td>...</td>\n",
              "      <td>...</td>\n",
              "      <td>...</td>\n",
              "      <td>...</td>\n",
              "      <td>...</td>\n",
              "      <td>...</td>\n",
              "      <td>...</td>\n",
              "      <td>...</td>\n",
              "      <td>...</td>\n",
              "      <td>...</td>\n",
              "      <td>...</td>\n",
              "      <td>...</td>\n",
              "      <td>...</td>\n",
              "    </tr>\n",
              "    <tr>\n",
              "      <th>621</th>\n",
              "      <td>1</td>\n",
              "      <td>0</td>\n",
              "      <td>0</td>\n",
              "      <td>0</td>\n",
              "      <td>0</td>\n",
              "      <td>0</td>\n",
              "      <td>0</td>\n",
              "      <td>0</td>\n",
              "      <td>0</td>\n",
              "      <td>0</td>\n",
              "      <td>...</td>\n",
              "      <td>0</td>\n",
              "      <td>0</td>\n",
              "      <td>0</td>\n",
              "      <td>0</td>\n",
              "      <td>0</td>\n",
              "      <td>0</td>\n",
              "      <td>0</td>\n",
              "      <td>0</td>\n",
              "      <td>0</td>\n",
              "      <td>0</td>\n",
              "    </tr>\n",
              "    <tr>\n",
              "      <th>1152</th>\n",
              "      <td>0</td>\n",
              "      <td>0</td>\n",
              "      <td>0</td>\n",
              "      <td>0</td>\n",
              "      <td>0</td>\n",
              "      <td>1</td>\n",
              "      <td>0</td>\n",
              "      <td>0</td>\n",
              "      <td>0</td>\n",
              "      <td>0</td>\n",
              "      <td>...</td>\n",
              "      <td>0</td>\n",
              "      <td>0</td>\n",
              "      <td>0</td>\n",
              "      <td>0</td>\n",
              "      <td>0</td>\n",
              "      <td>0</td>\n",
              "      <td>0</td>\n",
              "      <td>0</td>\n",
              "      <td>0</td>\n",
              "      <td>0</td>\n",
              "    </tr>\n",
              "    <tr>\n",
              "      <th>57</th>\n",
              "      <td>1</td>\n",
              "      <td>0</td>\n",
              "      <td>0</td>\n",
              "      <td>0</td>\n",
              "      <td>0</td>\n",
              "      <td>0</td>\n",
              "      <td>0</td>\n",
              "      <td>0</td>\n",
              "      <td>0</td>\n",
              "      <td>0</td>\n",
              "      <td>...</td>\n",
              "      <td>0</td>\n",
              "      <td>0</td>\n",
              "      <td>0</td>\n",
              "      <td>0</td>\n",
              "      <td>0</td>\n",
              "      <td>0</td>\n",
              "      <td>0</td>\n",
              "      <td>0</td>\n",
              "      <td>0</td>\n",
              "      <td>0</td>\n",
              "    </tr>\n",
              "    <tr>\n",
              "      <th>1365</th>\n",
              "      <td>1</td>\n",
              "      <td>0</td>\n",
              "      <td>0</td>\n",
              "      <td>0</td>\n",
              "      <td>0</td>\n",
              "      <td>0</td>\n",
              "      <td>0</td>\n",
              "      <td>0</td>\n",
              "      <td>0</td>\n",
              "      <td>0</td>\n",
              "      <td>...</td>\n",
              "      <td>0</td>\n",
              "      <td>0</td>\n",
              "      <td>0</td>\n",
              "      <td>0</td>\n",
              "      <td>0</td>\n",
              "      <td>0</td>\n",
              "      <td>0</td>\n",
              "      <td>0</td>\n",
              "      <td>0</td>\n",
              "      <td>0</td>\n",
              "    </tr>\n",
              "    <tr>\n",
              "      <th>1140</th>\n",
              "      <td>1</td>\n",
              "      <td>0</td>\n",
              "      <td>0</td>\n",
              "      <td>0</td>\n",
              "      <td>0</td>\n",
              "      <td>0</td>\n",
              "      <td>0</td>\n",
              "      <td>0</td>\n",
              "      <td>0</td>\n",
              "      <td>0</td>\n",
              "      <td>...</td>\n",
              "      <td>0</td>\n",
              "      <td>0</td>\n",
              "      <td>0</td>\n",
              "      <td>0</td>\n",
              "      <td>0</td>\n",
              "      <td>0</td>\n",
              "      <td>0</td>\n",
              "      <td>0</td>\n",
              "      <td>0</td>\n",
              "      <td>0</td>\n",
              "    </tr>\n",
              "  </tbody>\n",
              "</table>\n",
              "<p>1315 rows × 33 columns</p>\n",
              "</div>"
            ],
            "text/plain": [
              "      other  lebanese army/security forces  religious figure  \\\n",
              "1409      1                              0                 0   \n",
              "963       1                              0                 0   \n",
              "1450      1                              0                 0   \n",
              "1174      1                              0                 0   \n",
              "452       1                              0                 0   \n",
              "...     ...                            ...               ...   \n",
              "621       1                              0                 0   \n",
              "1152      0                              0                 0   \n",
              "57        1                              0                 0   \n",
              "1365      1                              0                 0   \n",
              "1140      1                              0                 0   \n",
              "\n",
              "      covid / vaccination  beirut  economic collapse  education  \\\n",
              "1409                    0       0                  0          0   \n",
              "963                     0       0                  0          0   \n",
              "1450                    0       0                  0          0   \n",
              "1174                    0       0                  0          0   \n",
              "452                     0       0                  0          0   \n",
              "...                   ...     ...                ...        ...   \n",
              "621                     0       0                  0          0   \n",
              "1152                    0       0                  1          0   \n",
              "57                      0       0                  0          0   \n",
              "1365                    0       0                  0          0   \n",
              "1140                    0       0                  0          0   \n",
              "\n",
              "      foreign countries  lebanese revolution  north lebanon  ...  \\\n",
              "1409                  0                    0              0  ...   \n",
              "963                   0                    0              0  ...   \n",
              "1450                  0                    0              0  ...   \n",
              "1174                  0                    0              0  ...   \n",
              "452                   0                    0              0  ...   \n",
              "...                 ...                  ...            ...  ...   \n",
              "621                   0                    0              0  ...   \n",
              "1152                  0                    0              0  ...   \n",
              "57                    0                    0              0  ...   \n",
              "1365                  0                    0              0  ...   \n",
              "1140                  0                    0              0  ...   \n",
              "\n",
              "      occupied palestine  false news  call for protest  aid  \\\n",
              "1409                   0           0                 0    0   \n",
              "963                    0           0                 0    0   \n",
              "1450                   0           0                 0    0   \n",
              "1174                   0           0                 0    0   \n",
              "452                    0           0                 0    0   \n",
              "...                  ...         ...               ...  ...   \n",
              "621                    0           0                 0    0   \n",
              "1152                   0           0                 0    0   \n",
              "57                     0           0                 0    0   \n",
              "1365                   0           0                 0    0   \n",
              "1140                   0           0                 0    0   \n",
              "\n",
              "      external affairs/diplomacy  offensive language  \\\n",
              "1409                           0                   0   \n",
              "963                            0                   0   \n",
              "1450                           0                   0   \n",
              "1174                           0                   0   \n",
              "452                            0                   0   \n",
              "...                          ...                 ...   \n",
              "621                            0                   0   \n",
              "1152                           0                   0   \n",
              "57                             0                   0   \n",
              "1365                           0                   0   \n",
              "1140                           0                   0   \n",
              "\n",
              "      international organizations / un  south lebanon  lebanese judiciary  \\\n",
              "1409                                 0              0                   0   \n",
              "963                                  0              0                   0   \n",
              "1450                                 0              0                   0   \n",
              "1174                                 0              0                   0   \n",
              "452                                  0              0                   0   \n",
              "...                                ...            ...                 ...   \n",
              "621                                  0              0                   0   \n",
              "1152                                 0              0                   0   \n",
              "57                                   0              0                   0   \n",
              "1365                                 0              0                   0   \n",
              "1140                                 0              0                   0   \n",
              "\n",
              "      asad regime  \n",
              "1409            0  \n",
              "963             0  \n",
              "1450            0  \n",
              "1174            0  \n",
              "452             0  \n",
              "...           ...  \n",
              "621             0  \n",
              "1152            0  \n",
              "57              0  \n",
              "1365            0  \n",
              "1140            0  \n",
              "\n",
              "[1315 rows x 33 columns]"
            ]
          },
          "execution_count": 102,
          "metadata": {},
          "output_type": "execute_result"
        }
      ]
    },
    {
      "cell_type": "code",
      "metadata": {
        "id": "Ruw4NI6fnkD5",
        "outputId": "0f66216e-bddd-4388-8a03-8cd4004d9778"
      },
      "source": [
        "forest = RandomForestClassifier(random_state=2021, class_weight=\"balanced\")\n",
        "multi_target_forest = MultiOutputClassifier(forest, n_jobs=-1)\n",
        "\n",
        "model = Pipeline(\n",
        "    [\n",
        "        (\"categories\", CategoricalColumns()),\n",
        "        (\"random_forest\", multi_target_forest)\n",
        "    ]\n",
        ")\n",
        "\n",
        "model = model.fit(train_df, train_df[COL_ORDER].values)\n",
        "\n",
        "test(model, train_df), test(model, test_df)"
      ],
      "execution_count": null,
      "outputs": [
        {
          "data": {
            "text/plain": [
              "(0.23948309102198564, 0.20484195032733407)"
            ]
          },
          "execution_count": 103,
          "metadata": {},
          "output_type": "execute_result"
        }
      ]
    }
  ]
}